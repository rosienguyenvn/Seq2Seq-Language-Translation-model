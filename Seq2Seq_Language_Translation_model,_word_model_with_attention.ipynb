{
  "cells": [
    {
      "cell_type": "markdown",
      "id": "9064fc14",
      "metadata": {
        "id": "9064fc14"
      },
      "source": [
        "# Seq2Seq Language Translation model, word model with attention\n",
        "\n",
        "### Rosie Nguyen"
      ]
    },
    {
      "cell_type": "markdown",
      "id": "61702b59",
      "metadata": {
        "id": "61702b59"
      },
      "source": [
        "### See Datasets: http://www.manythings.org/anki/"
      ]
    },
    {
      "cell_type": "markdown",
      "id": "28064d99",
      "metadata": {
        "id": "28064d99"
      },
      "source": [
        "### Import Libraries"
      ]
    },
    {
      "cell_type": "code",
      "execution_count": null,
      "id": "620a1282",
      "metadata": {
        "id": "620a1282",
        "outputId": "81f4f75c-c382-4566-e78f-bc239b325c0e"
      },
      "outputs": [
        {
          "name": "stdout",
          "output_type": "stream",
          "text": [
            "Requirement already satisfied: tensorflow_text in c:\\anaconda3\\envs\\tensorflow\\lib\\site-packages (2.6.0)\n",
            "Requirement already satisfied: tensorflow<2.7,>=2.6.0 in c:\\anaconda3\\envs\\tensorflow\\lib\\site-packages (from tensorflow_text) (2.6.0)\n",
            "Requirement already satisfied: tensorflow-hub>=0.8.0 in c:\\anaconda3\\envs\\tensorflow\\lib\\site-packages (from tensorflow_text) (0.12.0)\n",
            "Requirement already satisfied: h5py~=3.1.0 in c:\\anaconda3\\envs\\tensorflow\\lib\\site-packages (from tensorflow<2.7,>=2.6.0->tensorflow_text) (3.1.0)\n",
            "Requirement already satisfied: clang~=5.0 in c:\\users\\nhung\\appdata\\roaming\\python\\python38\\site-packages (from tensorflow<2.7,>=2.6.0->tensorflow_text) (5.0)\n",
            "Requirement already satisfied: numpy~=1.19.2 in c:\\anaconda3\\envs\\tensorflow\\lib\\site-packages (from tensorflow<2.7,>=2.6.0->tensorflow_text) (1.19.5)\n",
            "Requirement already satisfied: keras~=2.6 in c:\\anaconda3\\envs\\tensorflow\\lib\\site-packages (from tensorflow<2.7,>=2.6.0->tensorflow_text) (2.6.0)\n",
            "Requirement already satisfied: absl-py~=0.10 in c:\\anaconda3\\envs\\tensorflow\\lib\\site-packages (from tensorflow<2.7,>=2.6.0->tensorflow_text) (0.13.0)\n",
            "Requirement already satisfied: google-pasta~=0.2 in c:\\anaconda3\\envs\\tensorflow\\lib\\site-packages (from tensorflow<2.7,>=2.6.0->tensorflow_text) (0.2.0)\n",
            "Requirement already satisfied: protobuf>=3.9.2 in c:\\anaconda3\\envs\\tensorflow\\lib\\site-packages (from tensorflow<2.7,>=2.6.0->tensorflow_text) (3.17.2)\n",
            "Requirement already satisfied: astunparse~=1.6.3 in c:\\anaconda3\\envs\\tensorflow\\lib\\site-packages (from tensorflow<2.7,>=2.6.0->tensorflow_text) (1.6.3)\n",
            "Requirement already satisfied: typing-extensions~=3.7.4 in c:\\anaconda3\\envs\\tensorflow\\lib\\site-packages (from tensorflow<2.7,>=2.6.0->tensorflow_text) (3.7.4.3)\n",
            "Requirement already satisfied: grpcio<2.0,>=1.37.0 in c:\\anaconda3\\envs\\tensorflow\\lib\\site-packages (from tensorflow<2.7,>=2.6.0->tensorflow_text) (1.41.1)\n",
            "Requirement already satisfied: keras-preprocessing~=1.1.2 in c:\\anaconda3\\envs\\tensorflow\\lib\\site-packages (from tensorflow<2.7,>=2.6.0->tensorflow_text) (1.1.2)\n",
            "Requirement already satisfied: tensorflow-estimator~=2.6 in c:\\anaconda3\\envs\\tensorflow\\lib\\site-packages (from tensorflow<2.7,>=2.6.0->tensorflow_text) (2.6.0)\n",
            "Requirement already satisfied: wrapt~=1.12.1 in c:\\anaconda3\\envs\\tensorflow\\lib\\site-packages (from tensorflow<2.7,>=2.6.0->tensorflow_text) (1.12.1)\n",
            "Requirement already satisfied: opt-einsum~=3.3.0 in c:\\anaconda3\\envs\\tensorflow\\lib\\site-packages (from tensorflow<2.7,>=2.6.0->tensorflow_text) (3.3.0)\n",
            "Requirement already satisfied: six~=1.15.0 in c:\\anaconda3\\envs\\tensorflow\\lib\\site-packages (from tensorflow<2.7,>=2.6.0->tensorflow_text) (1.15.0)\n",
            "Requirement already satisfied: termcolor~=1.1.0 in c:\\anaconda3\\envs\\tensorflow\\lib\\site-packages (from tensorflow<2.7,>=2.6.0->tensorflow_text) (1.1.0)\n",
            "Requirement already satisfied: gast==0.4.0 in c:\\anaconda3\\envs\\tensorflow\\lib\\site-packages (from tensorflow<2.7,>=2.6.0->tensorflow_text) (0.4.0)\n",
            "Requirement already satisfied: tensorboard~=2.6 in c:\\anaconda3\\envs\\tensorflow\\lib\\site-packages (from tensorflow<2.7,>=2.6.0->tensorflow_text) (2.7.0)\n",
            "Requirement already satisfied: flatbuffers~=1.12.0 in c:\\users\\nhung\\appdata\\roaming\\python\\python38\\site-packages (from tensorflow<2.7,>=2.6.0->tensorflow_text) (1.12)\n",
            "Requirement already satisfied: wheel~=0.35 in c:\\anaconda3\\envs\\tensorflow\\lib\\site-packages (from tensorflow<2.7,>=2.6.0->tensorflow_text) (0.37.0)\n",
            "Requirement already satisfied: markdown>=2.6.8 in c:\\anaconda3\\envs\\tensorflow\\lib\\site-packages (from tensorboard~=2.6->tensorflow<2.7,>=2.6.0->tensorflow_text) (3.3.4)\n",
            "Requirement already satisfied: tensorboard-plugin-wit>=1.6.0 in c:\\anaconda3\\envs\\tensorflow\\lib\\site-packages (from tensorboard~=2.6->tensorflow<2.7,>=2.6.0->tensorflow_text) (1.6.0)\n",
            "Requirement already satisfied: tensorboard-data-server<0.7.0,>=0.6.0 in c:\\anaconda3\\envs\\tensorflow\\lib\\site-packages (from tensorboard~=2.6->tensorflow<2.7,>=2.6.0->tensorflow_text) (0.6.1)\n",
            "Requirement already satisfied: requests<3,>=2.21.0 in c:\\anaconda3\\envs\\tensorflow\\lib\\site-packages (from tensorboard~=2.6->tensorflow<2.7,>=2.6.0->tensorflow_text) (2.26.0)\n",
            "Requirement already satisfied: werkzeug>=0.11.15 in c:\\anaconda3\\envs\\tensorflow\\lib\\site-packages (from tensorboard~=2.6->tensorflow<2.7,>=2.6.0->tensorflow_text) (2.0.1)\n",
            "Requirement already satisfied: google-auth-oauthlib<0.5,>=0.4.1 in c:\\anaconda3\\envs\\tensorflow\\lib\\site-packages (from tensorboard~=2.6->tensorflow<2.7,>=2.6.0->tensorflow_text) (0.4.4)\n",
            "Requirement already satisfied: google-auth<3,>=1.6.3 in c:\\anaconda3\\envs\\tensorflow\\lib\\site-packages (from tensorboard~=2.6->tensorflow<2.7,>=2.6.0->tensorflow_text) (1.33.0)\n",
            "Requirement already satisfied: setuptools>=41.0.0 in c:\\anaconda3\\envs\\tensorflow\\lib\\site-packages (from tensorboard~=2.6->tensorflow<2.7,>=2.6.0->tensorflow_text) (58.0.4)\n",
            "Requirement already satisfied: cachetools<5.0,>=2.0.0 in c:\\anaconda3\\envs\\tensorflow\\lib\\site-packages (from google-auth<3,>=1.6.3->tensorboard~=2.6->tensorflow<2.7,>=2.6.0->tensorflow_text) (4.2.2)\n",
            "Requirement already satisfied: rsa<5,>=3.1.4 in c:\\anaconda3\\envs\\tensorflow\\lib\\site-packages (from google-auth<3,>=1.6.3->tensorboard~=2.6->tensorflow<2.7,>=2.6.0->tensorflow_text) (4.7.2)\n",
            "Requirement already satisfied: pyasn1-modules>=0.2.1 in c:\\anaconda3\\envs\\tensorflow\\lib\\site-packages (from google-auth<3,>=1.6.3->tensorboard~=2.6->tensorflow<2.7,>=2.6.0->tensorflow_text) (0.2.8)\n",
            "Requirement already satisfied: requests-oauthlib>=0.7.0 in c:\\anaconda3\\envs\\tensorflow\\lib\\site-packages (from google-auth-oauthlib<0.5,>=0.4.1->tensorboard~=2.6->tensorflow<2.7,>=2.6.0->tensorflow_text) (1.3.0)\n",
            "Requirement already satisfied: pyasn1<0.5.0,>=0.4.6 in c:\\anaconda3\\envs\\tensorflow\\lib\\site-packages (from pyasn1-modules>=0.2.1->google-auth<3,>=1.6.3->tensorboard~=2.6->tensorflow<2.7,>=2.6.0->tensorflow_text) (0.4.8)\n",
            "Requirement already satisfied: certifi>=2017.4.17 in c:\\anaconda3\\envs\\tensorflow\\lib\\site-packages (from requests<3,>=2.21.0->tensorboard~=2.6->tensorflow<2.7,>=2.6.0->tensorflow_text) (2021.10.8)\n",
            "Requirement already satisfied: idna<4,>=2.5 in c:\\anaconda3\\envs\\tensorflow\\lib\\site-packages (from requests<3,>=2.21.0->tensorboard~=2.6->tensorflow<2.7,>=2.6.0->tensorflow_text) (3.2)\n",
            "Requirement already satisfied: charset-normalizer~=2.0.0 in c:\\anaconda3\\envs\\tensorflow\\lib\\site-packages (from requests<3,>=2.21.0->tensorboard~=2.6->tensorflow<2.7,>=2.6.0->tensorflow_text) (2.0.4)\n",
            "Requirement already satisfied: urllib3<1.27,>=1.21.1 in c:\\anaconda3\\envs\\tensorflow\\lib\\site-packages (from requests<3,>=2.21.0->tensorboard~=2.6->tensorflow<2.7,>=2.6.0->tensorflow_text) (1.26.7)\n",
            "Requirement already satisfied: oauthlib>=3.0.0 in c:\\anaconda3\\envs\\tensorflow\\lib\\site-packages (from requests-oauthlib>=0.7.0->google-auth-oauthlib<0.5,>=0.4.1->tensorboard~=2.6->tensorflow<2.7,>=2.6.0->tensorflow_text) (3.1.1)\n",
            "Note: you may need to restart the kernel to use updated packages.\n"
          ]
        }
      ],
      "source": [
        "pip install tensorflow_text"
      ]
    },
    {
      "cell_type": "code",
      "execution_count": null,
      "id": "00108fd1",
      "metadata": {
        "id": "00108fd1"
      },
      "outputs": [],
      "source": [
        "import pandas as pd\n",
        "from sklearn.model_selection import train_test_split\n",
        "import string\n",
        "from string import digits\n",
        "import re\n",
        "from sklearn.utils import shuffle\n",
        "from keras.preprocessing.sequence import pad_sequences\n",
        "from keras.layers import LSTM, Input, Dense,Embedding\n",
        "from keras.models import Model,load_model\n",
        "from keras.preprocessing.text import one_hot\n",
        "from keras.preprocessing.text import Tokenizer\n",
        "from keras.models import model_from_json\n",
        "import pickle as pkl\n",
        "import numpy as np\n",
        "from keras.utils.vis_utils import plot_model\n",
        "import matplotlib.pyplot as plt\n",
        "import typing\n",
        "from typing import Any, Tuple\n",
        "import tensorflow as tf\n",
        "from tensorflow.keras.layers.experimental import preprocessing\n",
        "import tensorflow_text as tf_text\n",
        "import matplotlib.ticker as ticker"
      ]
    },
    {
      "cell_type": "markdown",
      "id": "38f87193",
      "metadata": {
        "id": "38f87193"
      },
      "source": [
        "We will need to build a few layers from scratch, use this variable to switch between the custom and builtin implementations."
      ]
    },
    {
      "cell_type": "code",
      "execution_count": null,
      "id": "7b7d9aeb",
      "metadata": {
        "id": "7b7d9aeb"
      },
      "outputs": [],
      "source": [
        "use_builtins = True"
      ]
    },
    {
      "cell_type": "markdown",
      "id": "5a07ea6b",
      "metadata": {
        "id": "5a07ea6b"
      },
      "source": [
        "the shape checker class is used to check shapes throughout the tutorial."
      ]
    },
    {
      "cell_type": "code",
      "execution_count": null,
      "id": "cf6ad2a4",
      "metadata": {
        "id": "cf6ad2a4"
      },
      "outputs": [],
      "source": [
        "#Shape checker\n",
        "class ShapeChecker():\n",
        "  def __init__(self):\n",
        "    # Keep a cache of every axis-name seen\n",
        "    self.shapes = {}\n",
        "\n",
        "  def __call__(self, tensor, names, broadcast=False):\n",
        "    if not tf.executing_eagerly():\n",
        "      return\n",
        "\n",
        "    if isinstance(names, str):\n",
        "      names = (names,)\n",
        "\n",
        "    shape = tf.shape(tensor)\n",
        "    rank = tf.rank(tensor)\n",
        "\n",
        "    if rank != len(names):\n",
        "      raise ValueError(f'Rank mismatch:\\n'\n",
        "                       f'    found {rank}: {shape.numpy()}\\n'\n",
        "                       f'    expected {len(names)}: {names}\\n')\n",
        "\n",
        "    for i, name in enumerate(names):\n",
        "      if isinstance(name, int):\n",
        "        old_dim = name\n",
        "      else:\n",
        "        old_dim = self.shapes.get(name, None)\n",
        "      new_dim = shape[i]\n",
        "\n",
        "      if (broadcast and new_dim == 1):\n",
        "        continue\n",
        "\n",
        "      if old_dim is None:\n",
        "        # If the axis name is new, add its length to the cache.\n",
        "        self.shapes[name] = new_dim\n",
        "        continue\n",
        "\n",
        "      if new_dim != old_dim:\n",
        "        raise ValueError(f\"Shape mismatch for dimension: '{name}'\\n\"\n",
        "                         f\"    found: {new_dim}\\n\"\n",
        "                         f\"    expected: {old_dim}\\n\")"
      ]
    },
    {
      "cell_type": "markdown",
      "id": "e96b30e1",
      "metadata": {
        "id": "e96b30e1"
      },
      "source": [
        "### Load the data"
      ]
    },
    {
      "cell_type": "code",
      "execution_count": null,
      "id": "38e67759",
      "metadata": {
        "id": "38e67759",
        "outputId": "cc995dea-91fc-422b-b998-2577d10e7116"
      },
      "outputs": [
        {
          "data": {
            "text/html": [
              "<div>\n",
              "<style scoped>\n",
              "    .dataframe tbody tr th:only-of-type {\n",
              "        vertical-align: middle;\n",
              "    }\n",
              "\n",
              "    .dataframe tbody tr th {\n",
              "        vertical-align: top;\n",
              "    }\n",
              "\n",
              "    .dataframe thead th {\n",
              "        text-align: right;\n",
              "    }\n",
              "</style>\n",
              "<table border=\"1\" class=\"dataframe\">\n",
              "  <thead>\n",
              "    <tr style=\"text-align: right;\">\n",
              "      <th></th>\n",
              "      <th>English</th>\n",
              "      <th>Vietnamese</th>\n",
              "      <th>Others</th>\n",
              "    </tr>\n",
              "  </thead>\n",
              "  <tbody>\n",
              "    <tr>\n",
              "      <th>0</th>\n",
              "      <td>Run!</td>\n",
              "      <td>Chạy!</td>\n",
              "      <td>CC-BY 2.0 (France) Attribution: tatoeba.org #9...</td>\n",
              "    </tr>\n",
              "    <tr>\n",
              "      <th>1</th>\n",
              "      <td>Help!</td>\n",
              "      <td>Giúp tôi với!</td>\n",
              "      <td>CC-BY 2.0 (France) Attribution: tatoeba.org #4...</td>\n",
              "    </tr>\n",
              "    <tr>\n",
              "      <th>2</th>\n",
              "      <td>Go on.</td>\n",
              "      <td>Tiếp tục đi.</td>\n",
              "      <td>CC-BY 2.0 (France) Attribution: tatoeba.org #2...</td>\n",
              "    </tr>\n",
              "    <tr>\n",
              "      <th>3</th>\n",
              "      <td>Hello!</td>\n",
              "      <td>Chào bạn.</td>\n",
              "      <td>CC-BY 2.0 (France) Attribution: tatoeba.org #3...</td>\n",
              "    </tr>\n",
              "    <tr>\n",
              "      <th>4</th>\n",
              "      <td>Hurry!</td>\n",
              "      <td>Nhanh lên nào!</td>\n",
              "      <td>CC-BY 2.0 (France) Attribution: tatoeba.org #1...</td>\n",
              "    </tr>\n",
              "  </tbody>\n",
              "</table>\n",
              "</div>"
            ],
            "text/plain": [
              "  English      Vietnamese                                             Others\n",
              "0    Run!           Chạy!  CC-BY 2.0 (France) Attribution: tatoeba.org #9...\n",
              "1   Help!   Giúp tôi với!  CC-BY 2.0 (France) Attribution: tatoeba.org #4...\n",
              "2  Go on.    Tiếp tục đi.  CC-BY 2.0 (France) Attribution: tatoeba.org #2...\n",
              "3  Hello!       Chào bạn.  CC-BY 2.0 (France) Attribution: tatoeba.org #3...\n",
              "4  Hurry!  Nhanh lên nào!  CC-BY 2.0 (France) Attribution: tatoeba.org #1..."
            ]
          },
          "execution_count": 5,
          "metadata": {},
          "output_type": "execute_result"
        }
      ],
      "source": [
        "#load raw text data file.\n",
        "df=pd.read_csv('vie.txt',delimiter=\"\\t\", header=None)\n",
        "#name the columns\n",
        "df.columns = ['English', 'Vietnamese', 'Others']\n",
        "df.head()"
      ]
    },
    {
      "cell_type": "markdown",
      "id": "eb6d283a",
      "metadata": {
        "id": "eb6d283a"
      },
      "source": [
        "### Text Preprocessing "
      ]
    },
    {
      "cell_type": "markdown",
      "id": "abfc1427",
      "metadata": {
        "id": "abfc1427"
      },
      "source": [
        "**Remove unnecessary columns, shuffle rows but keep the correlatio between English and Vietnamese columns**"
      ]
    },
    {
      "cell_type": "code",
      "execution_count": null,
      "id": "e2993130",
      "metadata": {
        "id": "e2993130",
        "outputId": "5a239e46-af89-4ed0-81e4-4d0423d3baec"
      },
      "outputs": [
        {
          "data": {
            "text/html": [
              "<div>\n",
              "<style scoped>\n",
              "    .dataframe tbody tr th:only-of-type {\n",
              "        vertical-align: middle;\n",
              "    }\n",
              "\n",
              "    .dataframe tbody tr th {\n",
              "        vertical-align: top;\n",
              "    }\n",
              "\n",
              "    .dataframe thead th {\n",
              "        text-align: right;\n",
              "    }\n",
              "</style>\n",
              "<table border=\"1\" class=\"dataframe\">\n",
              "  <thead>\n",
              "    <tr style=\"text-align: right;\">\n",
              "      <th></th>\n",
              "      <th>English</th>\n",
              "      <th>Vietnamese</th>\n",
              "    </tr>\n",
              "  </thead>\n",
              "  <tbody>\n",
              "    <tr>\n",
              "      <th>6626</th>\n",
              "      <td>There are times when we have to hide the truth.</td>\n",
              "      <td>Có những lúc mà chúng ta phải che giấu đi sự t...</td>\n",
              "    </tr>\n",
              "    <tr>\n",
              "      <th>2967</th>\n",
              "      <td>When was printing invented?</td>\n",
              "      <td>Việc in ấn ra đời khi nào?</td>\n",
              "    </tr>\n",
              "    <tr>\n",
              "      <th>199</th>\n",
              "      <td>I play tennis.</td>\n",
              "      <td>Tôi chơi môn quần vợt.</td>\n",
              "    </tr>\n",
              "    <tr>\n",
              "      <th>3413</th>\n",
              "      <td>She is a friend of my wife's.</td>\n",
              "      <td>Nó là bạn của vợ tao.</td>\n",
              "    </tr>\n",
              "    <tr>\n",
              "      <th>3633</th>\n",
              "      <td>I was amazed to learn I'd won.</td>\n",
              "      <td>Tôi đã ngạc nhiên khi biết được là tôi đã thắng.</td>\n",
              "    </tr>\n",
              "  </tbody>\n",
              "</table>\n",
              "</div>"
            ],
            "text/plain": [
              "                                              English  \\\n",
              "6626  There are times when we have to hide the truth.   \n",
              "2967                      When was printing invented?   \n",
              "199                                    I play tennis.   \n",
              "3413                    She is a friend of my wife's.   \n",
              "3633                   I was amazed to learn I'd won.   \n",
              "\n",
              "                                             Vietnamese  \n",
              "6626  Có những lúc mà chúng ta phải che giấu đi sự t...  \n",
              "2967                         Việc in ấn ra đời khi nào?  \n",
              "199                              Tôi chơi môn quần vợt.  \n",
              "3413                              Nó là bạn của vợ tao.  \n",
              "3633   Tôi đã ngạc nhiên khi biết được là tôi đã thắng.  "
            ]
          },
          "execution_count": 6,
          "metadata": {},
          "output_type": "execute_result"
        }
      ],
      "source": [
        "#remove column others\n",
        "df= df.drop(columns= 'Others') \n",
        "#shuffle the rows but still keep the correct translation orders\n",
        "df= df.reindex(np.random.permutation(df.index))\n",
        "df.head()"
      ]
    },
    {
      "cell_type": "markdown",
      "id": "8dcbf9c8",
      "metadata": {
        "id": "8dcbf9c8"
      },
      "source": [
        "**Text processing: convert to lowercase, remove punctuation, remove whitespaces at the start and end of sentences**"
      ]
    },
    {
      "cell_type": "code",
      "execution_count": null,
      "id": "8e0ae0fc",
      "metadata": {
        "id": "8e0ae0fc",
        "outputId": "1d7092b8-78d0-470c-8f5e-910edea3b24f"
      },
      "outputs": [
        {
          "name": "stdout",
          "output_type": "stream",
          "text": [
            "Tôi không học được gì từ giáo viên đó cả.\n",
            "I learned nothing from the teacher.\n"
          ]
        }
      ],
      "source": [
        "#text preprocessing\n",
        "targ = df['English'].values\n",
        "inp = df['Vietnamese'].values\n",
        "print(inp[-1])\n",
        "print(targ[-1])"
      ]
    },
    {
      "cell_type": "markdown",
      "id": "bcd89531",
      "metadata": {
        "id": "bcd89531"
      },
      "source": [
        "**Create a tf.data dataset**"
      ]
    },
    {
      "cell_type": "code",
      "execution_count": null,
      "id": "d7dc970b",
      "metadata": {
        "id": "d7dc970b"
      },
      "outputs": [],
      "source": [
        "BUFFER_SIZE = len(inp)\n",
        "BATCH_SIZE = 64\n",
        "\n",
        "dataset = tf.data.Dataset.from_tensor_slices((inp, targ)).shuffle(BUFFER_SIZE)\n",
        "dataset = dataset.batch(BATCH_SIZE)"
      ]
    },
    {
      "cell_type": "code",
      "execution_count": null,
      "id": "84e0d9a4",
      "metadata": {
        "id": "84e0d9a4",
        "outputId": "be1b6b08-f95c-4e7d-9eb3-9c0d76c43c54"
      },
      "outputs": [
        {
          "name": "stdout",
          "output_type": "stream",
          "text": [
            "tf.Tensor(\n",
            "[b'T\\xc3\\xb4i c\\xe1\\xba\\xa7n th\\xc3\\xaam n\\xe1\\xbb\\xafa.'\n",
            " b'T\\xc3\\xb4i \\xc4\\x91\\xc3\\xa3 gi\\xc3\\xbap Tom s\\xc6\\xa1n c\\xc3\\xa1i h\\xc3\\xa0ng r\\xc3\\xa0o \\xc4\\x91\\xc3\\xb3.'\n",
            " b'T\\xc3\\xb4i nghi\\xc3\\xaan c\\xe1\\xbb\\xa9u nhi\\xe1\\xbb\\x81u gi\\xe1\\xbb\\x9d li\\xe1\\xbb\\x81n v\\xc3\\xa0o bu\\xe1\\xbb\\x95i t\\xe1\\xbb\\x91i.'\n",
            " b'\\xc4\\x90\\xe1\\xbb\\xabng ngh\\xc4\\xa9 l\\xc3\\xa0 t\\xc3\\xb4i \\xc4\\x91\\xc3\\xa3 kh\\xc3\\xb4ng th\\xe1\\xbb\\xad.'\n",
            " b'B\\xe1\\xba\\xa1n ngh\\xc4\\xa9 \\xc4\\x91i\\xe1\\xbb\\x81u g\\xc3\\xac \\xc4\\x91\\xc3\\xa3 g\\xc3\\xa2y ra m\\xc3\\xa2u thu\\xe1\\xba\\xabn trong ho\\xe1\\xba\\xa1t \\xc4\\x91\\xe1\\xbb\\x99ng th\\xc6\\xb0\\xc6\\xa1ng m\\xe1\\xba\\xa1i gi\\xe1\\xbb\\xafa Nh\\xe1\\xba\\xadt B\\xe1\\xba\\xa3n v\\xc3\\xa0 Hoa K\\xe1\\xbb\\xb3?'], shape=(5,), dtype=string)\n",
            "\n",
            "tf.Tensor(\n",
            "[b'I need more.' b'I helped Tom paint the fence.'\n",
            " b'I study for many hours at night.' b\"Don't think I didn't try.\"\n",
            " b'What do you think has caused the present trade friction between Japan and the U.S.?'], shape=(5,), dtype=string)\n"
          ]
        }
      ],
      "source": [
        "for example_input_batch, example_target_batch in dataset.take(1):\n",
        "  print(example_input_batch[:5])\n",
        "  print()\n",
        "  print(example_target_batch[:5])\n",
        "  break"
      ]
    },
    {
      "cell_type": "markdown",
      "id": "4c2fcc40",
      "metadata": {
        "id": "4c2fcc40"
      },
      "source": [
        "**Standardization**"
      ]
    },
    {
      "cell_type": "markdown",
      "id": "c0df71a3",
      "metadata": {
        "id": "c0df71a3"
      },
      "source": [
        "The model is dealing with multilingual text with a limited vocabulary. So it will be important to standardize the input text.\n",
        "The first step is Unicode normalization to split accented characters and replace compatibility characters with their ASCII equivalents.\n",
        "The tensroflow_text package contains a unicode normalize operation:"
      ]
    },
    {
      "cell_type": "code",
      "execution_count": null,
      "id": "e3c4eeda",
      "metadata": {
        "id": "e3c4eeda",
        "outputId": "5b0a57f1-6ae8-4be5-fc12-3d50c55d9424"
      },
      "outputs": [
        {
          "name": "stdout",
          "output_type": "stream",
          "text": [
            "b'B\\xe1\\xbb\\x99 phim n\\xc3\\xa0y \\xc4\\x91\\xc6\\xb0\\xe1\\xbb\\xa3c d\\xe1\\xbb\\xb1a tr\\xc3\\xaan m\\xe1\\xbb\\x99t cu\\xe1\\xbb\\x91n ti\\xe1\\xbb\\x83u thuy\\xe1\\xba\\xbft'\n",
            "b'Bo\\xcc\\xa3\\xcc\\x82 phim na\\xcc\\x80y \\xc4\\x91u\\xcc\\x9bo\\xcc\\x9b\\xcc\\xa3c du\\xcc\\x9b\\xcc\\xa3a tre\\xcc\\x82n mo\\xcc\\xa3\\xcc\\x82t cuo\\xcc\\x82\\xcc\\x81n tie\\xcc\\x82\\xcc\\x89u thuye\\xcc\\x82\\xcc\\x81t'\n"
          ]
        }
      ],
      "source": [
        "example_text = tf.constant('Bộ phim này được dựa trên một cuốn tiểu thuyết')\n",
        "\n",
        "print(example_text.numpy())\n",
        "print(tf_text.normalize_utf8(example_text, 'NFKD').numpy())"
      ]
    },
    {
      "cell_type": "code",
      "execution_count": null,
      "id": "768ec816",
      "metadata": {
        "id": "768ec816"
      },
      "outputs": [],
      "source": [
        "def tf_lower_and_split_punct(text):\n",
        "  # Split accecented characters.\n",
        "  text = tf_text.normalize_utf8(text, 'NFKD')\n",
        "  text = tf.strings.lower(text)\n",
        "  # Keep space, a to z, and select punctuation.\n",
        "  text = tf.strings.regex_replace(text, '[^ a-zđ.?!,]', '')\n",
        "  # Add spaces around punctuation.\n",
        "  text = tf.strings.regex_replace(text, '[.?!,]', r' \\0 ')\n",
        "  # Strip whitespace.\n",
        "  text = tf.strings.strip(text)\n",
        "\n",
        "  text = tf.strings.join(['[START]', text, '[END]'], separator=' ')\n",
        "  return text"
      ]
    },
    {
      "cell_type": "code",
      "execution_count": null,
      "id": "3c9e7ca2",
      "metadata": {
        "id": "3c9e7ca2",
        "outputId": "634aff41-1111-46d5-ea8b-218da4a6c88c"
      },
      "outputs": [
        {
          "name": "stdout",
          "output_type": "stream",
          "text": [
            "Bộ phim này được dựa trên một cuốn tiểu thuyết\n",
            "[START] bo phim nay đuoc dua tren mot cuon tieu thuyet [END]\n"
          ]
        }
      ],
      "source": [
        "print(example_text.numpy().decode())\n",
        "print(tf_lower_and_split_punct(example_text).numpy().decode())"
      ]
    },
    {
      "cell_type": "markdown",
      "id": "1d280809",
      "metadata": {
        "id": "1d280809"
      },
      "source": [
        "**Text Vectorization**"
      ]
    },
    {
      "cell_type": "markdown",
      "id": "8afa04e8",
      "metadata": {
        "id": "8afa04e8"
      },
      "source": [
        "TextVectorization layer will handle the vocabulary extraction and conversion of input text to sequences of tokens."
      ]
    },
    {
      "cell_type": "code",
      "execution_count": null,
      "id": "14e4184a",
      "metadata": {
        "id": "14e4184a"
      },
      "outputs": [],
      "source": [
        "max_vocab_size = 5000\n",
        "\n",
        "input_text_processor = preprocessing.TextVectorization(\n",
        "    standardize=tf_lower_and_split_punct,\n",
        "    max_tokens=max_vocab_size)"
      ]
    },
    {
      "cell_type": "code",
      "execution_count": null,
      "id": "9740492e",
      "metadata": {
        "id": "9740492e",
        "outputId": "99f3418d-8f1c-498c-90f6-636af7a66302"
      },
      "outputs": [
        {
          "data": {
            "text/plain": [
              "['', '[UNK]', '[START]', '[END]', '.', 'toi', 'khong', 'co', 'ban', 'tom']"
            ]
          },
          "execution_count": 14,
          "metadata": {},
          "output_type": "execute_result"
        }
      ],
      "source": [
        "#vietnamsese vocabulary \n",
        "input_text_processor.adapt(inp)\n",
        "\n",
        "# the first 10 words from the vocabulary:\n",
        "input_text_processor.get_vocabulary()[:10]"
      ]
    },
    {
      "cell_type": "code",
      "execution_count": null,
      "id": "f86cdf62",
      "metadata": {
        "id": "f86cdf62",
        "outputId": "1ce72261-4791-497c-fcec-8ee8d25292eb"
      },
      "outputs": [
        {
          "data": {
            "text/plain": [
              "['', '[UNK]', '[START]', '[END]', '.', 'i', 'to', 'the', 'tom', 'you']"
            ]
          },
          "execution_count": 15,
          "metadata": {},
          "output_type": "execute_result"
        }
      ],
      "source": [
        "#english vocabulary \n",
        "output_text_processor = preprocessing.TextVectorization(\n",
        "    standardize=tf_lower_and_split_punct,\n",
        "    max_tokens=max_vocab_size)\n",
        "\n",
        "output_text_processor.adapt(targ)\n",
        "output_text_processor.get_vocabulary()[:10]"
      ]
    },
    {
      "cell_type": "code",
      "execution_count": null,
      "id": "4794368e",
      "metadata": {
        "id": "4794368e",
        "outputId": "edb9ee35-960e-4831-906a-5b4f324e59bc"
      },
      "outputs": [
        {
          "data": {
            "text/plain": [
              "<tf.Tensor: shape=(3, 10), dtype=int64, numpy=\n",
              "array([[  2,   5,  79, 203, 116,   4,   3,   0,   0,   0],\n",
              "       [  2,   5,  11, 136,   9, 609,  34, 215, 592,  16],\n",
              "       [  2,   5, 576, 361,  67,  61, 430,  50, 268,   5]], dtype=int64)>"
            ]
          },
          "execution_count": 16,
          "metadata": {},
          "output_type": "execute_result"
        }
      ],
      "source": [
        "#convert a batch of strings into a batch of token IDs:\n",
        "example_tokens = input_text_processor(example_input_batch)\n",
        "example_tokens[:3, :10]"
      ]
    },
    {
      "cell_type": "code",
      "execution_count": null,
      "id": "d12a5006",
      "metadata": {
        "id": "d12a5006",
        "outputId": "e231f222-ba5b-407d-e60d-794296706a4a"
      },
      "outputs": [
        {
          "data": {
            "text/plain": [
              "'[START] toi can them nua . [END]                '"
            ]
          },
          "execution_count": 17,
          "metadata": {},
          "output_type": "execute_result"
        }
      ],
      "source": [
        "#convert token IDs back to text\n",
        "input_vocab = np.array(input_text_processor.get_vocabulary())\n",
        "tokens = input_vocab[example_tokens[0].numpy()]\n",
        "' '.join(tokens)"
      ]
    },
    {
      "cell_type": "code",
      "execution_count": null,
      "id": "f7ffd56e",
      "metadata": {
        "id": "f7ffd56e",
        "outputId": "07d7e12d-34f8-4a7f-a533-6efe2f4a7cb4"
      },
      "outputs": [
        {
          "data": {
            "text/plain": [
              "Text(0.5, 1.0, 'Mask')"
            ]
          },
          "execution_count": 18,
          "metadata": {},
          "output_type": "execute_result"
        },
        {
          "data": {
            "image/png": "[encoded data removed]",
            "text/plain": [
              "<Figure size 432x288 with 2 Axes>"
            ]
          },
          "metadata": {
            "needs_background": "light"
          },
          "output_type": "display_data"
        }
      ],
      "source": [
        "#The returned token IDs are zero-padded. This can easily be turned into a mask\n",
        "plt.subplot(1, 2, 1)\n",
        "plt.pcolormesh(example_tokens)\n",
        "plt.title('Token IDs')\n",
        "\n",
        "plt.subplot(1, 2, 2)\n",
        "plt.pcolormesh(example_tokens != 0)\n",
        "plt.title('Mask')"
      ]
    },
    {
      "cell_type": "markdown",
      "id": "d546fc60",
      "metadata": {
        "id": "d546fc60"
      },
      "source": [
        "### The encoder/decoder model"
      ]
    },
    {
      "cell_type": "code",
      "execution_count": null,
      "id": "d6b233f7",
      "metadata": {
        "id": "d6b233f7"
      },
      "outputs": [],
      "source": [
        "embedding_dim = 256\n",
        "units = 1024"
      ]
    },
    {
      "cell_type": "markdown",
      "id": "03baff17",
      "metadata": {
        "id": "03baff17"
      },
      "source": [
        "**The encoder**"
      ]
    },
    {
      "cell_type": "code",
      "execution_count": null,
      "id": "50058341",
      "metadata": {
        "id": "50058341"
      },
      "outputs": [],
      "source": [
        "class Encoder(tf.keras.layers.Layer):\n",
        "  def __init__(self, input_vocab_size, embedding_dim, enc_units):\n",
        "    super(Encoder, self).__init__()\n",
        "    self.enc_units = enc_units\n",
        "    self.input_vocab_size = input_vocab_size\n",
        "\n",
        "    # The embedding layer converts tokens to vectors\n",
        "    self.embedding = tf.keras.layers.Embedding(self.input_vocab_size,\n",
        "                                               embedding_dim)\n",
        "\n",
        "    # The GRU RNN layer processes those vectors sequentially.\n",
        "    self.gru = tf.keras.layers.GRU(self.enc_units,\n",
        "                                   # Return the sequence and state\n",
        "                                   return_sequences=True,\n",
        "                                   return_state=True,\n",
        "                                   recurrent_initializer='glorot_uniform')\n",
        "\n",
        "  def call(self, tokens, state=None):\n",
        "    shape_checker = ShapeChecker()\n",
        "    shape_checker(tokens, ('batch', 's'))\n",
        "\n",
        "    # 2. The embedding layer looks up the embedding for each token.\n",
        "    vectors = self.embedding(tokens)\n",
        "    shape_checker(vectors, ('batch', 's', 'embed_dim'))\n",
        "\n",
        "    # 3. The GRU processes the embedding sequence.\n",
        "    #    output shape: (batch, s, enc_units)\n",
        "    #    state shape: (batch, enc_units)\n",
        "    output, state = self.gru(vectors, initial_state=state)\n",
        "    shape_checker(output, ('batch', 's', 'enc_units'))\n",
        "    shape_checker(state, ('batch', 'enc_units'))\n",
        "\n",
        "    # 4. Returns the new sequence and its state.\n",
        "    return output, state"
      ]
    },
    {
      "cell_type": "code",
      "execution_count": null,
      "id": "fb369d22",
      "metadata": {
        "id": "fb369d22",
        "outputId": "00e3fbc9-0cf1-44f5-97b8-ab7ee17519a5"
      },
      "outputs": [
        {
          "name": "stdout",
          "output_type": "stream",
          "text": [
            "Input batch, shape (batch): (64,)\n",
            "Input batch tokens, shape (batch, s): (64, 23)\n",
            "Encoder output, shape (batch, s, units): (64, 23, 1024)\n",
            "Encoder state, shape (batch, units): (64, 1024)\n"
          ]
        }
      ],
      "source": [
        "# Convert the input text to tokens.\n",
        "example_tokens = input_text_processor(example_input_batch)\n",
        "\n",
        "# Encode the input sequence.\n",
        "encoder = Encoder(input_text_processor.vocabulary_size(),\n",
        "                  embedding_dim, units)\n",
        "example_enc_output, example_enc_state = encoder(example_tokens)\n",
        "\n",
        "print(f'Input batch, shape (batch): {example_input_batch.shape}')\n",
        "print(f'Input batch tokens, shape (batch, s): {example_tokens.shape}')\n",
        "print(f'Encoder output, shape (batch, s, units): {example_enc_output.shape}')\n",
        "print(f'Encoder state, shape (batch, units): {example_enc_state.shape}')"
      ]
    },
    {
      "cell_type": "markdown",
      "id": "555a4d0a",
      "metadata": {
        "id": "555a4d0a"
      },
      "source": [
        "**The attention head**"
      ]
    },
    {
      "cell_type": "markdown",
      "id": "941f47c2",
      "metadata": {
        "id": "941f47c2"
      },
      "source": [
        "The decoder uses attention to selectively focus on parts of the input sequence. The attention takes a sequence of vectors as input for each example and returns an \"attention\" vector for each example. This attention layer is similar to a layers.GlobalAveragePoling1D but the attention layer performs a weighted average."
      ]
    },
    {
      "cell_type": "code",
      "execution_count": null,
      "id": "34d33430",
      "metadata": {
        "id": "34d33430"
      },
      "outputs": [],
      "source": [
        "class BahdanauAttention(tf.keras.layers.Layer):\n",
        "  def __init__(self, units):\n",
        "    super().__init__()\n",
        "    # For Eqn. (4), the  Bahdanau attention\n",
        "    self.W1 = tf.keras.layers.Dense(units, use_bias=False)\n",
        "    self.W2 = tf.keras.layers.Dense(units, use_bias=False)\n",
        "\n",
        "    self.attention = tf.keras.layers.AdditiveAttention()\n",
        "\n",
        "  def call(self, query, value, mask):\n",
        "    shape_checker = ShapeChecker()\n",
        "    shape_checker(query, ('batch', 't', 'query_units'))\n",
        "    shape_checker(value, ('batch', 's', 'value_units'))\n",
        "    shape_checker(mask, ('batch', 's'))\n",
        "\n",
        "    # From Eqn. (4), `W1@ht`.\n",
        "    w1_query = self.W1(query)\n",
        "    shape_checker(w1_query, ('batch', 't', 'attn_units'))\n",
        "\n",
        "    # From Eqn. (4), `W2@hs`.\n",
        "    w2_key = self.W2(value)\n",
        "    shape_checker(w2_key, ('batch', 's', 'attn_units'))\n",
        "\n",
        "    query_mask = tf.ones(tf.shape(query)[:-1], dtype=bool)\n",
        "    value_mask = mask\n",
        "\n",
        "    context_vector, attention_weights = self.attention(\n",
        "        inputs = [w1_query, value, w2_key],\n",
        "        mask=[query_mask, value_mask],\n",
        "        return_attention_scores = True,\n",
        "    )\n",
        "    shape_checker(context_vector, ('batch', 't', 'value_units'))\n",
        "    shape_checker(attention_weights, ('batch', 't', 's'))\n",
        "\n",
        "    return context_vector, attention_weights"
      ]
    },
    {
      "cell_type": "markdown",
      "id": "b4f17d81",
      "metadata": {
        "id": "b4f17d81"
      },
      "source": [
        "**Test the Attention layer**"
      ]
    },
    {
      "cell_type": "code",
      "execution_count": null,
      "id": "d8c24b18",
      "metadata": {
        "id": "d8c24b18",
        "outputId": "dad9e60b-fbbc-46d0-fcb4-878eb65f3254"
      },
      "outputs": [
        {
          "data": {
            "text/plain": [
              "TensorShape([64, 23])"
            ]
          },
          "execution_count": 23,
          "metadata": {},
          "output_type": "execute_result"
        }
      ],
      "source": [
        "#Create a BahdanauAttention layer\n",
        "attention_layer = BahdanauAttention(units)\n",
        "(example_tokens != 0).shape"
      ]
    },
    {
      "cell_type": "code",
      "execution_count": null,
      "id": "08325df3",
      "metadata": {
        "id": "08325df3",
        "outputId": "b37a25fc-c6d2-4620-e29f-4d82d132f8bc"
      },
      "outputs": [
        {
          "name": "stdout",
          "output_type": "stream",
          "text": [
            "Attention result shape: (batch_size, query_seq_length, units):           (64, 2, 1024)\n",
            "Attention weights shape: (batch_size, query_seq_length, value_seq_length): (64, 2, 23)\n"
          ]
        }
      ],
      "source": [
        "# Later, the decoder will generate this attention query\n",
        "example_attention_query = tf.random.normal(shape=[len(example_tokens), 2, 10])\n",
        "\n",
        "# Attend to the encoded tokens\n",
        "\n",
        "context_vector, attention_weights = attention_layer(\n",
        "    query=example_attention_query,\n",
        "    value=example_enc_output,\n",
        "    mask=(example_tokens != 0))\n",
        "\n",
        "print(f'Attention result shape: (batch_size, query_seq_length, units):           {context_vector.shape}')\n",
        "print(f'Attention weights shape: (batch_size, query_seq_length, value_seq_length): {attention_weights.shape}')"
      ]
    },
    {
      "cell_type": "code",
      "execution_count": null,
      "id": "981fa577",
      "metadata": {
        "id": "981fa577",
        "outputId": "ebabf7a6-c121-4596-81cd-2a936d50a37d"
      },
      "outputs": [
        {
          "data": {
            "text/plain": [
              "Text(0.5, 1.0, 'Mask')"
            ]
          },
          "execution_count": 25,
          "metadata": {},
          "output_type": "execute_result"
        },
        {
          "data": {
            "image/png": "[encoded data removed]",
            "text/plain": [
              "<Figure size 432x288 with 2 Axes>"
            ]
          },
          "metadata": {
            "needs_background": "light"
          },
          "output_type": "display_data"
        }
      ],
      "source": [
        "plt.subplot(1, 2, 1)\n",
        "plt.pcolormesh(attention_weights[:, 0, :])\n",
        "plt.title('Attention weights')\n",
        "\n",
        "plt.subplot(1, 2, 2)\n",
        "plt.pcolormesh(example_tokens != 0)\n",
        "plt.title('Mask')"
      ]
    },
    {
      "cell_type": "code",
      "execution_count": null,
      "id": "d8e85ab8",
      "metadata": {
        "id": "d8e85ab8"
      },
      "outputs": [],
      "source": [
        "attention_weights.shape\n",
        "attention_slice = attention_weights[0, 0].numpy()\n",
        "attention_slice = attention_slice[attention_slice != 0]"
      ]
    },
    {
      "cell_type": "code",
      "execution_count": null,
      "id": "ec43c7ef",
      "metadata": {
        "id": "ec43c7ef",
        "outputId": "73dbf4e5-d132-4d80-bb66-0ea5fa445b20"
      },
      "outputs": [
        {
          "data": {
            "text/plain": [
              "[<matplotlib.lines.Line2D at 0x275e5ff0ee0>]"
            ]
          },
          "execution_count": 27,
          "metadata": {},
          "output_type": "execute_result"
        },
        {
          "data": {
            "text/plain": [
              "<Figure size 432x288 with 0 Axes>"
            ]
          },
          "metadata": {},
          "output_type": "display_data"
        },
        {
          "data": {
            "image/png": "[encoded data removed]",
            "text/plain": [
              "<Figure size 864x432 with 2 Axes>"
            ]
          },
          "metadata": {
            "needs_background": "light"
          },
          "output_type": "display_data"
        }
      ],
      "source": [
        "#Attention weights for one sequence\n",
        "plt.suptitle('Attention weights for one sequence')\n",
        "\n",
        "plt.figure(figsize=(12, 6))\n",
        "a1 = plt.subplot(1, 2, 1)\n",
        "plt.bar(range(len(attention_slice)), attention_slice)\n",
        "# freeze the xlim\n",
        "plt.xlim(plt.xlim())\n",
        "plt.xlabel('Attention weights')\n",
        "\n",
        "a2 = plt.subplot(1, 2, 2)\n",
        "plt.bar(range(len(attention_slice)), attention_slice)\n",
        "plt.xlabel('Attention weights, zoomed')\n",
        "\n",
        "# zoom in\n",
        "top = max(a1.get_ylim())\n",
        "zoom = 0.85*top\n",
        "a2.set_ylim([0.90*top, top])\n",
        "a1.plot(a1.get_xlim(), [zoom, zoom], color='k')"
      ]
    },
    {
      "cell_type": "markdown",
      "id": "52418b41",
      "metadata": {
        "id": "52418b41"
      },
      "source": [
        "**The decoder**"
      ]
    },
    {
      "cell_type": "code",
      "execution_count": null,
      "id": "ae2b1529",
      "metadata": {
        "id": "ae2b1529"
      },
      "outputs": [],
      "source": [
        "class Decoder(tf.keras.layers.Layer):\n",
        "  def __init__(self, output_vocab_size, embedding_dim, dec_units):\n",
        "    super(Decoder, self).__init__()\n",
        "    self.dec_units = dec_units\n",
        "    self.output_vocab_size = output_vocab_size\n",
        "    self.embedding_dim = embedding_dim\n",
        "\n",
        "    # For Step 1. The embedding layer convets token IDs to vectors\n",
        "    self.embedding = tf.keras.layers.Embedding(self.output_vocab_size,\n",
        "                                               embedding_dim)\n",
        "\n",
        "    # For Step 2. The RNN keeps track of what's been generated so far.\n",
        "    self.gru = tf.keras.layers.GRU(self.dec_units,\n",
        "                                   return_sequences=True,\n",
        "                                   return_state=True,\n",
        "                                   recurrent_initializer='glorot_uniform')\n",
        "\n",
        "    # For step 3. The RNN output will be the query for the attention layer.\n",
        "    self.attention = BahdanauAttention(self.dec_units)\n",
        "\n",
        "    # For step 4. Eqn. (3): converting `ct` to `at`\n",
        "    self.Wc = tf.keras.layers.Dense(dec_units, activation=tf.math.tanh,\n",
        "                                    use_bias=False)\n",
        "\n",
        "    # For step 5. This fully connected layer produces the logits for each\n",
        "    # output token.\n",
        "    self.fc = tf.keras.layers.Dense(self.output_vocab_size)"
      ]
    },
    {
      "cell_type": "code",
      "execution_count": null,
      "id": "121d1e5c",
      "metadata": {
        "id": "121d1e5c"
      },
      "outputs": [],
      "source": [
        "class DecoderInput(typing.NamedTuple):\n",
        "  new_tokens: Any\n",
        "  enc_output: Any\n",
        "  mask: Any\n",
        "\n",
        "class DecoderOutput(typing.NamedTuple):\n",
        "  logits: Any\n",
        "  attention_weights: Any"
      ]
    },
    {
      "cell_type": "markdown",
      "id": "73f90e89",
      "metadata": {
        "id": "73f90e89"
      },
      "source": [
        "**Implementation of the call method**"
      ]
    },
    {
      "cell_type": "code",
      "execution_count": null,
      "id": "f2a7c966",
      "metadata": {
        "id": "f2a7c966"
      },
      "outputs": [],
      "source": [
        "def call(self,\n",
        "         inputs: DecoderInput,\n",
        "         state=None) -> Tuple[DecoderOutput, tf.Tensor]:\n",
        "  shape_checker = ShapeChecker()\n",
        "  shape_checker(inputs.new_tokens, ('batch', 't'))\n",
        "  shape_checker(inputs.enc_output, ('batch', 's', 'enc_units'))\n",
        "  shape_checker(inputs.mask, ('batch', 's'))\n",
        "\n",
        "  if state is not None:\n",
        "    shape_checker(state, ('batch', 'dec_units'))\n",
        "\n",
        "  # Step 1. Lookup the embeddings\n",
        "  vectors = self.embedding(inputs.new_tokens)\n",
        "  shape_checker(vectors, ('batch', 't', 'embedding_dim'))\n",
        "\n",
        "  # Step 2. Process one step with the RNN\n",
        "  rnn_output, state = self.gru(vectors, initial_state=state)\n",
        "\n",
        "  shape_checker(rnn_output, ('batch', 't', 'dec_units'))\n",
        "  shape_checker(state, ('batch', 'dec_units'))\n",
        "\n",
        "  # Step 3. Use the RNN output as the query for the attention over the\n",
        "  # encoder output.\n",
        "  context_vector, attention_weights = self.attention(\n",
        "      query=rnn_output, value=inputs.enc_output, mask=inputs.mask)\n",
        "  shape_checker(context_vector, ('batch', 't', 'dec_units'))\n",
        "  shape_checker(attention_weights, ('batch', 't', 's'))\n",
        "\n",
        "  # Step 4. Eqn. (3): Join the context_vector and rnn_output\n",
        "  #     [ct; ht] shape: (batch t, value_units + query_units)\n",
        "  context_and_rnn_output = tf.concat([context_vector, rnn_output], axis=-1)\n",
        "\n",
        "  # Step 4. Eqn. (3): `at = tanh(Wc@[ct; ht])`\n",
        "  attention_vector = self.Wc(context_and_rnn_output)\n",
        "  shape_checker(attention_vector, ('batch', 't', 'dec_units'))\n",
        "\n",
        "  # Step 5. Generate logit predictions:\n",
        "  logits = self.fc(attention_vector)\n",
        "  shape_checker(logits, ('batch', 't', 'output_vocab_size'))\n",
        "\n",
        "  return DecoderOutput(logits, attention_weights), state"
      ]
    },
    {
      "cell_type": "code",
      "execution_count": null,
      "id": "cc7056d1",
      "metadata": {
        "id": "cc7056d1"
      },
      "outputs": [],
      "source": [
        "Decoder.call = call"
      ]
    },
    {
      "cell_type": "markdown",
      "id": "9ccf085c",
      "metadata": {
        "id": "9ccf085c"
      },
      "source": [
        "Using this decoder"
      ]
    },
    {
      "cell_type": "code",
      "execution_count": null,
      "id": "d71d0a3e",
      "metadata": {
        "id": "d71d0a3e"
      },
      "outputs": [],
      "source": [
        "decoder = Decoder(output_text_processor.vocabulary_size(),\n",
        "                  embedding_dim, units)"
      ]
    },
    {
      "cell_type": "code",
      "execution_count": null,
      "id": "bdd8d324",
      "metadata": {
        "id": "bdd8d324"
      },
      "outputs": [],
      "source": [
        "# Convert the target sequence, and collect the \"[START]\" tokens\n",
        "example_output_tokens = output_text_processor(example_target_batch)\n",
        "\n",
        "start_index = output_text_processor.get_vocabulary().index('[START]')\n",
        "first_token = tf.constant([[start_index]] * example_output_tokens.shape[0])"
      ]
    },
    {
      "cell_type": "code",
      "execution_count": null,
      "id": "9213add8",
      "metadata": {
        "id": "9213add8",
        "outputId": "053f6de9-918f-4f09-9f72-c7519c54f305"
      },
      "outputs": [
        {
          "name": "stdout",
          "output_type": "stream",
          "text": [
            "logits shape: (batch_size, t, output_vocab_size) (64, 1, 3672)\n",
            "state shape: (batch_size, dec_units) (64, 1024)\n"
          ]
        }
      ],
      "source": [
        "# Run the decoder\n",
        "dec_result, dec_state = decoder(\n",
        "    inputs = DecoderInput(new_tokens=first_token,\n",
        "                          enc_output=example_enc_output,\n",
        "                          mask=(example_tokens != 0)),\n",
        "    state = example_enc_state\n",
        ")\n",
        "\n",
        "print(f'logits shape: (batch_size, t, output_vocab_size) {dec_result.logits.shape}')\n",
        "print(f'state shape: (batch_size, dec_units) {dec_state.shape}')"
      ]
    },
    {
      "cell_type": "code",
      "execution_count": null,
      "id": "ec81fa67",
      "metadata": {
        "id": "ec81fa67"
      },
      "outputs": [],
      "source": [
        "#Sample a token according to the logits\n",
        "sampled_token = tf.random.categorical(dec_result.logits[:, 0, :], num_samples=1)"
      ]
    },
    {
      "cell_type": "code",
      "execution_count": null,
      "id": "c97806c5",
      "metadata": {
        "id": "c97806c5",
        "outputId": "fc553690-cddc-4a5b-e9d9-096910fe9476"
      },
      "outputs": [
        {
          "data": {
            "text/plain": [
              "array([['beings'],\n",
              "       ['colorful'],\n",
              "       ['goodbye'],\n",
              "       ['returned'],\n",
              "       ['lonely']], dtype='<U19')"
            ]
          },
          "execution_count": 36,
          "metadata": {},
          "output_type": "execute_result"
        }
      ],
      "source": [
        "#Decode the token as the first word of the output\n",
        "vocab = np.array(output_text_processor.get_vocabulary())\n",
        "first_word = vocab[sampled_token.numpy()]\n",
        "first_word[:5]"
      ]
    },
    {
      "cell_type": "markdown",
      "id": "597267e4",
      "metadata": {
        "id": "597267e4"
      },
      "source": [
        "**Use the decoder to generate a second set of logits**"
      ]
    },
    {
      "cell_type": "code",
      "execution_count": null,
      "id": "2641dc6a",
      "metadata": {
        "id": "2641dc6a",
        "outputId": "99840ad8-52b8-467f-9d13-cb2e9eec7992"
      },
      "outputs": [
        {
          "data": {
            "text/plain": [
              "array([['picked'],\n",
              "       ['rubbed'],\n",
              "       ['misfired'],\n",
              "       ['revenues'],\n",
              "       ['talent']], dtype='<U19')"
            ]
          },
          "execution_count": 37,
          "metadata": {},
          "output_type": "execute_result"
        }
      ],
      "source": [
        "dec_result, dec_state = decoder(\n",
        "    DecoderInput(sampled_token,\n",
        "                 example_enc_output,\n",
        "                 mask=(example_tokens != 0)),\n",
        "    state=dec_state)\n",
        "sampled_token = tf.random.categorical(dec_result.logits[:, 0, :], num_samples=1)\n",
        "first_word = vocab[sampled_token.numpy()]\n",
        "first_word[:5]"
      ]
    },
    {
      "cell_type": "markdown",
      "id": "3d2b14b8",
      "metadata": {
        "id": "3d2b14b8"
      },
      "source": [
        "### Training"
      ]
    },
    {
      "cell_type": "markdown",
      "id": "b2924382",
      "metadata": {
        "id": "b2924382"
      },
      "source": [
        "**Loss function**"
      ]
    },
    {
      "cell_type": "code",
      "execution_count": null,
      "id": "03125e3a",
      "metadata": {
        "id": "03125e3a"
      },
      "outputs": [],
      "source": [
        "class MaskedLoss(tf.keras.losses.Loss):\n",
        "  def __init__(self):\n",
        "    self.name = 'masked_loss'\n",
        "    self.loss = tf.keras.losses.SparseCategoricalCrossentropy(\n",
        "        from_logits=True, reduction='none')\n",
        "\n",
        "  def __call__(self, y_true, y_pred):\n",
        "    shape_checker = ShapeChecker()\n",
        "    shape_checker(y_true, ('batch', 't'))\n",
        "    shape_checker(y_pred, ('batch', 't', 'logits'))\n",
        "\n",
        "    # Calculate the loss for each item in the batch.\n",
        "    loss = self.loss(y_true, y_pred)\n",
        "    shape_checker(loss, ('batch', 't'))\n",
        "\n",
        "    # Mask off the losses on padding.\n",
        "    mask = tf.cast(y_true != 0, tf.float32)\n",
        "    shape_checker(mask, ('batch', 't'))\n",
        "    loss *= mask\n",
        "\n",
        "    # Return the total.\n",
        "    return tf.reduce_sum(loss)"
      ]
    },
    {
      "cell_type": "markdown",
      "id": "a493e44b",
      "metadata": {
        "id": "a493e44b"
      },
      "source": [
        "**Implement the training step**"
      ]
    },
    {
      "cell_type": "code",
      "execution_count": null,
      "id": "18eace7d",
      "metadata": {
        "id": "18eace7d"
      },
      "outputs": [],
      "source": [
        "class TrainTranslator(tf.keras.Model):\n",
        "  def __init__(self, embedding_dim, units,\n",
        "               input_text_processor,\n",
        "               output_text_processor, \n",
        "               use_tf_function=True):\n",
        "    super().__init__()\n",
        "    # Build the encoder and decoder\n",
        "    encoder = Encoder(input_text_processor.vocabulary_size(),\n",
        "                      embedding_dim, units)\n",
        "    decoder = Decoder(output_text_processor.vocabulary_size(),\n",
        "                      embedding_dim, units)\n",
        "\n",
        "    self.encoder = encoder\n",
        "    self.decoder = decoder\n",
        "    self.input_text_processor = input_text_processor\n",
        "    self.output_text_processor = output_text_processor\n",
        "    self.use_tf_function = use_tf_function\n",
        "    self.shape_checker = ShapeChecker()\n",
        "\n",
        "  def train_step(self, inputs):\n",
        "    self.shape_checker = ShapeChecker()\n",
        "    if self.use_tf_function:\n",
        "      return self._tf_train_step(inputs)\n",
        "    else:\n",
        "      return self._train_step(inputs)"
      ]
    },
    {
      "cell_type": "markdown",
      "id": "94a1232b",
      "metadata": {
        "id": "94a1232b"
      },
      "source": [
        "The _preprocess will:\n",
        "- Receive a batch of input_text, target_text from the tf.data.Dataset.\n",
        "- Convert those raw text inputs to token-embeddings and masks."
      ]
    },
    {
      "cell_type": "code",
      "execution_count": null,
      "id": "090c3ae7",
      "metadata": {
        "id": "090c3ae7"
      },
      "outputs": [],
      "source": [
        "def _preprocess(self, input_text, target_text):\n",
        "  self.shape_checker(input_text, ('batch',))\n",
        "  self.shape_checker(target_text, ('batch',))\n",
        "\n",
        "  # Convert the text to token IDs\n",
        "  input_tokens = self.input_text_processor(input_text)\n",
        "  target_tokens = self.output_text_processor(target_text)\n",
        "  self.shape_checker(input_tokens, ('batch', 's'))\n",
        "  self.shape_checker(target_tokens, ('batch', 't'))\n",
        "\n",
        "  # Convert IDs to masks.\n",
        "  input_mask = input_tokens != 0\n",
        "  self.shape_checker(input_mask, ('batch', 's'))\n",
        "\n",
        "  target_mask = target_tokens != 0\n",
        "  self.shape_checker(target_mask, ('batch', 't'))\n",
        "\n",
        "  return input_tokens, input_mask, target_tokens, target_mask"
      ]
    },
    {
      "cell_type": "code",
      "execution_count": null,
      "id": "8412355a",
      "metadata": {
        "id": "8412355a"
      },
      "outputs": [],
      "source": [
        "TrainTranslator._preprocess = _preprocess"
      ]
    },
    {
      "cell_type": "markdown",
      "id": "a9a9fea3",
      "metadata": {
        "id": "a9a9fea3"
      },
      "source": [
        "The _train_step will:\n",
        "- Run the encoder on the input_tokens to get the encoder_output and encoder_state.\n",
        "- Initialize the decoder state and loss.\n",
        "- Loop over the target_tokens:\n",
        "- Calculate the gradient of the loss and use the optimizer to apply updates to the model's trainable_variables."
      ]
    },
    {
      "cell_type": "code",
      "execution_count": null,
      "id": "ed69981d",
      "metadata": {
        "id": "ed69981d"
      },
      "outputs": [],
      "source": [
        "def _train_step(self, inputs):\n",
        "  input_text, target_text = inputs  \n",
        "\n",
        "  (input_tokens, input_mask,\n",
        "   target_tokens, target_mask) = self._preprocess(input_text, target_text)\n",
        "\n",
        "  max_target_length = tf.shape(target_tokens)[1]\n",
        "\n",
        "  with tf.GradientTape() as tape:\n",
        "    # Encode the input\n",
        "    enc_output, enc_state = self.encoder(input_tokens)\n",
        "    self.shape_checker(enc_output, ('batch', 's', 'enc_units'))\n",
        "    self.shape_checker(enc_state, ('batch', 'enc_units'))\n",
        "\n",
        "    # Initialize the decoder's state to the encoder's final state.\n",
        "    # This only works if the encoder and decoder have the same number of\n",
        "    # units.\n",
        "    dec_state = enc_state\n",
        "    loss = tf.constant(0.0)\n",
        "\n",
        "    for t in tf.range(max_target_length-1):\n",
        "      # Pass in two tokens from the target sequence:\n",
        "      # 1. The current input to the decoder.\n",
        "      # 2. The target for the decoder's next prediction.\n",
        "      new_tokens = target_tokens[:, t:t+2]\n",
        "      step_loss, dec_state = self._loop_step(new_tokens, input_mask,\n",
        "                                             enc_output, dec_state)\n",
        "      loss = loss + step_loss\n",
        "\n",
        "    # Average the loss over all non padding tokens.\n",
        "    average_loss = loss / tf.reduce_sum(tf.cast(target_mask, tf.float32))\n",
        "\n",
        "  # Apply an optimization step\n",
        "  variables = self.trainable_variables \n",
        "  gradients = tape.gradient(average_loss, variables)\n",
        "  self.optimizer.apply_gradients(zip(gradients, variables))\n",
        "\n",
        "  # Return a dict mapping metric names to current value\n",
        "  return {'batch_loss': average_loss}"
      ]
    },
    {
      "cell_type": "code",
      "execution_count": null,
      "id": "00967a5f",
      "metadata": {
        "id": "00967a5f"
      },
      "outputs": [],
      "source": [
        "TrainTranslator._train_step = _train_step"
      ]
    },
    {
      "cell_type": "markdown",
      "id": "4a3c89d8",
      "metadata": {
        "id": "4a3c89d8"
      },
      "source": [
        "The _loop_step method, added below, executes the decoder and calculates the incremental loss and new decoder state (dec_state)."
      ]
    },
    {
      "cell_type": "code",
      "execution_count": null,
      "id": "c893acc6",
      "metadata": {
        "id": "c893acc6"
      },
      "outputs": [],
      "source": [
        "def _loop_step(self, new_tokens, input_mask, enc_output, dec_state):\n",
        "  input_token, target_token = new_tokens[:, 0:1], new_tokens[:, 1:2]\n",
        "\n",
        "  # Run the decoder one step.\n",
        "  decoder_input = DecoderInput(new_tokens=input_token,\n",
        "                               enc_output=enc_output,\n",
        "                               mask=input_mask)\n",
        "\n",
        "  dec_result, dec_state = self.decoder(decoder_input, state=dec_state)\n",
        "  self.shape_checker(dec_result.logits, ('batch', 't1', 'logits'))\n",
        "  self.shape_checker(dec_result.attention_weights, ('batch', 't1', 's'))\n",
        "  self.shape_checker(dec_state, ('batch', 'dec_units'))\n",
        "\n",
        "  # `self.loss` returns the total for non-padded tokens\n",
        "  y = target_token\n",
        "  y_pred = dec_result.logits\n",
        "  step_loss = self.loss(y, y_pred)\n",
        "\n",
        "  return step_loss, dec_state"
      ]
    },
    {
      "cell_type": "code",
      "execution_count": null,
      "id": "fc1af270",
      "metadata": {
        "id": "fc1af270"
      },
      "outputs": [],
      "source": [
        "TrainTranslator._loop_step = _loop_step"
      ]
    },
    {
      "cell_type": "markdown",
      "id": "d325f697",
      "metadata": {
        "id": "d325f697"
      },
      "source": [
        "**Test the training step**"
      ]
    },
    {
      "cell_type": "code",
      "execution_count": null,
      "id": "d2057aea",
      "metadata": {
        "id": "d2057aea"
      },
      "outputs": [],
      "source": [
        "translator = TrainTranslator(\n",
        "    embedding_dim, units,\n",
        "    input_text_processor=input_text_processor,\n",
        "    output_text_processor=output_text_processor,\n",
        "    use_tf_function=False)\n",
        "\n",
        "# Configure the loss and optimizer\n",
        "translator.compile(\n",
        "    optimizer=tf.optimizers.Adam(),\n",
        "    loss=MaskedLoss(),\n",
        ")"
      ]
    },
    {
      "cell_type": "code",
      "execution_count": null,
      "id": "8faae06f",
      "metadata": {
        "id": "8faae06f"
      },
      "outputs": [],
      "source": [
        "@tf.function(input_signature=[[tf.TensorSpec(dtype=tf.string, shape=[None]),\n",
        "                               tf.TensorSpec(dtype=tf.string, shape=[None])]])\n",
        "def _tf_train_step(self, inputs):\n",
        "  return self._train_step(inputs)"
      ]
    },
    {
      "cell_type": "code",
      "execution_count": null,
      "id": "2074ff36",
      "metadata": {
        "id": "2074ff36"
      },
      "outputs": [],
      "source": [
        "TrainTranslator._tf_train_step = _tf_train_step"
      ]
    },
    {
      "cell_type": "code",
      "execution_count": null,
      "id": "5d54187e",
      "metadata": {
        "id": "5d54187e"
      },
      "outputs": [],
      "source": [
        "translator.use_tf_function = True"
      ]
    },
    {
      "cell_type": "code",
      "execution_count": null,
      "id": "2d38d2cd",
      "metadata": {
        "id": "2d38d2cd",
        "outputId": "f57ea737-20f7-4aa2-bdf0-295947c8ab3d"
      },
      "outputs": [
        {
          "data": {
            "text/plain": [
              "{'batch_loss': <tf.Tensor: shape=(), dtype=float32, numpy=7.389841>}"
            ]
          },
          "execution_count": 50,
          "metadata": {},
          "output_type": "execute_result"
        }
      ],
      "source": [
        "translator.train_step([example_input_batch, example_target_batch])"
      ]
    },
    {
      "cell_type": "code",
      "execution_count": null,
      "id": "c3458a8b",
      "metadata": {
        "id": "c3458a8b",
        "outputId": "419cf405-a18c-49bf-f66d-da4f842a6dc7"
      },
      "outputs": [
        {
          "name": "stdout",
          "output_type": "stream",
          "text": [
            "{'batch_loss': <tf.Tensor: shape=(), dtype=float32, numpy=7.3574944>}\n",
            "{'batch_loss': <tf.Tensor: shape=(), dtype=float32, numpy=7.294251>}\n",
            "{'batch_loss': <tf.Tensor: shape=(), dtype=float32, numpy=7.0991335>}\n",
            "{'batch_loss': <tf.Tensor: shape=(), dtype=float32, numpy=6.2763376>}\n",
            "{'batch_loss': <tf.Tensor: shape=(), dtype=float32, numpy=5.3231807>}\n",
            "{'batch_loss': <tf.Tensor: shape=(), dtype=float32, numpy=4.7004666>}\n",
            "{'batch_loss': <tf.Tensor: shape=(), dtype=float32, numpy=4.6283717>}\n",
            "{'batch_loss': <tf.Tensor: shape=(), dtype=float32, numpy=4.4811306>}\n",
            "{'batch_loss': <tf.Tensor: shape=(), dtype=float32, numpy=4.3151865>}\n",
            "{'batch_loss': <tf.Tensor: shape=(), dtype=float32, numpy=4.211711>}\n",
            "\n",
            "Wall time: 2min 7s\n"
          ]
        }
      ],
      "source": [
        "%%time\n",
        "for n in range(10):\n",
        "  print(translator.train_step([example_input_batch, example_target_batch]))\n",
        "print()"
      ]
    },
    {
      "cell_type": "markdown",
      "id": "f0704a09",
      "metadata": {
        "id": "f0704a09"
      },
      "source": [
        "**Plot the result for loss**"
      ]
    },
    {
      "cell_type": "code",
      "execution_count": null,
      "id": "e7d991bc",
      "metadata": {
        "id": "e7d991bc",
        "outputId": "65563955-7fa1-47c5-9f6c-d2cd51db93e1"
      },
      "outputs": [
        {
          "name": "stdout",
          "output_type": "stream",
          "text": [
            "....................................................................................................\n"
          ]
        },
        {
          "data": {
            "text/plain": [
              "[<matplotlib.lines.Line2D at 0x275838533d0>]"
            ]
          },
          "execution_count": 52,
          "metadata": {},
          "output_type": "execute_result"
        },
        {
          "data": {
            "image/png": "[encoded data removed]",
            "text/plain": [
              "<Figure size 432x288 with 1 Axes>"
            ]
          },
          "metadata": {
            "needs_background": "light"
          },
          "output_type": "display_data"
        }
      ],
      "source": [
        "losses = []\n",
        "for n in range(100):\n",
        "  print('.', end='')\n",
        "  logs = translator.train_step([example_input_batch, example_target_batch])\n",
        "  losses.append(logs['batch_loss'].numpy())\n",
        "\n",
        "print()\n",
        "plt.plot(losses)"
      ]
    },
    {
      "cell_type": "markdown",
      "id": "53f12728",
      "metadata": {
        "id": "53f12728"
      },
      "source": [
        "We can confirm that the train step is working"
      ]
    },
    {
      "cell_type": "markdown",
      "id": "8546a422",
      "metadata": {
        "id": "8546a422"
      },
      "source": [
        "**Build a fresh copy of the model to train from scratch**"
      ]
    },
    {
      "cell_type": "code",
      "execution_count": null,
      "id": "e4221577",
      "metadata": {
        "id": "e4221577"
      },
      "outputs": [],
      "source": [
        "train_translator = TrainTranslator(\n",
        "    embedding_dim, units,\n",
        "    input_text_processor=input_text_processor,\n",
        "    output_text_processor=output_text_processor)\n",
        "\n",
        "# Configure the loss and optimizer\n",
        "train_translator.compile(\n",
        "    optimizer=tf.optimizers.Adam(),\n",
        "    loss=MaskedLoss(),\n",
        ")"
      ]
    },
    {
      "cell_type": "markdown",
      "id": "07f30d05",
      "metadata": {
        "id": "07f30d05"
      },
      "source": [
        "### Train the model"
      ]
    },
    {
      "cell_type": "code",
      "execution_count": null,
      "id": "cf307f2d",
      "metadata": {
        "id": "cf307f2d"
      },
      "outputs": [],
      "source": [
        "class BatchLogs(tf.keras.callbacks.Callback):\n",
        "  def __init__(self, key):\n",
        "    self.key = key\n",
        "    self.logs = []\n",
        "\n",
        "  def on_train_batch_end(self, n, logs):\n",
        "    self.logs.append(logs[self.key])\n",
        "\n",
        "batch_loss = BatchLogs('batch_loss')"
      ]
    },
    {
      "cell_type": "code",
      "execution_count": null,
      "id": "c76f7efb",
      "metadata": {
        "id": "c76f7efb",
        "outputId": "cb696caf-bee8-471a-c7b8-55dc83709cd8"
      },
      "outputs": [
        {
          "name": "stdout",
          "output_type": "stream",
          "text": [
            "Epoch 1/3\n",
            "119/119 [==============================] - 729s 6s/step - batch_loss: 4.4652\n",
            "Epoch 2/3\n",
            "119/119 [==============================] - 625s 5s/step - batch_loss: 3.4841\n",
            "Epoch 3/3\n",
            "119/119 [==============================] - 735s 6s/step - batch_loss: 2.8791\n"
          ]
        },
        {
          "data": {
            "text/plain": [
              "<keras.callbacks.History at 0x27583878a60>"
            ]
          },
          "execution_count": 55,
          "metadata": {},
          "output_type": "execute_result"
        }
      ],
      "source": [
        "train_translator.fit(dataset, epochs=3,\n",
        "                     callbacks=[batch_loss])"
      ]
    },
    {
      "cell_type": "code",
      "execution_count": null,
      "id": "90e2e2ba",
      "metadata": {
        "id": "90e2e2ba",
        "outputId": "b2b842d9-2d7c-4475-eb13-c97f96f83ae3"
      },
      "outputs": [
        {
          "data": {
            "text/plain": [
              "Text(0, 0.5, 'CE/token')"
            ]
          },
          "execution_count": 56,
          "metadata": {},
          "output_type": "execute_result"
        },
        {
          "data": {
            "image/png": "[encoded data removed]",
            "text/plain": [
              "<Figure size 432x288 with 1 Axes>"
            ]
          },
          "metadata": {
            "needs_background": "light"
          },
          "output_type": "display_data"
        }
      ],
      "source": [
        "#Plot result of Loss \n",
        "plt.plot(batch_loss.logs)\n",
        "plt.ylim([0, 10])\n",
        "plt.xlabel('Batch #')\n",
        "plt.ylabel('CE/token')"
      ]
    },
    {
      "cell_type": "markdown",
      "id": "e78d873b",
      "metadata": {
        "id": "e78d873b"
      },
      "source": [
        "### Translate"
      ]
    },
    {
      "cell_type": "code",
      "execution_count": null,
      "id": "303aa3eb",
      "metadata": {
        "id": "303aa3eb"
      },
      "outputs": [],
      "source": [
        "class Translator(tf.Module):\n",
        "\n",
        "  def __init__(self, encoder, decoder, input_text_processor,\n",
        "               output_text_processor):\n",
        "    self.encoder = encoder\n",
        "    self.decoder = decoder\n",
        "    self.input_text_processor = input_text_processor\n",
        "    self.output_text_processor = output_text_processor\n",
        "\n",
        "    self.output_token_string_from_index = (\n",
        "        tf.keras.layers.experimental.preprocessing.StringLookup(\n",
        "            vocabulary=output_text_processor.get_vocabulary(),\n",
        "            mask_token='',\n",
        "            invert=True))\n",
        "\n",
        "    # The output should never generate padding, unknown, or start.\n",
        "    index_from_string = tf.keras.layers.experimental.preprocessing.StringLookup(\n",
        "        vocabulary=output_text_processor.get_vocabulary(), mask_token='')\n",
        "    token_mask_ids = index_from_string(['', '[UNK]', '[START]']).numpy()\n",
        "\n",
        "    token_mask = np.zeros([index_from_string.vocabulary_size()], dtype=np.bool)\n",
        "    token_mask[np.array(token_mask_ids)] = True\n",
        "    self.token_mask = token_mask\n",
        "\n",
        "    self.start_token = index_from_string(tf.constant('[START]'))\n",
        "    self.end_token = index_from_string(tf.constant('[END]'))"
      ]
    },
    {
      "cell_type": "code",
      "execution_count": null,
      "id": "ed97a050",
      "metadata": {
        "id": "ed97a050"
      },
      "outputs": [],
      "source": [
        "translator = Translator(\n",
        "    encoder=train_translator.encoder,\n",
        "    decoder=train_translator.decoder,\n",
        "    input_text_processor=input_text_processor,\n",
        "    output_text_processor=output_text_processor,\n",
        ")"
      ]
    },
    {
      "cell_type": "markdown",
      "id": "8a58cc45",
      "metadata": {
        "id": "8a58cc45"
      },
      "source": [
        "**Convert token IDs to text**"
      ]
    },
    {
      "cell_type": "code",
      "execution_count": null,
      "id": "3839ef9f",
      "metadata": {
        "id": "3839ef9f"
      },
      "outputs": [],
      "source": [
        "def tokens_to_text(self, result_tokens):\n",
        "  shape_checker = ShapeChecker()\n",
        "  shape_checker(result_tokens, ('batch', 't'))\n",
        "  result_text_tokens = self.output_token_string_from_index(result_tokens)\n",
        "  shape_checker(result_text_tokens, ('batch', 't'))\n",
        "\n",
        "  result_text = tf.strings.reduce_join(result_text_tokens,\n",
        "                                       axis=1, separator=' ')\n",
        "  shape_checker(result_text, ('batch'))\n",
        "\n",
        "  result_text = tf.strings.strip(result_text)\n",
        "  shape_checker(result_text, ('batch',))\n",
        "  return result_text"
      ]
    },
    {
      "cell_type": "code",
      "execution_count": null,
      "id": "2b851efe",
      "metadata": {
        "id": "2b851efe"
      },
      "outputs": [],
      "source": [
        "Translator.tokens_to_text = tokens_to_text"
      ]
    },
    {
      "cell_type": "code",
      "execution_count": null,
      "id": "0b8b741f",
      "metadata": {
        "id": "0b8b741f",
        "outputId": "a6e26c1a-4a57-41b5-fe53-b5736e0b6afa"
      },
      "outputs": [
        {
          "data": {
            "text/plain": [
              "array([b'impress chance', b'hungry down', b'fallen cry', b'no leave',\n",
              "       b'drives shut'], dtype=object)"
            ]
          },
          "execution_count": 61,
          "metadata": {},
          "output_type": "execute_result"
        }
      ],
      "source": [
        "#Input ome random token IDs and see what it generates\n",
        "example_output_tokens = tf.random.uniform(\n",
        "    shape=[5, 2], minval=0, dtype=tf.int64,\n",
        "    maxval=output_text_processor.vocabulary_size())\n",
        "translator.tokens_to_text(example_output_tokens).numpy()"
      ]
    },
    {
      "cell_type": "markdown",
      "id": "04d80536",
      "metadata": {
        "id": "04d80536"
      },
      "source": [
        "**Sample from the decoder's predictions**"
      ]
    },
    {
      "cell_type": "code",
      "execution_count": null,
      "id": "f734b981",
      "metadata": {
        "id": "f734b981"
      },
      "outputs": [],
      "source": [
        "def sample(self, logits, temperature):\n",
        "  shape_checker = ShapeChecker()\n",
        "  # 't' is usually 1 here.\n",
        "  shape_checker(logits, ('batch', 't', 'vocab'))\n",
        "  shape_checker(self.token_mask, ('vocab',))\n",
        "\n",
        "  token_mask = self.token_mask[tf.newaxis, tf.newaxis, :]\n",
        "  shape_checker(token_mask, ('batch', 't', 'vocab'), broadcast=True)\n",
        "\n",
        "  # Set the logits for all masked tokens to -inf, so they are never chosen.\n",
        "  logits = tf.where(self.token_mask, -np.inf, logits)\n",
        "\n",
        "  if temperature == 0.0:\n",
        "    new_tokens = tf.argmax(logits, axis=-1)\n",
        "  else: \n",
        "    logits = tf.squeeze(logits, axis=1)\n",
        "    new_tokens = tf.random.categorical(logits/temperature,\n",
        "                                        num_samples=1)\n",
        "  \n",
        "  shape_checker(new_tokens, ('batch', 't'))\n",
        "\n",
        "  return new_tokens\n",
        "\n",
        "Translator.sample = sample"
      ]
    },
    {
      "cell_type": "code",
      "execution_count": null,
      "id": "71f28f4c",
      "metadata": {
        "id": "71f28f4c",
        "outputId": "07d7e95d-d786-4369-f25d-46bad15f6814"
      },
      "outputs": [
        {
          "data": {
            "text/plain": [
              "<tf.Tensor: shape=(5, 1), dtype=int64, numpy=\n",
              "array([[2607],\n",
              "       [ 318],\n",
              "       [3215],\n",
              "       [2280],\n",
              "       [ 950]], dtype=int64)>"
            ]
          },
          "execution_count": 63,
          "metadata": {},
          "output_type": "execute_result"
        }
      ],
      "source": [
        "#Test run this function on some random inputs\n",
        "example_logits = tf.random.normal([5, 1, output_text_processor.vocabulary_size()])\n",
        "example_output_tokens = translator.sample(example_logits, temperature=1.0)\n",
        "example_output_tokens"
      ]
    },
    {
      "cell_type": "markdown",
      "id": "f2c012ae",
      "metadata": {
        "id": "f2c012ae"
      },
      "source": [
        "**Implement the translation loop**"
      ]
    },
    {
      "cell_type": "code",
      "execution_count": null,
      "id": "b75e12da",
      "metadata": {
        "id": "b75e12da"
      },
      "outputs": [],
      "source": [
        "def translate_unrolled(self,\n",
        "                       input_text, *,\n",
        "                       max_length=50,\n",
        "                       return_attention=True,\n",
        "                       temperature=1.0):\n",
        "  batch_size = tf.shape(input_text)[0]\n",
        "  input_tokens = self.input_text_processor(input_text)\n",
        "  enc_output, enc_state = self.encoder(input_tokens)\n",
        "\n",
        "  dec_state = enc_state\n",
        "  new_tokens = tf.fill([batch_size, 1], self.start_token)\n",
        "\n",
        "  result_tokens = []\n",
        "  attention = []\n",
        "  done = tf.zeros([batch_size, 1], dtype=tf.bool)\n",
        "\n",
        "  for _ in range(max_length):\n",
        "    dec_input = DecoderInput(new_tokens=new_tokens,\n",
        "                             enc_output=enc_output,\n",
        "                             mask=(input_tokens!=0))\n",
        "\n",
        "    dec_result, dec_state = self.decoder(dec_input, state=dec_state)\n",
        "\n",
        "    attention.append(dec_result.attention_weights)\n",
        "\n",
        "    new_tokens = self.sample(dec_result.logits, temperature)\n",
        "\n",
        "    # If a sequence produces an `end_token`, set it `done`\n",
        "    done = done | (new_tokens == self.end_token)\n",
        "    # Once a sequence is done it only produces 0-padding.\n",
        "    new_tokens = tf.where(done, tf.constant(0, dtype=tf.int64), new_tokens)\n",
        "\n",
        "    # Collect the generated tokens\n",
        "    result_tokens.append(new_tokens)\n",
        "\n",
        "    if tf.executing_eagerly() and tf.reduce_all(done):\n",
        "      break\n",
        "\n",
        "  # Convert the list of generates token ids to a list of strings.\n",
        "  result_tokens = tf.concat(result_tokens, axis=-1)\n",
        "  result_text = self.tokens_to_text(result_tokens)\n",
        "\n",
        "  if return_attention:\n",
        "    attention_stack = tf.concat(attention, axis=1)\n",
        "    return {'text': result_text, 'attention': attention_stack}\n",
        "  else:\n",
        "    return {'text': result_text}"
      ]
    },
    {
      "cell_type": "code",
      "execution_count": null,
      "id": "109be655",
      "metadata": {
        "id": "109be655"
      },
      "outputs": [],
      "source": [
        "Translator.translate = translate_unrolled"
      ]
    },
    {
      "cell_type": "code",
      "execution_count": null,
      "id": "7f720297",
      "metadata": {
        "id": "7f720297",
        "outputId": "87f8d175-91b8-4f9d-cba6-2b288fc7587d"
      },
      "outputs": [
        {
          "name": "stdout",
          "output_type": "stream",
          "text": [
            "you have any quickly for common .\n",
            "tom grabbed a lot and web rope conditions to play lying .\n",
            "\n",
            "Wall time: 2.34 s\n"
          ]
        }
      ],
      "source": [
        "%%time\n",
        "input_text = tf.constant([\n",
        "    'Bạn không thể tin tưởng vào máy dịch được.', # \"You can't trust computer translation.\"\n",
        "    'Tom đánh piano giỏi hơn Mary.' # \"Tom plays the piano better than Mary does.\"\n",
        "])\n",
        "\n",
        "result = translator.translate(\n",
        "    input_text = input_text)\n",
        "\n",
        "print(result['text'][0].numpy().decode())\n",
        "print(result['text'][1].numpy().decode())\n",
        "print()"
      ]
    },
    {
      "cell_type": "code",
      "execution_count": null,
      "id": "9d6b09a4",
      "metadata": {
        "id": "9d6b09a4"
      },
      "outputs": [],
      "source": [
        "@tf.function(input_signature=[tf.TensorSpec(dtype=tf.string, shape=[None])])\n",
        "def tf_translate(self, input_text):\n",
        "  return self.translate(input_text)\n",
        "\n",
        "Translator.tf_translate = tf_translate"
      ]
    },
    {
      "cell_type": "code",
      "execution_count": null,
      "id": "544a365f",
      "metadata": {
        "id": "544a365f",
        "outputId": "f0095f74-0c1c-45bb-fd66-c1d047b8195b"
      },
      "outputs": [
        {
          "name": "stdout",
          "output_type": "stream",
          "text": [
            "Wall time: 1min 30s\n"
          ]
        }
      ],
      "source": [
        "%%time\n",
        "result = translator.tf_translate(\n",
        "    input_text = input_text)"
      ]
    },
    {
      "cell_type": "code",
      "execution_count": null,
      "id": "9e8c6096",
      "metadata": {
        "id": "9e8c6096",
        "outputId": "a0a4b8d2-7925-4646-8682-7439099fc85e"
      },
      "outputs": [
        {
          "name": "stdout",
          "output_type": "stream",
          "text": [
            "you dont know logged almost you eaten fallen .\n",
            "tom changed the idea tom is here .\n",
            "\n",
            "Wall time: 434 ms\n"
          ]
        }
      ],
      "source": [
        "%%time\n",
        "result = translator.tf_translate(\n",
        "    input_text = input_text)\n",
        "\n",
        "print(result['text'][0].numpy().decode())\n",
        "print(result['text'][1].numpy().decode())\n",
        "print()"
      ]
    },
    {
      "cell_type": "markdown",
      "id": "39438a96",
      "metadata": {
        "id": "39438a96"
      },
      "source": [
        "### Visualize the process"
      ]
    },
    {
      "cell_type": "code",
      "execution_count": null,
      "id": "c9e9135f",
      "metadata": {
        "id": "c9e9135f",
        "outputId": "89e84c17-2857-4143-b69f-24d316f33b5e"
      },
      "outputs": [
        {
          "name": "stdout",
          "output_type": "stream",
          "text": [
            "[0.99999994 1.0000001  0.99999994 1.         0.9999999  0.99999994\n",
            " 0.99999994 1.         1.         1.0000001  1.         0.9999999\n",
            " 1.         0.99999994 0.99999994 1.         1.         0.99999994\n",
            " 1.         1.0000001  1.         1.         1.         1.\n",
            " 0.99999994 0.99999994 1.         1.         1.         0.99999994\n",
            " 1.         1.         1.         1.0000001  1.0000001  1.\n",
            " 1.         1.         1.         0.99999994 0.99999994 1.\n",
            " 0.99999994 0.9999999  1.         1.         1.         0.99999994\n",
            " 0.99999994 0.99999994]\n"
          ]
        }
      ],
      "source": [
        "a = result['attention'][0]\n",
        "\n",
        "print(np.sum(a, axis=-1))"
      ]
    },
    {
      "cell_type": "code",
      "execution_count": null,
      "id": "0d71c225",
      "metadata": {
        "id": "0d71c225",
        "outputId": "59a4e38c-7be5-4ce3-e083-548365391307"
      },
      "outputs": [
        {
          "data": {
            "image/png": "[encoded data removed]",
            "text/plain": [
              "<Figure size 432x288 with 1 Axes>"
            ]
          },
          "metadata": {
            "needs_background": "light"
          },
          "output_type": "display_data"
        }
      ],
      "source": [
        "_ = plt.bar(range(len(a[0, :])), a[0, :])"
      ]
    },
    {
      "cell_type": "code",
      "execution_count": null,
      "id": "aeed0630",
      "metadata": {
        "id": "aeed0630",
        "outputId": "066c7b6b-7cd6-4b9f-face-7bdb658673e8"
      },
      "outputs": [
        {
          "data": {
            "text/plain": [
              "<matplotlib.image.AxesImage at 0x275a2eab6d0>"
            ]
          },
          "execution_count": 77,
          "metadata": {},
          "output_type": "execute_result"
        },
        {
          "data": {
            "image/png": "[encoded data removed]",
            "text/plain": [
              "<Figure size 432x288 with 1 Axes>"
            ]
          },
          "metadata": {
            "needs_background": "light"
          },
          "output_type": "display_data"
        }
      ],
      "source": [
        "plt.imshow(np.array(a), vmin=0.0)"
      ]
    },
    {
      "cell_type": "markdown",
      "id": "d58be088",
      "metadata": {
        "id": "d58be088"
      },
      "source": [
        "### Labeled attention plots"
      ]
    },
    {
      "cell_type": "code",
      "execution_count": null,
      "id": "dc11a42d",
      "metadata": {
        "id": "dc11a42d"
      },
      "outputs": [],
      "source": [
        "#Labeled attention plots\n",
        "def plot_attention(attention, sentence, predicted_sentence):\n",
        "  sentence = tf_lower_and_split_punct(sentence).numpy().decode().split()\n",
        "  predicted_sentence = predicted_sentence.numpy().decode().split() + ['[END]']\n",
        "  fig = plt.figure(figsize=(10, 10))\n",
        "  ax = fig.add_subplot(1, 1, 1)\n",
        "\n",
        "  attention = attention[:len(predicted_sentence), :len(sentence)]\n",
        "\n",
        "  ax.matshow(attention, cmap='viridis', vmin=0.0)\n",
        "\n",
        "  fontdict = {'fontsize': 14}\n",
        "\n",
        "  ax.set_xticklabels([''] + sentence, fontdict=fontdict, rotation=90)\n",
        "  ax.set_yticklabels([''] + predicted_sentence, fontdict=fontdict)\n",
        "\n",
        "  ax.xaxis.set_major_locator(ticker.MultipleLocator(1))\n",
        "  ax.yaxis.set_major_locator(ticker.MultipleLocator(1))\n",
        "\n",
        "  ax.set_xlabel('Input text')\n",
        "  ax.set_ylabel('Output text')\n",
        "  plt.suptitle('Attention weights')"
      ]
    },
    {
      "cell_type": "code",
      "execution_count": null,
      "id": "1e11e85e",
      "metadata": {
        "id": "1e11e85e",
        "outputId": "e6333bbe-17e0-4fbb-b917-2f8cebc97103"
      },
      "outputs": [
        {
          "name": "stderr",
          "output_type": "stream",
          "text": [
            "C:\\Users\\Nhung\\AppData\\Local\\Temp/ipykernel_31496/2069917776.py:14: UserWarning: FixedFormatter should only be used together with FixedLocator\n",
            "  ax.set_xticklabels([''] + sentence, fontdict=fontdict, rotation=90)\n",
            "C:\\Users\\Nhung\\AppData\\Local\\Temp/ipykernel_31496/2069917776.py:15: UserWarning: FixedFormatter should only be used together with FixedLocator\n",
            "  ax.set_yticklabels([''] + predicted_sentence, fontdict=fontdict)\n"
          ]
        },
        {
          "data": {
            "image/png": "[encoded data removed]",
            "text/plain": [
              "<Figure size 720x720 with 1 Axes>"
            ]
          },
          "metadata": {
            "needs_background": "light"
          },
          "output_type": "display_data"
        }
      ],
      "source": [
        "i=0\n",
        "plot_attention(result['attention'][i], input_text[i], result['text'][i])"
      ]
    },
    {
      "cell_type": "code",
      "execution_count": null,
      "id": "e3b6077a",
      "metadata": {
        "id": "e3b6077a",
        "outputId": "e464496a-998c-4ce8-c271-7653dc84e2e8"
      },
      "outputs": [
        {
          "name": "stdout",
          "output_type": "stream",
          "text": [
            "she isnt here .\n",
            "the book will run to bed .\n",
            "first dont know her right long whenever me .\n",
            "\n",
            "Wall time: 1.62 s\n"
          ]
        }
      ],
      "source": [
        "%%time\n",
        "three_input_text = tf.constant([\n",
        "     #It might explode.\n",
        "    'Nó có thể nổ.',\n",
        "    #It's payback time.\t\n",
        "    'Đã đến lúc trả đũa rồi.',\n",
        "    # You're not allowed to camp here.'\n",
        "    'Anh không được phép cắm trại ở đây.'\n",
        "])\n",
        "\n",
        "result = translator.tf_translate(three_input_text)\n",
        "\n",
        "for tr in result['text']:\n",
        "  print(tr.numpy().decode())\n",
        "\n",
        "print()"
      ]
    },
    {
      "cell_type": "code",
      "execution_count": null,
      "id": "498dfa29",
      "metadata": {
        "id": "498dfa29",
        "outputId": "b819b7ad-8ec9-40dc-a81c-c6177cf646d3"
      },
      "outputs": [
        {
          "data": {
            "text/plain": [
              "<tf.Tensor: shape=(3,), dtype=string, numpy=\n",
              "array([b'she isnt here .', b'the book will run to bed .',\n",
              "       b'first dont know her right long whenever me .'], dtype=object)>"
            ]
          },
          "execution_count": 84,
          "metadata": {},
          "output_type": "execute_result"
        }
      ],
      "source": [
        "result['text']"
      ]
    },
    {
      "cell_type": "code",
      "execution_count": null,
      "id": "16c5b6b7",
      "metadata": {
        "id": "16c5b6b7",
        "outputId": "e53f665b-6ced-4076-ca7c-ce560e2a6558"
      },
      "outputs": [
        {
          "name": "stderr",
          "output_type": "stream",
          "text": [
            "C:\\Users\\Nhung\\AppData\\Local\\Temp/ipykernel_31496/2069917776.py:14: UserWarning: FixedFormatter should only be used together with FixedLocator\n",
            "  ax.set_xticklabels([''] + sentence, fontdict=fontdict, rotation=90)\n",
            "C:\\Users\\Nhung\\AppData\\Local\\Temp/ipykernel_31496/2069917776.py:15: UserWarning: FixedFormatter should only be used together with FixedLocator\n",
            "  ax.set_yticklabels([''] + predicted_sentence, fontdict=fontdict)\n"
          ]
        },
        {
          "data": {
            "image/png": "[encoded data removed]",
            "text/plain": [
              "<Figure size 720x720 with 1 Axes>"
            ]
          },
          "metadata": {
            "needs_background": "light"
          },
          "output_type": "display_data"
        }
      ],
      "source": [
        "i = 0\n",
        "plot_attention(result['attention'][i], three_input_text[i], result['text'][i])"
      ]
    },
    {
      "cell_type": "code",
      "execution_count": null,
      "id": "c13f7f8f",
      "metadata": {
        "id": "c13f7f8f",
        "outputId": "16dd3fdc-4b69-480a-f6df-099e93e2d98d"
      },
      "outputs": [
        {
          "name": "stderr",
          "output_type": "stream",
          "text": [
            "C:\\Users\\Nhung\\AppData\\Local\\Temp/ipykernel_31496/2069917776.py:14: UserWarning: FixedFormatter should only be used together with FixedLocator\n",
            "  ax.set_xticklabels([''] + sentence, fontdict=fontdict, rotation=90)\n",
            "C:\\Users\\Nhung\\AppData\\Local\\Temp/ipykernel_31496/2069917776.py:15: UserWarning: FixedFormatter should only be used together with FixedLocator\n",
            "  ax.set_yticklabels([''] + predicted_sentence, fontdict=fontdict)\n"
          ]
        },
        {
          "data": {
            "image/png": "[encoded data removed]",
            "text/plain": [
              "<Figure size 720x720 with 1 Axes>"
            ]
          },
          "metadata": {
            "needs_background": "light"
          },
          "output_type": "display_data"
        }
      ],
      "source": [
        "i = 1\n",
        "plot_attention(result['attention'][i], three_input_text[i], result['text'][i])"
      ]
    },
    {
      "cell_type": "code",
      "execution_count": null,
      "id": "937148d5",
      "metadata": {
        "id": "937148d5",
        "outputId": "559f610a-ad26-46b5-ffda-3ff10a54341c"
      },
      "outputs": [
        {
          "name": "stderr",
          "output_type": "stream",
          "text": [
            "C:\\Users\\Nhung\\AppData\\Local\\Temp/ipykernel_31496/2069917776.py:14: UserWarning: FixedFormatter should only be used together with FixedLocator\n",
            "  ax.set_xticklabels([''] + sentence, fontdict=fontdict, rotation=90)\n",
            "C:\\Users\\Nhung\\AppData\\Local\\Temp/ipykernel_31496/2069917776.py:15: UserWarning: FixedFormatter should only be used together with FixedLocator\n",
            "  ax.set_yticklabels([''] + predicted_sentence, fontdict=fontdict)\n"
          ]
        },
        {
          "data": {
            "image/png": "[encoded data removed]",
            "text/plain": [
              "<Figure size 720x720 with 1 Axes>"
            ]
          },
          "metadata": {
            "needs_background": "light"
          },
          "output_type": "display_data"
        }
      ],
      "source": [
        "i = 2\n",
        "plot_attention(result['attention'][i], three_input_text[i], result['text'][i])"
      ]
    },
    {
      "cell_type": "markdown",
      "id": "930d4775",
      "metadata": {
        "id": "930d4775"
      },
      "source": [
        "The short sentences often work well, but if the input is too long the model literally loses focus and stops providing reasonable predictions. There are two main reasons for this:\n",
        "\n",
        "The model was trained with teacher-forcing feeding the correct token at each step, regardless of the model's predictions. The model could be made more robust if it were sometimes fed its own predictions.\n",
        "\n",
        "The model only has access to its previous output through the RNN state. If the RNN state gets corrupted, there's no way for the model to recover. Transformers solve this by using self-attention in the encoder and decoder."
      ]
    },
    {
      "cell_type": "code",
      "execution_count": null,
      "id": "bf7699fe",
      "metadata": {
        "id": "bf7699fe",
        "outputId": "67797c68-b2a1-4c8b-f2d6-7884c4204558"
      },
      "outputs": [
        {
          "name": "stdout",
          "output_type": "stream",
          "text": [
            "Expected output:\n",
            " I learned nothing from the teacher.\n"
          ]
        }
      ],
      "source": [
        "long_input_text = tf.constant([inp[-1]])\n",
        "\n",
        "import textwrap\n",
        "print('Expected output:\\n', '\\n'.join(textwrap.wrap(targ[-1])))"
      ]
    },
    {
      "cell_type": "code",
      "execution_count": null,
      "id": "95712169",
      "metadata": {
        "id": "95712169",
        "outputId": "edbb5b18-4815-46ab-f2ff-67422435a4b1"
      },
      "outputs": [
        {
          "name": "stderr",
          "output_type": "stream",
          "text": [
            "C:\\Users\\Nhung\\AppData\\Local\\Temp/ipykernel_31496/2069917776.py:14: UserWarning: FixedFormatter should only be used together with FixedLocator\n",
            "  ax.set_xticklabels([''] + sentence, fontdict=fontdict, rotation=90)\n",
            "C:\\Users\\Nhung\\AppData\\Local\\Temp/ipykernel_31496/2069917776.py:15: UserWarning: FixedFormatter should only be used together with FixedLocator\n",
            "  ax.set_yticklabels([''] + predicted_sentence, fontdict=fontdict)\n"
          ]
        },
        {
          "data": {
            "image/png": "[encoded data removed]",
            "text/plain": [
              "<Figure size 720x720 with 1 Axes>"
            ]
          },
          "metadata": {
            "needs_background": "light"
          },
          "output_type": "display_data"
        }
      ],
      "source": [
        "result = translator.tf_translate(long_input_text)\n",
        "\n",
        "i = 0\n",
        "plot_attention(result['attention'][i], long_input_text[i], result['text'][i])\n",
        "_ = plt.suptitle('This never works')"
      ]
    },
    {
      "cell_type": "markdown",
      "id": "c7d92daf",
      "metadata": {
        "id": "c7d92daf"
      },
      "source": [
        "### Export"
      ]
    },
    {
      "cell_type": "code",
      "execution_count": null,
      "id": "2fb63bbc",
      "metadata": {
        "id": "2fb63bbc",
        "outputId": "d8456ff8-9745-46ac-834b-01bc30652bde"
      },
      "outputs": [
        {
          "name": "stderr",
          "output_type": "stream",
          "text": [
            "WARNING:absl:Found untraced functions such as encoder_2_layer_call_fn, encoder_2_layer_call_and_return_conditional_losses, decoder_2_layer_call_fn, decoder_2_layer_call_and_return_conditional_losses, embedding_4_layer_call_fn while saving (showing 5 of 60). These functions will not be directly callable after loading.\n"
          ]
        },
        {
          "name": "stdout",
          "output_type": "stream",
          "text": [
            "INFO:tensorflow:Assets written to: translator\\assets\n"
          ]
        },
        {
          "name": "stderr",
          "output_type": "stream",
          "text": [
            "INFO:tensorflow:Assets written to: translator\\assets\n"
          ]
        }
      ],
      "source": [
        "tf.saved_model.save(translator, 'translator',\n",
        "                    signatures={'serving_default': translator.tf_translate})"
      ]
    },
    {
      "cell_type": "code",
      "execution_count": null,
      "id": "3479c15f",
      "metadata": {
        "id": "3479c15f"
      },
      "outputs": [],
      "source": [
        "reloaded = tf.saved_model.load('translator')\n",
        "result = reloaded.tf_translate(three_input_text)"
      ]
    },
    {
      "cell_type": "code",
      "execution_count": null,
      "id": "31afe20d",
      "metadata": {
        "id": "31afe20d",
        "outputId": "6b376cf1-ad8e-4cc5-c0e2-20e6a17a27c0"
      },
      "outputs": [
        {
          "name": "stdout",
          "output_type": "stream",
          "text": [
            "he is he safe .\n",
            "the money is there my hair against school .\n",
            "not dont see saying me tired .\n",
            "\n",
            "Wall time: 576 ms\n"
          ]
        }
      ],
      "source": [
        "%%time\n",
        "result = reloaded.tf_translate(three_input_text)\n",
        "\n",
        "for tr in result['text']:\n",
        "  print(tr.numpy().decode())\n",
        "\n",
        "print()"
      ]
    },
    {
      "cell_type": "code",
      "execution_count": null,
      "id": "3847b6b8",
      "metadata": {
        "id": "3847b6b8"
      },
      "outputs": [],
      "source": [
        ""
      ]
    }
  ],
  "metadata": {
    "kernelspec": {
      "display_name": "Python 3 (ipykernel)",
      "language": "python",
      "name": "python3"
    },
    "language_info": {
      "codemirror_mode": {
        "name": "ipython",
        "version": 3
      },
      "file_extension": ".py",
      "mimetype": "text/x-python",
      "name": "python",
      "nbconvert_exporter": "python",
      "pygments_lexer": "ipython3",
      "version": "3.8.11"
    },
    "colab": {
      "name": "Seq2Seq Language Translation model, word model with attention",
      "provenance": []
    }
  },
  "nbformat": 4,
  "nbformat_minor": 5
}