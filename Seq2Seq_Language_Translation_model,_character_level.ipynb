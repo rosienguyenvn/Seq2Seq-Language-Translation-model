{
  "nbformat": 4,
  "nbformat_minor": 5,
  "metadata": {
    "kernelspec": {
      "display_name": "Python 3 (ipykernel)",
      "language": "python",
      "name": "python3"
    },
    "language_info": {
      "codemirror_mode": {
        "name": "ipython",
        "version": 3
      },
      "file_extension": ".py",
      "mimetype": "text/x-python",
      "name": "python",
      "nbconvert_exporter": "python",
      "pygments_lexer": "ipython3",
      "version": "3.8.11"
    },
    "colab": {
      "name": "Seq2Seq Language Translation model, character-level.ipynb",
      "provenance": []
    }
  },
  "cells": [
    {
      "cell_type": "markdown",
      "metadata": {
        "id": "9064fc14"
      },
      "source": [
        "# Seq2Seq Language Translation model, character-level\n",
        "\n",
        "### Rosie Nguyen"
      ],
      "id": "9064fc14"
    },
    {
      "cell_type": "markdown",
      "metadata": {
        "id": "960a2f7d"
      },
      "source": [
        "### 1. Build a Seq2Seq Language Translation model that can translate from English to Vietnamese, Character Level Model\n",
        "\n",
        "(See Datasets: http://www.manythings.org/anki/ )"
      ],
      "id": "960a2f7d"
    },
    {
      "cell_type": "markdown",
      "metadata": {
        "id": "28064d99"
      },
      "source": [
        "### Import Libraries"
      ],
      "id": "28064d99"
    },
    {
      "cell_type": "code",
      "metadata": {
        "id": "00108fd1"
      },
      "source": [
        "import pandas as pd\n",
        "from sklearn.model_selection import train_test_split\n",
        "import string\n",
        "from string import digits\n",
        "import re\n",
        "from sklearn.utils import shuffle\n",
        "from keras.preprocessing.sequence import pad_sequences\n",
        "from keras.layers import LSTM, Input, Dense,Embedding\n",
        "from keras.models import Model,load_model\n",
        "from keras.preprocessing.text import one_hot\n",
        "from keras.preprocessing.text import Tokenizer\n",
        "from keras.models import model_from_json\n",
        "import pickle as pkl\n",
        "import numpy as np\n",
        "from keras.utils.vis_utils import plot_model\n",
        "import matplotlib.pyplot as plt\n",
        "from tensorflow import keras"
      ],
      "id": "00108fd1",
      "execution_count": null,
      "outputs": []
    },
    {
      "cell_type": "markdown",
      "metadata": {
        "id": "e96b30e1"
      },
      "source": [
        "### Download the data"
      ],
      "id": "e96b30e1"
    },
    {
      "cell_type": "code",
      "metadata": {
        "id": "2369eec5",
        "outputId": "2cb6af4c-8e6b-4dd6-c281-d936b65d9b47"
      },
      "source": [
        "!!curl -O http://www.manythings.org/anki/vie-eng.zip\n",
        "!!unzip vie-eng.zip"
      ],
      "id": "2369eec5",
      "execution_count": null,
      "outputs": [
        {
          "data": {
            "text/plain": [
              "[\"'unzip' is not recognized as an internal or external command,\",\n",
              " 'operable program or batch file.']"
            ]
          },
          "execution_count": 2,
          "metadata": {},
          "output_type": "execute_result"
        }
      ]
    },
    {
      "cell_type": "markdown",
      "metadata": {
        "id": "52017804"
      },
      "source": [
        "### Configuration"
      ],
      "id": "52017804"
    },
    {
      "cell_type": "code",
      "metadata": {
        "id": "8e0ae0fc"
      },
      "source": [
        "batch_size = 64  # Batch size for training.\n",
        "epochs = 100  # Number of epochs to train for.\n",
        "latent_dim = 256  # Latent dimensionality of the encoding space.\n",
        "num_samples = 10000  # Number of samples to train on.\n",
        "# Path to the data txt file on disk.\n",
        "data_path = \"vie.txt\""
      ],
      "id": "8e0ae0fc",
      "execution_count": null,
      "outputs": []
    },
    {
      "cell_type": "markdown",
      "metadata": {
        "id": "bcd89531"
      },
      "source": [
        "### Prepare the data"
      ],
      "id": "bcd89531"
    },
    {
      "cell_type": "code",
      "metadata": {
        "id": "d7dc970b",
        "outputId": "f731b057-6e11-46c0-c3df-be76accfa96a"
      },
      "source": [
        "# Vectorize the data.\n",
        "input_texts = []\n",
        "target_texts = []\n",
        "input_characters = set()\n",
        "target_characters = set()\n",
        "with open(data_path, \"r\", encoding=\"utf-8\") as f:\n",
        "    lines = f.read().split(\"\\n\")\n",
        "for line in lines[: min(num_samples, len(lines) - 1)]:\n",
        "    input_text, target_text, _ = line.split(\"\\t\")\n",
        "    # We use \"tab\" as the \"start sequence\" character\n",
        "    # for the targets, and \"\\n\" as \"end sequence\" character.\n",
        "    target_text = \"\\t\" + target_text + \"\\n\"\n",
        "    input_texts.append(input_text)\n",
        "    target_texts.append(target_text)\n",
        "    for char in input_text:\n",
        "        if char not in input_characters:\n",
        "            input_characters.add(char)\n",
        "    for char in target_text:\n",
        "        if char not in target_characters:\n",
        "            target_characters.add(char)\n",
        "\n",
        "input_characters = sorted(list(input_characters))\n",
        "target_characters = sorted(list(target_characters))\n",
        "num_encoder_tokens = len(input_characters)\n",
        "num_decoder_tokens = len(target_characters)\n",
        "max_encoder_seq_length = max([len(txt) for txt in input_texts])\n",
        "max_decoder_seq_length = max([len(txt) for txt in target_texts])\n",
        "\n",
        "print(\"Number of samples:\", len(input_texts))\n",
        "print(\"Number of unique input tokens:\", num_encoder_tokens)\n",
        "print(\"Number of unique output tokens:\", num_decoder_tokens)\n",
        "print(\"Max sequence length for inputs:\", max_encoder_seq_length)\n",
        "print(\"Max sequence length for outputs:\", max_decoder_seq_length)\n",
        "\n",
        "input_token_index = dict([(char, i) for i, char in enumerate(input_characters)])\n",
        "target_token_index = dict([(char, i) for i, char in enumerate(target_characters)])\n",
        "\n",
        "encoder_input_data = np.zeros(\n",
        "    (len(input_texts), max_encoder_seq_length, num_encoder_tokens), dtype=\"float32\"\n",
        ")\n",
        "decoder_input_data = np.zeros(\n",
        "    (len(input_texts), max_decoder_seq_length, num_decoder_tokens), dtype=\"float32\"\n",
        ")\n",
        "decoder_target_data = np.zeros(\n",
        "    (len(input_texts), max_decoder_seq_length, num_decoder_tokens), dtype=\"float32\"\n",
        ")\n",
        "\n",
        "for i, (input_text, target_text) in enumerate(zip(input_texts, target_texts)):\n",
        "    for t, char in enumerate(input_text):\n",
        "        encoder_input_data[i, t, input_token_index[char]] = 1.0\n",
        "    encoder_input_data[i, t + 1 :, input_token_index[\" \"]] = 1.0\n",
        "    for t, char in enumerate(target_text):\n",
        "        # decoder_target_data is ahead of decoder_input_data by one timestep\n",
        "        decoder_input_data[i, t, target_token_index[char]] = 1.0\n",
        "        if t > 0:\n",
        "            # decoder_target_data will be ahead by one timestep\n",
        "            # and will not include the start character.\n",
        "            decoder_target_data[i, t - 1, target_token_index[char]] = 1.0\n",
        "    decoder_input_data[i, t + 1 :, target_token_index[\" \"]] = 1.0\n",
        "    decoder_target_data[i, t:, target_token_index[\" \"]] = 1.0"
      ],
      "id": "d7dc970b",
      "execution_count": null,
      "outputs": [
        {
          "name": "stdout",
          "output_type": "stream",
          "text": [
            "Number of samples: 7558\n",
            "Number of unique input tokens: 73\n",
            "Number of unique output tokens: 162\n",
            "Max sequence length for inputs: 182\n",
            "Max sequence length for outputs: 163\n"
          ]
        }
      ]
    },
    {
      "cell_type": "markdown",
      "metadata": {
        "id": "3914635a"
      },
      "source": [
        "### Build the model"
      ],
      "id": "3914635a"
    },
    {
      "cell_type": "code",
      "metadata": {
        "id": "84e0d9a4",
        "outputId": "3c8ec682-a44a-440c-dcf9-3d731d41a401"
      },
      "source": [
        "# Define an input sequence and process it.\n",
        "encoder_inputs = keras.Input(shape=(None, num_encoder_tokens))\n",
        "encoder = keras.layers.LSTM(latent_dim, return_state=True)\n",
        "encoder_outputs, state_h, state_c = encoder(encoder_inputs)\n",
        "\n",
        "# We discard `encoder_outputs` and only keep the states.\n",
        "encoder_states = [state_h, state_c]\n",
        "\n",
        "# Set up the decoder, using `encoder_states` as initial state.\n",
        "decoder_inputs = keras.Input(shape=(None, num_decoder_tokens))\n",
        "\n",
        "# We set up our decoder to return full output sequences,\n",
        "# and to return internal states as well. We don't use the\n",
        "# return states in the training model, but we will use them in inference.\n",
        "decoder_lstm = keras.layers.LSTM(latent_dim, return_sequences=True, return_state=True)\n",
        "decoder_outputs, _, _ = decoder_lstm(decoder_inputs, initial_state=encoder_states)\n",
        "decoder_dense = keras.layers.Dense(num_decoder_tokens, activation=\"softmax\")\n",
        "decoder_outputs = decoder_dense(decoder_outputs)\n",
        "\n",
        "# Define the model that will turn\n",
        "# `encoder_input_data` & `decoder_input_data` into `decoder_target_data`\n",
        "model = keras.Model([encoder_inputs, decoder_inputs], decoder_outputs)\n",
        "model.summary()"
      ],
      "id": "84e0d9a4",
      "execution_count": null,
      "outputs": [
        {
          "name": "stdout",
          "output_type": "stream",
          "text": [
            "Model: \"model\"\n",
            "__________________________________________________________________________________________________\n",
            "Layer (type)                    Output Shape         Param #     Connected to                     \n",
            "==================================================================================================\n",
            "input_1 (InputLayer)            [(None, None, 73)]   0                                            \n",
            "__________________________________________________________________________________________________\n",
            "input_2 (InputLayer)            [(None, None, 162)]  0                                            \n",
            "__________________________________________________________________________________________________\n",
            "lstm (LSTM)                     [(None, 256), (None, 337920      input_1[0][0]                    \n",
            "__________________________________________________________________________________________________\n",
            "lstm_1 (LSTM)                   [(None, None, 256),  429056      input_2[0][0]                    \n",
            "                                                                 lstm[0][1]                       \n",
            "                                                                 lstm[0][2]                       \n",
            "__________________________________________________________________________________________________\n",
            "dense (Dense)                   (None, None, 162)    41634       lstm_1[0][0]                     \n",
            "==================================================================================================\n",
            "Total params: 808,610\n",
            "Trainable params: 808,610\n",
            "Non-trainable params: 0\n",
            "__________________________________________________________________________________________________\n"
          ]
        }
      ]
    },
    {
      "cell_type": "markdown",
      "metadata": {
        "id": "a4420033"
      },
      "source": [
        "### Train the model"
      ],
      "id": "a4420033"
    },
    {
      "cell_type": "code",
      "metadata": {
        "id": "915b6bfe",
        "outputId": "c2d792c4-107f-4a4e-e216-d156710ac1ed"
      },
      "source": [
        "model.compile(optimizer=\"rmsprop\", loss=\"categorical_crossentropy\", metrics=[\"accuracy\"])\n",
        "\n",
        "history = model.fit(\n",
        "    [encoder_input_data, decoder_input_data],\n",
        "    decoder_target_data,\n",
        "    batch_size=batch_size,\n",
        "    epochs=epochs,\n",
        "    validation_split=0.2,\n",
        ")\n",
        "# Save model\n",
        "model.save(\"s2s\")"
      ],
      "id": "915b6bfe",
      "execution_count": null,
      "outputs": [
        {
          "name": "stdout",
          "output_type": "stream",
          "text": [
            "Epoch 1/100\n",
            "95/95 [==============================] - 246s 3s/step - loss: 0.8446 - accuracy: 0.8399 - val_loss: 1.3008 - val_accuracy: 0.7403\n",
            "Epoch 2/100\n",
            "95/95 [==============================] - 290s 3s/step - loss: 0.6235 - accuracy: 0.8560 - val_loss: 1.0535 - val_accuracy: 0.7688\n",
            "Epoch 3/100\n",
            "95/95 [==============================] - 264s 3s/step - loss: 0.5464 - accuracy: 0.8756 - val_loss: 0.8580 - val_accuracy: 0.7867\n",
            "Epoch 4/100\n",
            "95/95 [==============================] - 299s 3s/step - loss: 0.4362 - accuracy: 0.8901 - val_loss: 0.7666 - val_accuracy: 0.8033\n",
            "Epoch 5/100\n",
            "95/95 [==============================] - 194s 2s/step - loss: 0.3811 - accuracy: 0.8977 - val_loss: 0.7027 - val_accuracy: 0.8100\n",
            "Epoch 6/100\n",
            "95/95 [==============================] - 149s 2s/step - loss: 0.3535 - accuracy: 0.9026 - val_loss: 0.6579 - val_accuracy: 0.8238\n",
            "Epoch 7/100\n",
            "95/95 [==============================] - 156s 2s/step - loss: 0.3355 - accuracy: 0.9067 - val_loss: 0.6466 - val_accuracy: 0.8207\n",
            "Epoch 8/100\n",
            "95/95 [==============================] - 167s 2s/step - loss: 0.3226 - accuracy: 0.9098 - val_loss: 0.6227 - val_accuracy: 0.8263\n",
            "Epoch 9/100\n",
            "95/95 [==============================] - 191s 2s/step - loss: 0.3131 - accuracy: 0.9122 - val_loss: 0.5992 - val_accuracy: 0.8356\n",
            "Epoch 10/100\n",
            "95/95 [==============================] - 203s 2s/step - loss: 0.3039 - accuracy: 0.9141 - val_loss: 0.5931 - val_accuracy: 0.8364\n",
            "Epoch 11/100\n",
            "95/95 [==============================] - 196s 2s/step - loss: 0.2967 - accuracy: 0.9160 - val_loss: 0.5786 - val_accuracy: 0.8394\n",
            "Epoch 12/100\n",
            "95/95 [==============================] - 195s 2s/step - loss: 0.2911 - accuracy: 0.9174 - val_loss: 0.5800 - val_accuracy: 0.8370\n",
            "Epoch 13/100\n",
            "95/95 [==============================] - 199s 2s/step - loss: 0.2847 - accuracy: 0.9191 - val_loss: 0.5667 - val_accuracy: 0.8410\n",
            "Epoch 14/100\n",
            "95/95 [==============================] - 194s 2s/step - loss: 0.2805 - accuracy: 0.9203 - val_loss: 0.5740 - val_accuracy: 0.8335\n",
            "Epoch 15/100\n",
            "95/95 [==============================] - 196s 2s/step - loss: 0.2732 - accuracy: 0.9222 - val_loss: 0.5562 - val_accuracy: 0.8434\n",
            "Epoch 16/100\n",
            "95/95 [==============================] - 199s 2s/step - loss: 0.2679 - accuracy: 0.9238 - val_loss: 0.5554 - val_accuracy: 0.8442\n",
            "Epoch 17/100\n",
            "95/95 [==============================] - 201s 2s/step - loss: 0.2629 - accuracy: 0.9251 - val_loss: 0.5496 - val_accuracy: 0.8468\n",
            "Epoch 18/100\n",
            "95/95 [==============================] - 207s 2s/step - loss: 0.2583 - accuracy: 0.9265 - val_loss: 0.5480 - val_accuracy: 0.8469\n",
            "Epoch 19/100\n",
            "95/95 [==============================] - 209s 2s/step - loss: 0.2536 - accuracy: 0.9276 - val_loss: 0.5443 - val_accuracy: 0.8481\n",
            "Epoch 20/100\n",
            "95/95 [==============================] - 213s 2s/step - loss: 0.2502 - accuracy: 0.9288 - val_loss: 0.5384 - val_accuracy: 0.8492\n",
            "Epoch 21/100\n",
            "95/95 [==============================] - 216s 2s/step - loss: 0.2451 - accuracy: 0.9302 - val_loss: 0.5431 - val_accuracy: 0.8484\n",
            "Epoch 22/100\n",
            "95/95 [==============================] - 215s 2s/step - loss: 0.2410 - accuracy: 0.9314 - val_loss: 0.5333 - val_accuracy: 0.8527\n",
            "Epoch 23/100\n",
            "95/95 [==============================] - 218s 2s/step - loss: 0.2370 - accuracy: 0.9325 - val_loss: 0.5440 - val_accuracy: 0.8481\n",
            "Epoch 24/100\n",
            "95/95 [==============================] - 214s 2s/step - loss: 0.2332 - accuracy: 0.9336 - val_loss: 0.5490 - val_accuracy: 0.8458\n",
            "Epoch 25/100\n",
            "95/95 [==============================] - 215s 2s/step - loss: 0.2293 - accuracy: 0.9347 - val_loss: 0.5401 - val_accuracy: 0.8520\n",
            "Epoch 26/100\n",
            "95/95 [==============================] - 216s 2s/step - loss: 0.2257 - accuracy: 0.9357 - val_loss: 0.5410 - val_accuracy: 0.8500\n",
            "Epoch 27/100\n",
            "95/95 [==============================] - 214s 2s/step - loss: 0.2219 - accuracy: 0.9368 - val_loss: 0.5405 - val_accuracy: 0.8510\n",
            "Epoch 28/100\n",
            "95/95 [==============================] - 213s 2s/step - loss: 0.2224 - accuracy: 0.9368 - val_loss: 0.5411 - val_accuracy: 0.8506\n",
            "Epoch 29/100\n",
            "95/95 [==============================] - 214s 2s/step - loss: 0.2178 - accuracy: 0.9380 - val_loss: 0.5547 - val_accuracy: 0.8463\n",
            "Epoch 30/100\n",
            "95/95 [==============================] - 215s 2s/step - loss: 0.2133 - accuracy: 0.9390 - val_loss: 0.5393 - val_accuracy: 0.8514\n",
            "Epoch 31/100\n",
            "95/95 [==============================] - 213s 2s/step - loss: 0.2087 - accuracy: 0.9407 - val_loss: 0.5409 - val_accuracy: 0.8530\n",
            "Epoch 32/100\n",
            "95/95 [==============================] - 212s 2s/step - loss: 0.2064 - accuracy: 0.9414 - val_loss: 0.5456 - val_accuracy: 0.8507\n",
            "Epoch 33/100\n",
            "95/95 [==============================] - 213s 2s/step - loss: 0.2027 - accuracy: 0.9426 - val_loss: 0.5533 - val_accuracy: 0.8501\n",
            "Epoch 34/100\n",
            "95/95 [==============================] - 239s 3s/step - loss: 0.1992 - accuracy: 0.9438 - val_loss: 0.5661 - val_accuracy: 0.8467\n",
            "Epoch 35/100\n",
            "95/95 [==============================] - 248s 3s/step - loss: 0.1953 - accuracy: 0.9449 - val_loss: 0.5587 - val_accuracy: 0.8508\n",
            "Epoch 36/100\n",
            "95/95 [==============================] - 239s 3s/step - loss: 0.1917 - accuracy: 0.9456 - val_loss: 0.5644 - val_accuracy: 0.8494\n",
            "Epoch 37/100\n",
            "95/95 [==============================] - 236s 2s/step - loss: 0.1884 - accuracy: 0.9466 - val_loss: 0.5595 - val_accuracy: 0.8513\n",
            "Epoch 38/100\n",
            "95/95 [==============================] - 236s 2s/step - loss: 0.1851 - accuracy: 0.9476 - val_loss: 0.5664 - val_accuracy: 0.8499\n",
            "Epoch 39/100\n",
            "95/95 [==============================] - 235s 2s/step - loss: 0.1820 - accuracy: 0.9485 - val_loss: 0.5786 - val_accuracy: 0.8471\n",
            "Epoch 40/100\n",
            "95/95 [==============================] - 239s 3s/step - loss: 0.1791 - accuracy: 0.9492 - val_loss: 0.5818 - val_accuracy: 0.8478\n",
            "Epoch 41/100\n",
            "95/95 [==============================] - 236s 2s/step - loss: 0.1759 - accuracy: 0.9502 - val_loss: 0.5745 - val_accuracy: 0.8497\n",
            "Epoch 42/100\n",
            "95/95 [==============================] - 232s 2s/step - loss: 0.1734 - accuracy: 0.9507 - val_loss: 0.5981 - val_accuracy: 0.8440\n",
            "Epoch 43/100\n",
            "95/95 [==============================] - 227s 2s/step - loss: 0.1704 - accuracy: 0.9519 - val_loss: 0.5877 - val_accuracy: 0.8490\n",
            "Epoch 44/100\n",
            "95/95 [==============================] - 237s 2s/step - loss: 0.1680 - accuracy: 0.9523 - val_loss: 0.6030 - val_accuracy: 0.8445\n",
            "Epoch 45/100\n",
            "95/95 [==============================] - 213s 2s/step - loss: 0.1655 - accuracy: 0.9531 - val_loss: 0.6115 - val_accuracy: 0.8434\n",
            "Epoch 46/100\n",
            "95/95 [==============================] - 213s 2s/step - loss: 0.1628 - accuracy: 0.9540 - val_loss: 0.6185 - val_accuracy: 0.8434\n",
            "Epoch 47/100\n",
            "95/95 [==============================] - 218s 2s/step - loss: 0.1603 - accuracy: 0.9546 - val_loss: 0.6257 - val_accuracy: 0.8428\n",
            "Epoch 48/100\n",
            "95/95 [==============================] - 238s 3s/step - loss: 0.1577 - accuracy: 0.9555 - val_loss: 0.6153 - val_accuracy: 0.8462\n",
            "Epoch 49/100\n",
            "95/95 [==============================] - 240s 3s/step - loss: 0.1551 - accuracy: 0.9563 - val_loss: 0.6212 - val_accuracy: 0.8457\n",
            "Epoch 50/100\n",
            "95/95 [==============================] - 234s 2s/step - loss: 0.1528 - accuracy: 0.9570 - val_loss: 0.6405 - val_accuracy: 0.8418\n",
            "Epoch 51/100\n",
            "95/95 [==============================] - 223s 2s/step - loss: 0.1505 - accuracy: 0.9576 - val_loss: 0.6348 - val_accuracy: 0.8442\n",
            "Epoch 52/100\n",
            "95/95 [==============================] - 217s 2s/step - loss: 0.1486 - accuracy: 0.9581 - val_loss: 0.6359 - val_accuracy: 0.8450\n",
            "Epoch 53/100\n",
            "95/95 [==============================] - 219s 2s/step - loss: 0.1460 - accuracy: 0.9588 - val_loss: 0.6639 - val_accuracy: 0.8395\n",
            "Epoch 54/100\n",
            "95/95 [==============================] - 21561s 229s/step - loss: 0.1440 - accuracy: 0.9597 - val_loss: 0.6533 - val_accuracy: 0.8432\n",
            "Epoch 55/100\n",
            "95/95 [==============================] - 180s 2s/step - loss: 0.1418 - accuracy: 0.9601 - val_loss: 0.6607 - val_accuracy: 0.8414\n",
            "Epoch 56/100\n",
            "95/95 [==============================] - 186s 2s/step - loss: 0.1395 - accuracy: 0.9609 - val_loss: 0.6562 - val_accuracy: 0.8441\n",
            "Epoch 57/100\n",
            "95/95 [==============================] - 178s 2s/step - loss: 0.1372 - accuracy: 0.9614 - val_loss: 0.6595 - val_accuracy: 0.8452\n",
            "Epoch 58/100\n",
            "95/95 [==============================] - 167s 2s/step - loss: 0.1355 - accuracy: 0.9619 - val_loss: 0.6852 - val_accuracy: 0.8393\n",
            "Epoch 59/100\n",
            "95/95 [==============================] - 182s 2s/step - loss: 0.1335 - accuracy: 0.9624 - val_loss: 0.6769 - val_accuracy: 0.8425\n",
            "Epoch 60/100\n",
            "95/95 [==============================] - 205s 2s/step - loss: 0.1315 - accuracy: 0.9630 - val_loss: 0.6767 - val_accuracy: 0.8433\n",
            "Epoch 61/100\n",
            "95/95 [==============================] - 217s 2s/step - loss: 0.1298 - accuracy: 0.9634 - val_loss: 0.6880 - val_accuracy: 0.8430\n",
            "Epoch 62/100\n",
            "95/95 [==============================] - 240s 3s/step - loss: 0.1278 - accuracy: 0.9643 - val_loss: 0.6970 - val_accuracy: 0.8413\n",
            "Epoch 63/100\n",
            "95/95 [==============================] - 241s 3s/step - loss: 0.1258 - accuracy: 0.9649 - val_loss: 0.6956 - val_accuracy: 0.8422\n",
            "Epoch 64/100\n",
            "95/95 [==============================] - 242s 3s/step - loss: 0.1245 - accuracy: 0.9653 - val_loss: 0.6954 - val_accuracy: 0.8439\n",
            "Epoch 65/100\n",
            "95/95 [==============================] - 27352s 291s/step - loss: 0.1240 - accuracy: 0.9653 - val_loss: 0.7094 - val_accuracy: 0.8412\n",
            "Epoch 66/100\n",
            "95/95 [==============================] - 180s 2s/step - loss: 0.1211 - accuracy: 0.9661 - val_loss: 0.7099 - val_accuracy: 0.8420\n",
            "Epoch 67/100\n",
            "95/95 [==============================] - 181s 2s/step - loss: 0.1202 - accuracy: 0.9662 - val_loss: 0.7229 - val_accuracy: 0.8401\n",
            "Epoch 68/100\n",
            "95/95 [==============================] - 184s 2s/step - loss: 0.1180 - accuracy: 0.9670 - val_loss: 0.7206 - val_accuracy: 0.8411\n",
            "Epoch 69/100\n",
            "95/95 [==============================] - 180s 2s/step - loss: 0.1168 - accuracy: 0.9673 - val_loss: 0.7485 - val_accuracy: 0.8391\n",
            "Epoch 70/100\n",
            "95/95 [==============================] - 188s 2s/step - loss: 0.1152 - accuracy: 0.9679 - val_loss: 0.7324 - val_accuracy: 0.8416\n",
            "Epoch 71/100\n",
            "95/95 [==============================] - 213s 2s/step - loss: 0.1143 - accuracy: 0.9680 - val_loss: 0.7293 - val_accuracy: 0.8425\n",
            "Epoch 72/100\n",
            "95/95 [==============================] - 269s 3s/step - loss: 0.1129 - accuracy: 0.9683 - val_loss: 0.7510 - val_accuracy: 0.8401\n",
            "Epoch 73/100\n",
            "95/95 [==============================] - 267s 3s/step - loss: 0.1116 - accuracy: 0.9688 - val_loss: 0.7535 - val_accuracy: 0.8405\n",
            "Epoch 74/100\n",
            "95/95 [==============================] - 223s 2s/step - loss: 0.1111 - accuracy: 0.9689 - val_loss: 0.7528 - val_accuracy: 0.8405\n",
            "Epoch 75/100\n",
            "95/95 [==============================] - 221s 2s/step - loss: 0.1089 - accuracy: 0.9696 - val_loss: 0.7551 - val_accuracy: 0.8410\n",
            "Epoch 76/100\n",
            "95/95 [==============================] - 232s 2s/step - loss: 0.1075 - accuracy: 0.9699 - val_loss: 0.7684 - val_accuracy: 0.8400\n",
            "Epoch 77/100\n",
            "95/95 [==============================] - 243s 3s/step - loss: 0.1063 - accuracy: 0.9703 - val_loss: 0.7702 - val_accuracy: 0.8398\n",
            "Epoch 78/100\n",
            "95/95 [==============================] - 252s 3s/step - loss: 0.1053 - accuracy: 0.9705 - val_loss: 0.7600 - val_accuracy: 0.8433\n",
            "Epoch 79/100\n",
            "95/95 [==============================] - 260s 3s/step - loss: 6.5630 - accuracy: 0.4209 - val_loss: 1.5972 - val_accuracy: 0.6974\n",
            "Epoch 80/100\n",
            "95/95 [==============================] - 264s 3s/step - loss: 0.4147 - accuracy: 0.9018 - val_loss: 0.8226 - val_accuracy: 0.8264\n",
            "Epoch 81/100\n",
            "95/95 [==============================] - 270s 3s/step - loss: 0.1402 - accuracy: 0.9592 - val_loss: 0.7637 - val_accuracy: 0.8383\n",
            "Epoch 82/100\n",
            "95/95 [==============================] - 287s 3s/step - loss: 0.3450 - accuracy: 0.9180 - val_loss: 0.7758 - val_accuracy: 0.8361\n",
            "Epoch 83/100\n",
            "95/95 [==============================] - 298s 3s/step - loss: 0.1361 - accuracy: 0.9598 - val_loss: 0.7549 - val_accuracy: 0.8409\n",
            "Epoch 84/100\n",
            "95/95 [==============================] - 332s 4s/step - loss: 0.1278 - accuracy: 0.9643 - val_loss: 0.7532 - val_accuracy: 0.8409\n",
            "Epoch 85/100\n",
            "95/95 [==============================] - 356s 4s/step - loss: 0.4159 - accuracy: 0.9046 - val_loss: 0.7989 - val_accuracy: 0.8312\n",
            "Epoch 86/100\n",
            "95/95 [==============================] - 264s 3s/step - loss: 0.2570 - accuracy: 0.9310 - val_loss: 0.7200 - val_accuracy: 0.8399\n",
            "Epoch 87/100\n",
            "95/95 [==============================] - 261s 3s/step - loss: 0.1660 - accuracy: 0.9508 - val_loss: 0.7068 - val_accuracy: 0.8430\n",
            "Epoch 88/100\n",
            "95/95 [==============================] - 277s 3s/step - loss: 0.2039 - accuracy: 0.9431 - val_loss: 0.7459 - val_accuracy: 0.8373\n",
            "Epoch 89/100\n",
            "95/95 [==============================] - 291s 3s/step - loss: 0.1652 - accuracy: 0.9509 - val_loss: 0.7263 - val_accuracy: 0.8408\n",
            "Epoch 90/100\n",
            "95/95 [==============================] - 311s 3s/step - loss: 0.1536 - accuracy: 0.9552 - val_loss: 0.7508 - val_accuracy: 0.8395\n",
            "Epoch 91/100\n",
            "95/95 [==============================] - 272s 3s/step - loss: 0.1384 - accuracy: 0.9591 - val_loss: 0.7448 - val_accuracy: 0.8396\n",
            "Epoch 92/100\n",
            "95/95 [==============================] - 328s 3s/step - loss: 0.1211 - accuracy: 0.9649 - val_loss: 0.7253 - val_accuracy: 0.8434\n",
            "Epoch 93/100\n",
            "95/95 [==============================] - 280s 3s/step - loss: 0.1432 - accuracy: 0.9583 - val_loss: 0.7376 - val_accuracy: 0.8422\n",
            "Epoch 94/100\n",
            "95/95 [==============================] - 341s 4s/step - loss: 0.1147 - accuracy: 0.9674 - val_loss: 0.7510 - val_accuracy: 0.8405\n",
            "Epoch 95/100\n",
            "95/95 [==============================] - 342s 4s/step - loss: 0.1644 - accuracy: 0.9512 - val_loss: 0.7456 - val_accuracy: 0.8406\n",
            "Epoch 96/100\n",
            "95/95 [==============================] - 324s 3s/step - loss: 0.1120 - accuracy: 0.9680 - val_loss: 0.7616 - val_accuracy: 0.8408\n",
            "Epoch 97/100\n",
            "95/95 [==============================] - 293s 3s/step - loss: 0.1097 - accuracy: 0.9692 - val_loss: 0.7651 - val_accuracy: 0.8404\n",
            "Epoch 98/100\n",
            "95/95 [==============================] - 268s 3s/step - loss: 0.1064 - accuracy: 0.9702 - val_loss: 0.7720 - val_accuracy: 0.8413\n",
            "Epoch 99/100\n",
            "95/95 [==============================] - 294s 3s/step - loss: 0.1047 - accuracy: 0.9705 - val_loss: 0.7876 - val_accuracy: 0.8387\n",
            "Epoch 100/100\n",
            "95/95 [==============================] - 206s 2s/step - loss: 0.1034 - accuracy: 0.9709 - val_loss: 0.7950 - val_accuracy: 0.8378\n"
          ]
        },
        {
          "name": "stderr",
          "output_type": "stream",
          "text": [
            "WARNING:absl:Found untraced functions such as lstm_cell_layer_call_fn, lstm_cell_layer_call_and_return_conditional_losses, lstm_cell_1_layer_call_fn, lstm_cell_1_layer_call_and_return_conditional_losses, lstm_cell_layer_call_fn while saving (showing 5 of 10). These functions will not be directly callable after loading.\n"
          ]
        },
        {
          "name": "stdout",
          "output_type": "stream",
          "text": [
            "INFO:tensorflow:Assets written to: s2s\\assets\n"
          ]
        },
        {
          "name": "stderr",
          "output_type": "stream",
          "text": [
            "INFO:tensorflow:Assets written to: s2s\\assets\n"
          ]
        }
      ]
    },
    {
      "cell_type": "markdown",
      "metadata": {
        "id": "b27ce06b"
      },
      "source": [
        ""
      ],
      "id": "b27ce06b"
    },
    {
      "cell_type": "markdown",
      "metadata": {
        "id": "00788fc2"
      },
      "source": [
        "### Plot result of accuracy"
      ],
      "id": "00788fc2"
    },
    {
      "cell_type": "code",
      "metadata": {
        "id": "ea5a91bd",
        "outputId": "41dbca65-65be-44ad-905c-9e7bf74dfa5a"
      },
      "source": [
        "def plot_history(history,key='acc'):\n",
        "  plt.figure()\n",
        "  plt.xlabel('Epoch')\n",
        "  plt.ylabel('Accuracy')\n",
        "  plt.plot(history.epoch, np.array(history.history['accuracy']),\n",
        "           label='Train accuracy')\n",
        "  plt.legend()\n",
        "  plt.ylim([0, 1])\n",
        "\n",
        "plot_history(history)"
      ],
      "id": "ea5a91bd",
      "execution_count": null,
      "outputs": [
        {
          "data": {
            "image/png": "[encoded data removed]",
            "text/plain": [
              "<Figure size 432x288 with 1 Axes>"
            ]
          },
          "metadata": {
            "needs_background": "light"
          },
          "output_type": "display_data"
        }
      ]
    },
    {
      "cell_type": "markdown",
      "metadata": {
        "id": "15dcd977"
      },
      "source": [
        "### Plot result of loss"
      ],
      "id": "15dcd977"
    },
    {
      "cell_type": "code",
      "metadata": {
        "id": "70d10206",
        "outputId": "30ecd413-bb7b-4c15-ec93-270bbf7353ef"
      },
      "source": [
        "def plot_history(history):\n",
        "  plt.figure()\n",
        "  plt.xlabel('Epoch')\n",
        "  plt.ylabel('loss')\n",
        "  plt.plot(history.epoch, np.array(history.history['loss']),\n",
        "           label='Train loss')\n",
        "  plt.legend()\n",
        "  plt.ylim([0, 2])\n",
        "\n",
        "plot_history(history)"
      ],
      "id": "70d10206",
      "execution_count": null,
      "outputs": [
        {
          "data": {
            "image/png": "[encoded data removed]",
            "text/plain": [
              "<Figure size 432x288 with 1 Axes>"
            ]
          },
          "metadata": {
            "needs_background": "light"
          },
          "output_type": "display_data"
        }
      ]
    },
    {
      "cell_type": "markdown",
      "metadata": {
        "id": "708d4554"
      },
      "source": [
        "**From the loss and accuracy plots, we should stop at epoch 70**"
      ],
      "id": "708d4554"
    },
    {
      "cell_type": "markdown",
      "metadata": {
        "id": "5f2379bf"
      },
      "source": [
        "### Prediction using Character Level Model"
      ],
      "id": "5f2379bf"
    },
    {
      "cell_type": "markdown",
      "metadata": {
        "id": "9b0fcf29"
      },
      "source": [
        "**Run inference (sampling)**"
      ],
      "id": "9b0fcf29"
    },
    {
      "cell_type": "code",
      "metadata": {
        "id": "03125e3a"
      },
      "source": [
        "# Define sampling models\n",
        "# Restore the model and construct the encoder and decoder.\n",
        "model = keras.models.load_model(\"s2s\")\n",
        "\n",
        "encoder_inputs = model.input[0]  # input_1\n",
        "encoder_outputs, state_h_enc, state_c_enc = model.layers[2].output  # lstm_1\n",
        "encoder_states = [state_h_enc, state_c_enc]\n",
        "encoder_model = keras.Model(encoder_inputs, encoder_states)\n",
        "\n",
        "decoder_inputs = model.input[1]  # input_2\n",
        "decoder_state_input_h = keras.Input(shape=(latent_dim,))\n",
        "decoder_state_input_c = keras.Input(shape=(latent_dim,))\n",
        "decoder_states_inputs = [decoder_state_input_h, decoder_state_input_c]\n",
        "decoder_lstm = model.layers[3]\n",
        "decoder_outputs, state_h_dec, state_c_dec = decoder_lstm(\n",
        "    decoder_inputs, initial_state=decoder_states_inputs\n",
        ")\n",
        "decoder_states = [state_h_dec, state_c_dec]\n",
        "decoder_dense = model.layers[4]\n",
        "decoder_outputs = decoder_dense(decoder_outputs)\n",
        "decoder_model = keras.Model(\n",
        "    [decoder_inputs] + decoder_states_inputs, [decoder_outputs] + decoder_states\n",
        ")\n",
        "\n",
        "# Reverse-lookup token index to decode sequences back to\n",
        "# something readable.\n",
        "reverse_input_char_index = dict((i, char) for char, i in input_token_index.items())\n",
        "reverse_target_char_index = dict((i, char) for char, i in target_token_index.items())\n",
        "\n",
        "\n",
        "def decode_sequence(input_seq):\n",
        "    # Encode the input as state vectors.\n",
        "    states_value = encoder_model.predict(input_seq)\n",
        "\n",
        "    # Generate empty target sequence of length 1.\n",
        "    target_seq = np.zeros((1, 1, num_decoder_tokens))\n",
        "    # Populate the first character of target sequence with the start character.\n",
        "    target_seq[0, 0, target_token_index[\"\\t\"]] = 1.0\n",
        "\n",
        "    # Sampling loop for a batch of sequences\n",
        "    # (to simplify, here we assume a batch of size 1).\n",
        "    stop_condition = False\n",
        "    decoded_sentence = \"\"\n",
        "    while not stop_condition:\n",
        "        output_tokens, h, c = decoder_model.predict([target_seq] + states_value)\n",
        "\n",
        "        # Sample a token\n",
        "        sampled_token_index = np.argmax(output_tokens[0, -1, :])\n",
        "        sampled_char = reverse_target_char_index[sampled_token_index]\n",
        "        decoded_sentence += sampled_char\n",
        "\n",
        "        # Exit condition: either hit max length\n",
        "        # or find stop character.\n",
        "        if sampled_char == \"\\n\" or len(decoded_sentence) > max_decoder_seq_length:\n",
        "            stop_condition = True\n",
        "\n",
        "        # Update the target sequence (of length 1).\n",
        "        target_seq = np.zeros((1, 1, num_decoder_tokens))\n",
        "        target_seq[0, 0, sampled_token_index] = 1.0\n",
        "\n",
        "        # Update states\n",
        "        states_value = [h, c]\n",
        "    return decoded_sentence"
      ],
      "id": "03125e3a",
      "execution_count": null,
      "outputs": []
    },
    {
      "cell_type": "markdown",
      "metadata": {
        "id": "aab54f7c"
      },
      "source": [
        "**Generate decoded sentences**"
      ],
      "id": "aab54f7c"
    },
    {
      "cell_type": "code",
      "metadata": {
        "id": "93258ff7",
        "outputId": "97254165-fa81-419d-c333-1fb4ea14fb60"
      },
      "source": [
        "for seq_index in [600]:\n",
        "    # Take one sequence (part of the training set) for trying out decoding.\n",
        "    input_seq = encoder_input_data[seq_index : seq_index + 1]\n",
        "    decoded_sentence = decode_sequence(input_seq)\n",
        "    print(\"-\")\n",
        "    print(\"Input sentence:\", input_texts[seq_index])\n",
        "    print(\"Decoded sentence:\", decoded_sentence)\n",
        "    print(\"==\"*50)"
      ],
      "id": "93258ff7",
      "execution_count": null,
      "outputs": [
        {
          "name": "stdout",
          "output_type": "stream",
          "text": [
            "-\n",
            "Input sentence: Where is the dog?\n",
            "Decoded sentence: Chúng tôi đã không thể đến mười.\n",
            "\n",
            "====================================================================================================\n"
          ]
        }
      ]
    },
    {
      "cell_type": "markdown",
      "metadata": {
        "id": "a3ab1175"
      },
      "source": [
        "Because of the time limitation, I can only run the model for 100 epochs. \n",
        "The highest accuracy of the training model is about 84% for a model trained on 7558 dataset for 100 epochs. \n",
        "The limitation of the simple seq2seq language translation character level model is that in the generate decoded sentences, ithe translation is not good"
      ],
      "id": "a3ab1175"
    },
    {
      "cell_type": "markdown",
      "metadata": {
        "id": "f9bc2404"
      },
      "source": [
        "### Scope of Improvement"
      ],
      "id": "f9bc2404"
    },
    {
      "cell_type": "markdown",
      "metadata": {
        "id": "2a5e37e8"
      },
      "source": [
        "Here are my suggestions:\n",
        "- we can train the model on a large dataset with lots of variation in it.\n",
        "- For lengthy Sentance limitation of it, we can include the Attention Mechanism.\n",
        "- We can try replacing GRU with LSTM and check the performance of the model."
      ],
      "id": "2a5e37e8"
    },
    {
      "cell_type": "code",
      "metadata": {
        "id": "ee5cfd65"
      },
      "source": [
        ""
      ],
      "id": "ee5cfd65",
      "execution_count": null,
      "outputs": []
    }
  ]
}