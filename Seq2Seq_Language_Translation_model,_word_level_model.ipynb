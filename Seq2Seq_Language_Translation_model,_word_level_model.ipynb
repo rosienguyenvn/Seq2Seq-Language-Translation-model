{
  "cells": [
    {
      "cell_type": "markdown",
      "id": "9064fc14",
      "metadata": {
        "id": "9064fc14"
      },
      "source": [
        "# Seq2Seq Language Translation model, word level model\n",
        "\n",
        "### Rosie Nguyen"
      ]
    },
    {
      "cell_type": "markdown",
      "id": "61702b59",
      "metadata": {
        "id": "61702b59"
      },
      "source": [
        "See Datasets: http://www.manythings.org/anki/"
      ]
    },
    {
      "cell_type": "markdown",
      "id": "28064d99",
      "metadata": {
        "id": "28064d99"
      },
      "source": [
        "### Import Libraries"
      ]
    },
    {
      "cell_type": "code",
      "execution_count": null,
      "id": "00108fd1",
      "metadata": {
        "id": "00108fd1"
      },
      "outputs": [],
      "source": [
        "import pandas as pd\n",
        "from sklearn.model_selection import train_test_split\n",
        "import string\n",
        "from string import digits\n",
        "import re\n",
        "from sklearn.utils import shuffle\n",
        "from keras.preprocessing.sequence import pad_sequences\n",
        "from keras.layers import LSTM, Input, Dense,Embedding\n",
        "from keras.models import Model,load_model\n",
        "from keras.preprocessing.text import one_hot\n",
        "from keras.preprocessing.text import Tokenizer\n",
        "from keras.models import model_from_json\n",
        "import pickle as pkl\n",
        "import numpy as np\n",
        "from keras.utils.vis_utils import plot_model\n",
        "import matplotlib.pyplot as plt"
      ]
    },
    {
      "cell_type": "markdown",
      "id": "e96b30e1",
      "metadata": {
        "id": "e96b30e1"
      },
      "source": [
        "### Load the data"
      ]
    },
    {
      "cell_type": "code",
      "execution_count": null,
      "id": "38e67759",
      "metadata": {
        "id": "38e67759",
        "outputId": "03b397b7-54ff-4007-f9f2-e6d6782497de"
      },
      "outputs": [
        {
          "data": {
            "text/html": [
              "<div>\n",
              "<style scoped>\n",
              "    .dataframe tbody tr th:only-of-type {\n",
              "        vertical-align: middle;\n",
              "    }\n",
              "\n",
              "    .dataframe tbody tr th {\n",
              "        vertical-align: top;\n",
              "    }\n",
              "\n",
              "    .dataframe thead th {\n",
              "        text-align: right;\n",
              "    }\n",
              "</style>\n",
              "<table border=\"1\" class=\"dataframe\">\n",
              "  <thead>\n",
              "    <tr style=\"text-align: right;\">\n",
              "      <th></th>\n",
              "      <th>English</th>\n",
              "      <th>Vietnamese</th>\n",
              "      <th>Others</th>\n",
              "    </tr>\n",
              "  </thead>\n",
              "  <tbody>\n",
              "    <tr>\n",
              "      <th>0</th>\n",
              "      <td>Run!</td>\n",
              "      <td>Chạy!</td>\n",
              "      <td>CC-BY 2.0 (France) Attribution: tatoeba.org #9...</td>\n",
              "    </tr>\n",
              "    <tr>\n",
              "      <th>1</th>\n",
              "      <td>Help!</td>\n",
              "      <td>Giúp tôi với!</td>\n",
              "      <td>CC-BY 2.0 (France) Attribution: tatoeba.org #4...</td>\n",
              "    </tr>\n",
              "    <tr>\n",
              "      <th>2</th>\n",
              "      <td>Go on.</td>\n",
              "      <td>Tiếp tục đi.</td>\n",
              "      <td>CC-BY 2.0 (France) Attribution: tatoeba.org #2...</td>\n",
              "    </tr>\n",
              "    <tr>\n",
              "      <th>3</th>\n",
              "      <td>Hello!</td>\n",
              "      <td>Chào bạn.</td>\n",
              "      <td>CC-BY 2.0 (France) Attribution: tatoeba.org #3...</td>\n",
              "    </tr>\n",
              "    <tr>\n",
              "      <th>4</th>\n",
              "      <td>Hurry!</td>\n",
              "      <td>Nhanh lên nào!</td>\n",
              "      <td>CC-BY 2.0 (France) Attribution: tatoeba.org #1...</td>\n",
              "    </tr>\n",
              "  </tbody>\n",
              "</table>\n",
              "</div>"
            ],
            "text/plain": [
              "  English      Vietnamese                                             Others\n",
              "0    Run!           Chạy!  CC-BY 2.0 (France) Attribution: tatoeba.org #9...\n",
              "1   Help!   Giúp tôi với!  CC-BY 2.0 (France) Attribution: tatoeba.org #4...\n",
              "2  Go on.    Tiếp tục đi.  CC-BY 2.0 (France) Attribution: tatoeba.org #2...\n",
              "3  Hello!       Chào bạn.  CC-BY 2.0 (France) Attribution: tatoeba.org #3...\n",
              "4  Hurry!  Nhanh lên nào!  CC-BY 2.0 (France) Attribution: tatoeba.org #1..."
            ]
          },
          "execution_count": 27,
          "metadata": {},
          "output_type": "execute_result"
        }
      ],
      "source": [
        "#load raw text data file.\n",
        "df=pd.read_csv('vie.txt',delimiter=\"\\t\", header=None)\n",
        "#name the columns\n",
        "df.columns = ['English', 'Vietnamese', 'Others']\n",
        "df.head()"
      ]
    },
    {
      "cell_type": "markdown",
      "id": "52017804",
      "metadata": {
        "id": "52017804"
      },
      "source": [
        "### Data Preprocessing"
      ]
    },
    {
      "cell_type": "markdown",
      "id": "abfc1427",
      "metadata": {
        "id": "abfc1427"
      },
      "source": [
        "**Remove unnecessary columns, shuffle rows but keep the correlatio between English and Vietnamese columns**"
      ]
    },
    {
      "cell_type": "code",
      "execution_count": null,
      "id": "e2993130",
      "metadata": {
        "id": "e2993130",
        "outputId": "bfa25e95-fa6d-4d75-f3b8-e0a874b58da5"
      },
      "outputs": [
        {
          "data": {
            "text/html": [
              "<div>\n",
              "<style scoped>\n",
              "    .dataframe tbody tr th:only-of-type {\n",
              "        vertical-align: middle;\n",
              "    }\n",
              "\n",
              "    .dataframe tbody tr th {\n",
              "        vertical-align: top;\n",
              "    }\n",
              "\n",
              "    .dataframe thead th {\n",
              "        text-align: right;\n",
              "    }\n",
              "</style>\n",
              "<table border=\"1\" class=\"dataframe\">\n",
              "  <thead>\n",
              "    <tr style=\"text-align: right;\">\n",
              "      <th></th>\n",
              "      <th>English</th>\n",
              "      <th>Vietnamese</th>\n",
              "    </tr>\n",
              "  </thead>\n",
              "  <tbody>\n",
              "    <tr>\n",
              "      <th>6340</th>\n",
              "      <td>Tom has been missing for almost three weeks.</td>\n",
              "      <td>Tom đã mất tích gần ba tuần nay.</td>\n",
              "    </tr>\n",
              "    <tr>\n",
              "      <th>5200</th>\n",
              "      <td>You should've come a little earlier.</td>\n",
              "      <td>Đáng lẽ ra bạn nên tới sớm hơn một chút.</td>\n",
              "    </tr>\n",
              "    <tr>\n",
              "      <th>42</th>\n",
              "      <td>She cried.</td>\n",
              "      <td>Cô ấy đã khóc</td>\n",
              "    </tr>\n",
              "    <tr>\n",
              "      <th>508</th>\n",
              "      <td>I have two books.</td>\n",
              "      <td>Tôi có hai cuốn sách.</td>\n",
              "    </tr>\n",
              "    <tr>\n",
              "      <th>2026</th>\n",
              "      <td>I'm still not buying it.</td>\n",
              "      <td>Tôi vẫn không tin điều đó.</td>\n",
              "    </tr>\n",
              "    <tr>\n",
              "      <th>138</th>\n",
              "      <td>I'm innocent.</td>\n",
              "      <td>Tôi trong sạch!</td>\n",
              "    </tr>\n",
              "    <tr>\n",
              "      <th>6023</th>\n",
              "      <td>Do you think Tom really enjoys doing that?</td>\n",
              "      <td>Cậu có nghĩ Tom thực sự thích việc đó không?</td>\n",
              "    </tr>\n",
              "    <tr>\n",
              "      <th>2286</th>\n",
              "      <td>I got on the wrong train.</td>\n",
              "      <td>Tớ lên nhầm tàu.</td>\n",
              "    </tr>\n",
              "    <tr>\n",
              "      <th>6540</th>\n",
              "      <td>There are a few magazines on the coffee table.</td>\n",
              "      <td>Có vài quyển tạp chí trên cái bàn uống cafe đó.</td>\n",
              "    </tr>\n",
              "    <tr>\n",
              "      <th>4355</th>\n",
              "      <td>You're not allowed to camp here.</td>\n",
              "      <td>Anh không được phép cắm trại ở đây.</td>\n",
              "    </tr>\n",
              "  </tbody>\n",
              "</table>\n",
              "</div>"
            ],
            "text/plain": [
              "                                             English  \\\n",
              "6340    Tom has been missing for almost three weeks.   \n",
              "5200            You should've come a little earlier.   \n",
              "42                                        She cried.   \n",
              "508                                I have two books.   \n",
              "2026                        I'm still not buying it.   \n",
              "138                                    I'm innocent.   \n",
              "6023      Do you think Tom really enjoys doing that?   \n",
              "2286                       I got on the wrong train.   \n",
              "6540  There are a few magazines on the coffee table.   \n",
              "4355                You're not allowed to camp here.   \n",
              "\n",
              "                                           Vietnamese  \n",
              "6340                 Tom đã mất tích gần ba tuần nay.  \n",
              "5200         Đáng lẽ ra bạn nên tới sớm hơn một chút.  \n",
              "42                                      Cô ấy đã khóc  \n",
              "508                             Tôi có hai cuốn sách.  \n",
              "2026                       Tôi vẫn không tin điều đó.  \n",
              "138                                   Tôi trong sạch!  \n",
              "6023     Cậu có nghĩ Tom thực sự thích việc đó không?  \n",
              "2286                                 Tớ lên nhầm tàu.  \n",
              "6540  Có vài quyển tạp chí trên cái bàn uống cafe đó.  \n",
              "4355              Anh không được phép cắm trại ở đây.  "
            ]
          },
          "execution_count": 28,
          "metadata": {},
          "output_type": "execute_result"
        }
      ],
      "source": [
        "#remove column others\n",
        "df= df.drop(columns= 'Others') \n",
        "#shuffle the rows but still keep the correct translation orders\n",
        "df= df.reindex(np.random.permutation(df.index))\n",
        "df.head(10)"
      ]
    },
    {
      "cell_type": "markdown",
      "id": "8dcbf9c8",
      "metadata": {
        "id": "8dcbf9c8"
      },
      "source": [
        "**Text processing: convert to lowercase, remove punctuation, remove whitespaces at the start and end of sentences**"
      ]
    },
    {
      "cell_type": "code",
      "execution_count": null,
      "id": "8e0ae0fc",
      "metadata": {
        "id": "8e0ae0fc"
      },
      "outputs": [],
      "source": [
        "#text preprocessing\n",
        "eng_lines = df['English'].values\n",
        "viet_lines = df['Vietnamese'].values\n",
        "\n",
        "#convert to lowercase\n",
        "eng_lines = [x.lower() for x in eng_lines]\n",
        "viet_lines = [x.lower() for x in viet_lines]\n",
        "\n",
        "#create remove_punc to remove puntuation\n",
        "def remove_punc(text_list):\n",
        "  table = str.maketrans('', '', string.punctuation)\n",
        "  removed_punc_text = []\n",
        "  for sent in text_list:\n",
        "    sentence = [w.translate(table) for w in sent.split(' ')]\n",
        "    removed_punc_text.append(' '.join(sentence))\n",
        "  return removed_punc_text\n",
        "#use remove_punc on eng and viet\n",
        "eng_lines = remove_punc(eng_lines)\n",
        "viet_lines = remove_punc(viet_lines)\n",
        "\n",
        "# removing the digits from english and vietnamese sentences\n",
        "remove_digits = str.maketrans('', '', digits)\n",
        "removed_digits_eng = []\n",
        "removed_digits_viet = []\n",
        "for sent in eng_lines:\n",
        "  sentence = [w.translate(remove_digits) for w in sent.split(' ')]\n",
        "  removed_digits_eng.append(' '.join(sentence))\n",
        "eng_lines = removed_digits_eng\n",
        "\n",
        "for sent in viet_lines:\n",
        "  sentence = [w.translate(remove_digits) for w in sent.split(' ')]\n",
        "  removed_digits_viet.append(' '.join(sentence))\n",
        "viet_lines = removed_digits_viet\n",
        "\n",
        "#removing the starting and ending whitespaces\n",
        "eng_lines = [x.strip() for x in eng_lines]\n",
        "viet_lines = [x.strip() for x in viet_lines]\n",
        "\n",
        "# Putting the \"<START> \" and \" <END>\" in the vietnamese sentences for effective model training\n",
        "viet_lines = [\"START \" + x + \" END\" for x in viet_lines]\n",
        "#print(viet_lines)"
      ]
    },
    {
      "cell_type": "markdown",
      "id": "bcd89531",
      "metadata": {
        "id": "bcd89531"
      },
      "source": [
        "**Compute the vocabulary for both English and Vietnamese**"
      ]
    },
    {
      "cell_type": "code",
      "execution_count": null,
      "id": "d7dc970b",
      "metadata": {
        "id": "d7dc970b"
      },
      "outputs": [],
      "source": [
        "# Vocabulary of English\n",
        "eng_words=set()\n",
        "for eng in eng_lines:\n",
        "    for word in eng.split():\n",
        "        if word not in eng_words:\n",
        "            eng_words.add(word)\n",
        "\n",
        "# Vocabulary of Vietnamese\n",
        "viet_words=set()\n",
        "for viet in viet_lines:\n",
        "    for word in viet.split():\n",
        "        if word not in viet_words:\n",
        "            viet_words.add(word)\n",
        "#print(eng_words)\n",
        "#print(viet_words)"
      ]
    },
    {
      "cell_type": "code",
      "execution_count": null,
      "id": "84e0d9a4",
      "metadata": {
        "id": "84e0d9a4",
        "outputId": "4b36e72a-2b55-4f89-ead3-6e7af8bd9166"
      },
      "outputs": [
        {
          "name": "stdout",
          "output_type": "stream",
          "text": [
            "Max length of source sequence is 32\n",
            "Max length of target sequence is 41\n"
          ]
        }
      ],
      "source": [
        "# Max Length of source sequence\n",
        "lenght_list=[]\n",
        "for l in eng_lines:\n",
        "    lenght_list.append(len(l.split(' ')))\n",
        "max_length_src = np.max(lenght_list)\n",
        "print('Max length of source sequence is',  max_length_src)\n",
        "# Max Length of target sequence\n",
        "lenght_list=[]\n",
        "for l in viet_lines:\n",
        "    lenght_list.append(len(l.split(' ')))\n",
        "max_length_tar = np.max(lenght_list)\n",
        "print('Max length of target sequence is', max_length_tar)\n",
        "input_words = sorted(list(eng_words))\n",
        "target_words = sorted(list(viet_words))\n",
        "#print(input_words)\n",
        "#print(target_words)"
      ]
    },
    {
      "cell_type": "code",
      "execution_count": null,
      "id": "915b6bfe",
      "metadata": {
        "id": "915b6bfe",
        "outputId": "869e2810-08e8-42ba-ab2a-df996fc1bf95"
      },
      "outputs": [
        {
          "name": "stdout",
          "output_type": "stream",
          "text": [
            "Vocab size for source is 3664\n",
            "Vocab size for target is 2319\n"
          ]
        }
      ],
      "source": [
        "# Calculate Vocab size for both source and target\n",
        "num_encoder_tokens = len(eng_words)+1\n",
        "num_decoder_tokens = len(viet_words)+1  \n",
        "\n",
        "print('Vocab size for source is', num_encoder_tokens)\n",
        "print('Vocab size for target is', num_decoder_tokens)\n",
        "# Create word to token dictionary for both source and target\n",
        "input_token_index = dict([(word, i+1) for i, word in enumerate(input_words)])\n",
        "target_token_index = dict([(word, i+1) for i, word in enumerate(target_words)])\n",
        "#print(input_token_index)\n",
        "\n",
        "# Create token to word dictionary for both source and target\n",
        "reverse_input_char_index = dict((i, word) for word, i in input_token_index.items())\n",
        "reverse_target_char_index = dict((i, word) for word, i in target_token_index.items())\n",
        "#print(reverse_input_char_index)"
      ]
    },
    {
      "cell_type": "markdown",
      "id": "b27ce06b",
      "metadata": {
        "id": "b27ce06b"
      },
      "source": [
        "**Splitting the data**"
      ]
    },
    {
      "cell_type": "code",
      "execution_count": null,
      "id": "dff91f0f",
      "metadata": {
        "id": "dff91f0f",
        "outputId": "d7f4c6d6-6e2f-4b62-d7c6-2685967dee62"
      },
      "outputs": [
        {
          "name": "stdout",
          "output_type": "stream",
          "text": [
            "6802\n",
            "6802\n",
            "756\n",
            "756\n"
          ]
        }
      ],
      "source": [
        "#Splitting the data 90:10 for training: test\n",
        "X = eng_lines\n",
        "Y = viet_lines\n",
        "\n",
        "#Splitting the data 90:10 for training: test\n",
        "X_train, X_test, y_train, y_test = train_test_split(X,Y,test_size = 0.1)\n",
        "\n",
        "print(len(X_train))\n",
        "print(len(y_train))\n",
        "print(len(X_test))\n",
        "print(len(y_test))"
      ]
    },
    {
      "cell_type": "markdown",
      "id": "0ca40b88",
      "metadata": {
        "id": "0ca40b88"
      },
      "source": [
        "**A sentence can be seen as a sequence of either words or characters. For example in case of words, the English sentence \"this is deep learning class\" can be thought of as a sequence of 5 words (‘this’, ‘is’, ‘deep’, ‘learning’, ‘class’). And in case of characters, it can be thought of as a sequence of 18 characters (‘t’, ‘h’, ‘i’, ‘s’, ‘i’, ‘s ‘, ……, ‘s’).**"
      ]
    },
    {
      "cell_type": "markdown",
      "id": "40aadc12",
      "metadata": {
        "id": "40aadc12"
      },
      "source": [
        "### Build a word level model"
      ]
    },
    {
      "cell_type": "markdown",
      "id": "faf60f5b",
      "metadata": {
        "id": "faf60f5b"
      },
      "source": [
        "The word level language model predict the next word given all previous words in a sequence of data"
      ]
    },
    {
      "cell_type": "code",
      "execution_count": null,
      "id": "b64129f3",
      "metadata": {
        "id": "b64129f3"
      },
      "outputs": [],
      "source": [
        "#generator function to load the data in batches\n",
        "def generate_batch(X = X_train, y = y_train, batch_size = 128):\n",
        "    while True:\n",
        "        for j in range(0, len(X), batch_size):\n",
        "            encoder_input_data = np.zeros((batch_size, max_length_src),dtype='float32')\n",
        "            decoder_input_data = np.zeros((batch_size, max_length_tar),dtype='float32')\n",
        "            decoder_target_data = np.zeros((batch_size, max_length_tar, num_decoder_tokens),dtype='float32')\n",
        "            for i, (input_text, target_text) in enumerate(zip(X[j:j+batch_size], y[j:j+batch_size])):\n",
        "                for t, word in enumerate(input_text.split()):\n",
        "                    encoder_input_data[i, t] = input_token_index[word] # encoder input seq\n",
        "                for t, word in enumerate(target_text.split()):\n",
        "                    if t<len(target_text.split())-1:\n",
        "                        decoder_input_data[i, t] = target_token_index[word] # decoder input seq\n",
        "                    if t>0:\n",
        "                        # decoder target sequence (one hot encoded)\n",
        "                        # does not include the START_ token\n",
        "                        # Offset by one timestep\n",
        "                        decoder_target_data[i, t - 1, target_token_index[word]] = 1.\n",
        "            yield([encoder_input_data, decoder_input_data], decoder_target_data)"
      ]
    },
    {
      "cell_type": "code",
      "execution_count": null,
      "id": "306bee1a",
      "metadata": {
        "id": "306bee1a",
        "outputId": "149c7159-a922-4f7f-d4fd-e16e500b4df3"
      },
      "outputs": [
        {
          "name": "stdout",
          "output_type": "stream",
          "text": [
            "Model: \"model\"\n",
            "__________________________________________________________________________________________________\n",
            "Layer (type)                    Output Shape         Param #     Connected to                     \n",
            "==================================================================================================\n",
            "encoder_inputs (InputLayer)     [(None, None)]       0                                            \n",
            "__________________________________________________________________________________________________\n",
            "decoder_inputs (InputLayer)     [(None, None)]       0                                            \n",
            "__________________________________________________________________________________________________\n",
            "embedding (Embedding)           (None, None, 256)    937984      encoder_inputs[0][0]             \n",
            "__________________________________________________________________________________________________\n",
            "embedding_1 (Embedding)         (None, None, 256)    593664      decoder_inputs[0][0]             \n",
            "__________________________________________________________________________________________________\n",
            "lstm (LSTM)                     [(None, 256), (None, 525312      embedding[0][0]                  \n",
            "__________________________________________________________________________________________________\n",
            "lstm_1 (LSTM)                   [(None, None, 256),  525312      embedding_1[0][0]                \n",
            "                                                                 lstm[0][1]                       \n",
            "                                                                 lstm[0][2]                       \n",
            "__________________________________________________________________________________________________\n",
            "dense (Dense)                   (None, None, 2319)   595983      lstm_1[0][0]                     \n",
            "==================================================================================================\n",
            "Total params: 3,178,255\n",
            "Trainable params: 3,178,255\n",
            "Non-trainable params: 0\n",
            "__________________________________________________________________________________________________\n"
          ]
        }
      ],
      "source": [
        "latent_dim = 256\n",
        "# Encoder\n",
        "encoder_inputs = Input(shape=(None,),name=\"encoder_inputs\")\n",
        "enc_emb =  Embedding(num_encoder_tokens, latent_dim, mask_zero = True)(encoder_inputs)\n",
        "encoder_lstm = LSTM(latent_dim, return_state=True)\n",
        "encoder_outputs, state_h, state_c = encoder_lstm(enc_emb)\n",
        "\n",
        "# We discard 'encoder_outputs' and only keep the states.\n",
        "encoder_states = [state_h, state_c]\n",
        "\n",
        "# Set up the decoder, using 'encoder_states' as initial state.\n",
        "decoder_inputs = Input(shape=(None,),name=\"decoder_inputs\")\n",
        "dec_emb_layer = Embedding(num_decoder_tokens, latent_dim, mask_zero = True)\n",
        "dec_emb = dec_emb_layer(decoder_inputs)\n",
        "decoder_lstm = LSTM(latent_dim, return_sequences=True, return_state=True)\n",
        "decoder_outputs, _, _ = decoder_lstm(dec_emb, initial_state=encoder_states)\n",
        "\n",
        "# Use a softmax to generate a probability distribution over the target vocabulary for each time step\n",
        "decoder_dense = Dense(num_decoder_tokens, activation='softmax')\n",
        "decoder_outputs = decoder_dense(decoder_outputs)\n",
        "\n",
        "# Define the word model that will turn encoder_input_data & decoder_input_data into decoder_target_data\n",
        "word_model = Model([encoder_inputs, decoder_inputs], decoder_outputs)\n",
        "# Compile the model\n",
        "word_model.compile(optimizer='rmsprop', loss='categorical_crossentropy', metrics=['acc'])\n",
        "word_model.summary()"
      ]
    },
    {
      "cell_type": "code",
      "execution_count": null,
      "id": "d73e231a",
      "metadata": {
        "id": "d73e231a",
        "outputId": "87034d33-0bfe-4d2d-afd0-60b484f697c8"
      },
      "outputs": [
        {
          "name": "stdout",
          "output_type": "stream",
          "text": [
            "('You must install pydot (`pip install pydot`) and install graphviz (see instructions at https://graphviz.gitlab.io/download/) ', 'for plot_model/model_to_dot to work.')\n"
          ]
        }
      ],
      "source": [
        "plot_model(word_model, to_file='train_word_model.png', show_shapes=True)"
      ]
    },
    {
      "cell_type": "code",
      "execution_count": null,
      "id": "a68b44af",
      "metadata": {
        "id": "a68b44af",
        "outputId": "e7b82a08-2a8c-4d16-8d1a-da05bcae36a9"
      },
      "outputs": [
        {
          "name": "stdout",
          "output_type": "stream",
          "text": [
            "Epoch 1/100\n"
          ]
        },
        {
          "name": "stderr",
          "output_type": "stream",
          "text": [
            "C:\\anaconda3\\envs\\tensorflow\\lib\\site-packages\\keras\\engine\\training.py:1972: UserWarning: `Model.fit_generator` is deprecated and will be removed in a future version. Please use `Model.fit`, which supports generators.\n",
            "  warnings.warn('`Model.fit_generator` is deprecated and '\n"
          ]
        },
        {
          "name": "stdout",
          "output_type": "stream",
          "text": [
            "53/53 [==============================] - 69s 1s/step - loss: 1.3066 - acc: 0.1365\n",
            "Epoch 2/100\n",
            "53/53 [==============================] - 83s 2s/step - loss: 1.1858 - acc: 0.1523\n",
            "Epoch 3/100\n",
            "53/53 [==============================] - 62s 1s/step - loss: 1.1405 - acc: 0.1691\n",
            "Epoch 4/100\n",
            "53/53 [==============================] - 74s 1s/step - loss: 1.0916 - acc: 0.1880\n",
            "Epoch 5/100\n",
            "53/53 [==============================] - 120s 2s/step - loss: 1.0421 - acc: 0.2150\n",
            "Epoch 6/100\n",
            "53/53 [==============================] - 118s 2s/step - loss: 0.9916 - acc: 0.2447\n",
            "Epoch 7/100\n",
            "53/53 [==============================] - 162s 3s/step - loss: 0.9546 - acc: 0.2610\n",
            "Epoch 8/100\n",
            "53/53 [==============================] - 92s 2s/step - loss: 0.9173 - acc: 0.2778\n",
            "Epoch 9/100\n",
            "53/53 [==============================] - 97s 2s/step - loss: 0.8833 - acc: 0.2945\n",
            "Epoch 10/100\n",
            "53/53 [==============================] - 114s 2s/step - loss: 0.8507 - acc: 0.3104\n",
            "Epoch 11/100\n",
            "53/53 [==============================] - 134s 3s/step - loss: 0.8220 - acc: 0.3268\n",
            "Epoch 12/100\n",
            "53/53 [==============================] - 72s 1s/step - loss: 0.7893 - acc: 0.3448\n",
            "Epoch 13/100\n",
            "53/53 [==============================] - 55s 1s/step - loss: 0.7624 - acc: 0.3614\n",
            "Epoch 14/100\n",
            "53/53 [==============================] - 56s 1s/step - loss: 0.7350 - acc: 0.3786\n",
            "Epoch 15/100\n",
            "53/53 [==============================] - 52s 976ms/step - loss: 0.7058 - acc: 0.3966\n",
            "Epoch 16/100\n",
            "53/53 [==============================] - 52s 977ms/step - loss: 0.6782 - acc: 0.4140\n",
            "Epoch 17/100\n",
            "53/53 [==============================] - 48s 909ms/step - loss: 0.6518 - acc: 0.4317\n",
            "Epoch 18/100\n",
            "53/53 [==============================] - 67s 1s/step - loss: 0.6266 - acc: 0.4478\n",
            "Epoch 19/100\n",
            "53/53 [==============================] - 60s 1s/step - loss: 0.6008 - acc: 0.4650\n",
            "Epoch 20/100\n",
            "53/53 [==============================] - 50s 939ms/step - loss: 0.5774 - acc: 0.4818\n",
            "Epoch 21/100\n",
            "53/53 [==============================] - 51s 972ms/step - loss: 0.5517 - acc: 0.5008\n",
            "Epoch 22/100\n",
            "53/53 [==============================] - 52s 977ms/step - loss: 0.5282 - acc: 0.5192\n",
            "Epoch 23/100\n",
            "53/53 [==============================] - 54s 1s/step - loss: 0.5061 - acc: 0.5344\n",
            "Epoch 24/100\n",
            "53/53 [==============================] - 54s 1s/step - loss: 0.4850 - acc: 0.5533\n",
            "Epoch 25/100\n",
            "53/53 [==============================] - 53s 1s/step - loss: 0.4635 - acc: 0.5703\n",
            "Epoch 26/100\n",
            "53/53 [==============================] - 56s 1s/step - loss: 0.4437 - acc: 0.5860\n",
            "Epoch 27/100\n",
            "53/53 [==============================] - 56s 1s/step - loss: 0.4228 - acc: 0.6053\n",
            "Epoch 28/100\n",
            "53/53 [==============================] - 62s 1s/step - loss: 0.4026 - acc: 0.6206\n",
            "Epoch 29/100\n",
            "53/53 [==============================] - 55s 1s/step - loss: 0.3832 - acc: 0.6373\n",
            "Epoch 30/100\n",
            "53/53 [==============================] - 50s 951ms/step - loss: 0.3651 - acc: 0.6525\n",
            "Epoch 31/100\n",
            "53/53 [==============================] - 51s 960ms/step - loss: 0.3481 - acc: 0.6693\n",
            "Epoch 32/100\n",
            "53/53 [==============================] - 51s 969ms/step - loss: 0.3314 - acc: 0.6831\n",
            "Epoch 33/100\n",
            "53/53 [==============================] - 52s 982ms/step - loss: 0.3155 - acc: 0.6984\n",
            "Epoch 34/100\n",
            "53/53 [==============================] - 54s 1s/step - loss: 0.2984 - acc: 0.7152\n",
            "Epoch 35/100\n",
            "53/53 [==============================] - 53s 998ms/step - loss: 0.2839 - acc: 0.7282\n",
            "Epoch 36/100\n",
            "53/53 [==============================] - 55s 1s/step - loss: 0.2676 - acc: 0.7461\n",
            "Epoch 37/100\n",
            "53/53 [==============================] - 58s 1s/step - loss: 0.2541 - acc: 0.7580\n",
            "Epoch 38/100\n",
            "53/53 [==============================] - 54s 1s/step - loss: 0.2408 - acc: 0.7700\n",
            "Epoch 39/100\n",
            "53/53 [==============================] - 47s 890ms/step - loss: 0.2276 - acc: 0.7845\n",
            "Epoch 40/100\n",
            "53/53 [==============================] - 54s 1s/step - loss: 0.2141 - acc: 0.7970\n",
            "Epoch 41/100\n",
            "53/53 [==============================] - 52s 987ms/step - loss: 0.2030 - acc: 0.8081\n",
            "Epoch 42/100\n",
            "53/53 [==============================] - 50s 938ms/step - loss: 0.1904 - acc: 0.8219\n",
            "Epoch 43/100\n",
            "53/53 [==============================] - 49s 924ms/step - loss: 0.1799 - acc: 0.8319\n",
            "Epoch 44/100\n",
            "53/53 [==============================] - 49s 924ms/step - loss: 0.1694 - acc: 0.8419\n",
            "Epoch 45/100\n",
            "53/53 [==============================] - 51s 954ms/step - loss: 0.1594 - acc: 0.8535\n",
            "Epoch 46/100\n",
            "53/53 [==============================] - 49s 928ms/step - loss: 0.1499 - acc: 0.8632\n",
            "Epoch 47/100\n",
            "53/53 [==============================] - 53s 993ms/step - loss: 0.1409 - acc: 0.8714\n",
            "Epoch 48/100\n",
            "53/53 [==============================] - 54s 1s/step - loss: 0.1313 - acc: 0.8820\n",
            "Epoch 49/100\n",
            "53/53 [==============================] - 64s 1s/step - loss: 0.1243 - acc: 0.8889\n",
            "Epoch 50/100\n",
            "53/53 [==============================] - 79s 1s/step - loss: 0.1163 - acc: 0.8970\n",
            "Epoch 51/100\n",
            "53/53 [==============================] - 83s 2s/step - loss: 0.1085 - acc: 0.9031\n",
            "Epoch 52/100\n",
            "53/53 [==============================] - 57s 1s/step - loss: 0.1011 - acc: 0.9108\n",
            "Epoch 53/100\n",
            "53/53 [==============================] - 51s 954ms/step - loss: 0.0946 - acc: 0.9185\n",
            "Epoch 54/100\n",
            "53/53 [==============================] - 51s 971ms/step - loss: 0.0889 - acc: 0.9234\n",
            "Epoch 55/100\n",
            "53/53 [==============================] - 52s 986ms/step - loss: 0.0844 - acc: 0.9290\n",
            "Epoch 56/100\n",
            "53/53 [==============================] - 53s 1s/step - loss: 0.0776 - acc: 0.9332\n",
            "Epoch 57/100\n",
            "53/53 [==============================] - 55s 1s/step - loss: 0.0729 - acc: 0.9373\n",
            "Epoch 58/100\n",
            "53/53 [==============================] - 56s 1s/step - loss: 0.0674 - acc: 0.9424\n",
            "Epoch 59/100\n",
            "53/53 [==============================] - 57s 1s/step - loss: 0.0633 - acc: 0.9453\n",
            "Epoch 60/100\n",
            "53/53 [==============================] - 60s 1s/step - loss: 0.0595 - acc: 0.9476\n",
            "Epoch 61/100\n",
            "53/53 [==============================] - 62s 1s/step - loss: 0.0558 - acc: 0.9505\n",
            "Epoch 62/100\n",
            "53/53 [==============================] - 65s 1s/step - loss: 0.0520 - acc: 0.9534\n",
            "Epoch 63/100\n",
            "53/53 [==============================] - 69s 1s/step - loss: 0.0489 - acc: 0.9557\n",
            "Epoch 64/100\n",
            "53/53 [==============================] - 70s 1s/step - loss: 0.0458 - acc: 0.9577\n",
            "Epoch 65/100\n",
            "53/53 [==============================] - 71s 1s/step - loss: 0.0430 - acc: 0.9594\n",
            "Epoch 66/100\n",
            "53/53 [==============================] - 72s 1s/step - loss: 0.0407 - acc: 0.9608\n",
            "Epoch 67/100\n",
            "53/53 [==============================] - 71s 1s/step - loss: 0.0383 - acc: 0.9626\n",
            "Epoch 68/100\n",
            "53/53 [==============================] - 70s 1s/step - loss: 0.0364 - acc: 0.9637\n",
            "Epoch 69/100\n",
            "53/53 [==============================] - 71s 1s/step - loss: 0.0344 - acc: 0.9646\n",
            "Epoch 70/100\n",
            "53/53 [==============================] - 70s 1s/step - loss: 0.0323 - acc: 0.9653\n",
            "Epoch 71/100\n",
            "53/53 [==============================] - 70s 1s/step - loss: 0.0310 - acc: 0.9659\n",
            "Epoch 72/100\n",
            "53/53 [==============================] - 70s 1s/step - loss: 0.0296 - acc: 0.9670\n",
            "Epoch 73/100\n",
            "53/53 [==============================] - 72s 1s/step - loss: 0.0281 - acc: 0.9677\n",
            "Epoch 74/100\n",
            "53/53 [==============================] - 71s 1s/step - loss: 0.0269 - acc: 0.9687\n",
            "Epoch 75/100\n",
            "53/53 [==============================] - 71s 1s/step - loss: 0.0258 - acc: 0.9689\n",
            "Epoch 76/100\n",
            "53/53 [==============================] - 70s 1s/step - loss: 0.0246 - acc: 0.9694\n",
            "Epoch 77/100\n",
            "53/53 [==============================] - 70s 1s/step - loss: 0.0235 - acc: 0.9701\n",
            "Epoch 78/100\n",
            "53/53 [==============================] - 70s 1s/step - loss: 0.0226 - acc: 0.9716\n",
            "Epoch 79/100\n",
            "53/53 [==============================] - 70s 1s/step - loss: 0.0223 - acc: 0.9713\n",
            "Epoch 80/100\n",
            "53/53 [==============================] - 67s 1s/step - loss: 0.0213 - acc: 0.9720\n",
            "Epoch 81/100\n",
            "53/53 [==============================] - 55s 1s/step - loss: 0.0204 - acc: 0.9726\n",
            "Epoch 82/100\n",
            "53/53 [==============================] - 59s 1s/step - loss: 0.0202 - acc: 0.9729\n",
            "Epoch 83/100\n",
            "53/53 [==============================] - 76s 1s/step - loss: 0.0194 - acc: 0.9736\n",
            "Epoch 84/100\n",
            "53/53 [==============================] - 82s 2s/step - loss: 0.0188 - acc: 0.9741\n",
            "Epoch 85/100\n",
            "53/53 [==============================] - 112s 2s/step - loss: 0.0181 - acc: 0.9746\n",
            "Epoch 86/100\n",
            "53/53 [==============================] - 62s 1s/step - loss: 0.0177 - acc: 0.9747\n",
            "Epoch 87/100\n",
            "53/53 [==============================] - 79s 1s/step - loss: 0.0174 - acc: 0.9754\n",
            "Epoch 88/100\n",
            "53/53 [==============================] - 93s 2s/step - loss: 0.0167 - acc: 0.9761\n",
            "Epoch 89/100\n",
            "53/53 [==============================] - 82s 2s/step - loss: 0.0164 - acc: 0.9762\n",
            "Epoch 90/100\n",
            "53/53 [==============================] - 137s 3s/step - loss: 0.0162 - acc: 0.9763\n",
            "Epoch 91/100\n",
            "53/53 [==============================] - 122s 2s/step - loss: 0.0159 - acc: 0.9766\n",
            "Epoch 92/100\n",
            "53/53 [==============================] - 112s 2s/step - loss: 0.0157 - acc: 0.9767\n",
            "Epoch 93/100\n",
            "53/53 [==============================] - 110s 2s/step - loss: 0.0153 - acc: 0.9774\n",
            "Epoch 94/100\n",
            "53/53 [==============================] - 104s 2s/step - loss: 0.0147 - acc: 0.9778\n",
            "Epoch 95/100\n",
            "53/53 [==============================] - 105s 2s/step - loss: 0.0146 - acc: 0.9777\n",
            "Epoch 96/100\n",
            "53/53 [==============================] - 107s 2s/step - loss: 0.0143 - acc: 0.9783\n",
            "Epoch 97/100\n",
            "53/53 [==============================] - 94s 2s/step - loss: 0.0145 - acc: 0.9780\n",
            "Epoch 98/100\n",
            "53/53 [==============================] - 100s 2s/step - loss: 0.0142 - acc: 0.9782\n",
            "Epoch 99/100\n",
            "53/53 [==============================] - 90s 2s/step - loss: 0.0139 - acc: 0.9784\n",
            "Epoch 100/100\n",
            "53/53 [==============================] - 88s 2s/step - loss: 0.0137 - acc: 0.9793\n"
          ]
        }
      ],
      "source": [
        "#Fit the word model\n",
        "train_samples = len(X_train)\n",
        "val_samples = len(X_test)\n",
        "batch_size = 128\n",
        "epochs = 100\n",
        "\n",
        "history= word_model.fit_generator(generator = generate_batch(X_train, y_train, batch_size = batch_size),\n",
        "                    steps_per_epoch = train_samples//batch_size,\n",
        "                    epochs=epochs)"
      ]
    },
    {
      "cell_type": "code",
      "execution_count": null,
      "id": "cf39eddc",
      "metadata": {
        "id": "cf39eddc",
        "outputId": "b6231ac5-8f33-4c20-a38c-9ad219a8f562"
      },
      "outputs": [
        {
          "name": "stdout",
          "output_type": "stream",
          "text": [
            "Accuracy of the Word Level Model =  0.9792900681495667\n",
            "Loss of the Word Level Model =  1.3066120147705078\n"
          ]
        }
      ],
      "source": [
        "print(\"Accuracy of the Word Level Model = \",max(history.history[\"acc\"]))\n",
        "print(\"Loss of the Word Level Model = \",max(history.history[\"loss\"]))"
      ]
    },
    {
      "cell_type": "markdown",
      "id": "68d6e463",
      "metadata": {
        "id": "68d6e463"
      },
      "source": [
        "**Saving the model into Json**"
      ]
    },
    {
      "cell_type": "code",
      "execution_count": null,
      "id": "51c5f132",
      "metadata": {
        "id": "51c5f132",
        "outputId": "7473180f-0ed1-4481-c412-7255eab40a28"
      },
      "outputs": [
        {
          "name": "stdout",
          "output_type": "stream",
          "text": [
            "Saved word model to disk\n"
          ]
        }
      ],
      "source": [
        "model_json = word_model.to_json()\n",
        "with open(\"model_2.json\", \"w\") as json_file:\n",
        "    json_file.write(model_json)\n",
        "# serialize weights to HDF5\n",
        "word_model.save_weights(\"model_weight_5.h5\")\n",
        "print(\"Saved word model to disk\")"
      ]
    },
    {
      "cell_type": "markdown",
      "id": "565b11a6",
      "metadata": {
        "id": "565b11a6"
      },
      "source": [
        "**Loading the model and weight from Json**"
      ]
    },
    {
      "cell_type": "code",
      "execution_count": null,
      "id": "51aa091a",
      "metadata": {
        "id": "51aa091a"
      },
      "outputs": [],
      "source": [
        "# loading the model architecture and asigning the weights\n",
        "json_file = open('model_2.json', 'r')\n",
        "loaded_model_json = json_file.read()\n",
        "json_file.close()\n",
        "model_loaded = model_from_json(loaded_model_json)\n",
        "# load weights into new model\n",
        "model_loaded.load_weights(\"model_weight_5.h5\")"
      ]
    },
    {
      "cell_type": "markdown",
      "id": "9583cb12",
      "metadata": {
        "id": "9583cb12"
      },
      "source": [
        "**Plot results of accuracy**"
      ]
    },
    {
      "cell_type": "code",
      "execution_count": null,
      "id": "ea5a91bd",
      "metadata": {
        "id": "ea5a91bd",
        "outputId": "c3c164cb-15bb-43ab-de22-937eaaa9e6bf"
      },
      "outputs": [
        {
          "data": {
            "image/png": "[encoded data removed]",
            "text/plain": [
              "<Figure size 432x288 with 1 Axes>"
            ]
          },
          "metadata": {
            "needs_background": "light"
          },
          "output_type": "display_data"
        }
      ],
      "source": [
        "def plot_history(history,key='acc'):\n",
        "  plt.figure()\n",
        "  plt.xlabel('Epoch')\n",
        "  plt.ylabel('Accuracy')\n",
        "  plt.plot(history.epoch, np.array(history.history['acc']),\n",
        "           label='Train accuracy')\n",
        "  plt.legend()\n",
        "  plt.ylim([0, 1])\n",
        "\n",
        "plot_history(history)"
      ]
    },
    {
      "cell_type": "markdown",
      "id": "15dcd977",
      "metadata": {
        "id": "15dcd977"
      },
      "source": [
        "**Plot results of loss**"
      ]
    },
    {
      "cell_type": "code",
      "execution_count": null,
      "id": "70d10206",
      "metadata": {
        "id": "70d10206",
        "outputId": "7289619b-2d66-4dd3-f4b2-a0005476d59c"
      },
      "outputs": [
        {
          "data": {
            "image/png": "[encoded data removed]",
            "text/plain": [
              "<Figure size 432x288 with 1 Axes>"
            ]
          },
          "metadata": {
            "needs_background": "light"
          },
          "output_type": "display_data"
        }
      ],
      "source": [
        "def plot_history2(history):\n",
        "  plt.figure()\n",
        "  plt.xlabel('Epoch')\n",
        "  plt.ylabel('loss')\n",
        "  plt.plot(history.epoch, np.array(history.history['loss']),\n",
        "           label='Train loss')\n",
        "  plt.legend()\n",
        "  plt.ylim([0, 1.5])\n",
        "\n",
        "plot_history2(history)"
      ]
    },
    {
      "cell_type": "markdown",
      "id": "5f2379bf",
      "metadata": {
        "id": "5f2379bf"
      },
      "source": [
        "### Prediction using Word Level Model"
      ]
    },
    {
      "cell_type": "markdown",
      "id": "9b0fcf29",
      "metadata": {
        "id": "9b0fcf29"
      },
      "source": [
        "**Inference Setup**"
      ]
    },
    {
      "cell_type": "code",
      "execution_count": null,
      "id": "03125e3a",
      "metadata": {
        "id": "03125e3a",
        "outputId": "bfc0073f-7135-42da-ca01-84af14a03359"
      },
      "outputs": [
        {
          "name": "stdout",
          "output_type": "stream",
          "text": [
            "Model: \"model_1\"\n",
            "_________________________________________________________________\n",
            "Layer (type)                 Output Shape              Param #   \n",
            "=================================================================\n",
            "encoder_inputs (InputLayer)  [(None, None)]            0         \n",
            "_________________________________________________________________\n",
            "embedding (Embedding)        (None, None, 256)         937984    \n",
            "_________________________________________________________________\n",
            "lstm (LSTM)                  [(None, 256), (None, 256) 525312    \n",
            "=================================================================\n",
            "Total params: 1,463,296\n",
            "Trainable params: 1,463,296\n",
            "Non-trainable params: 0\n",
            "_________________________________________________________________\n"
          ]
        }
      ],
      "source": [
        "# Encode the input sequence to get the \"thought vectors\"\n",
        "encoder_model = Model(encoder_inputs, encoder_states)\n",
        "encoder_model.summary()\n",
        "\n",
        "# Decoder setup\n",
        "# Below tensors will hold the states of the previous time step\n",
        "decoder_state_input_h = Input(shape=(latent_dim,))\n",
        "decoder_state_input_c = Input(shape=(latent_dim,))\n",
        "decoder_states_inputs = [decoder_state_input_h, decoder_state_input_c]\n",
        "\n",
        "# Get the embeddings of the decoder sequence\n",
        "dec_emb2= dec_emb_layer(decoder_inputs)\n",
        "\n",
        "# To predict the next word in the sequence, set the initial states to the states from the previous time step\n",
        "decoder_outputs2, state_h2, state_c2 = decoder_lstm(dec_emb2, initial_state=decoder_states_inputs)\n",
        "decoder_states2 = [state_h2, state_c2]\n",
        "\n",
        "# A dense softmax layer to generate prob dist. over the target vocabulary\n",
        "decoder_outputs2 = decoder_dense(decoder_outputs2)\n",
        "\n",
        "# Final decoder model\n",
        "decoder_model = Model(\n",
        "    [decoder_inputs] + decoder_states_inputs,\n",
        "    [decoder_outputs2] + decoder_states2)\n"
      ]
    },
    {
      "cell_type": "code",
      "execution_count": null,
      "id": "18eace7d",
      "metadata": {
        "id": "18eace7d"
      },
      "outputs": [],
      "source": [
        "# Code to predict the input sentences translation\n",
        "def decode_sequence(input_seq):\n",
        "    # Encode the input as state vectors.\n",
        "    states_value = encoder_model.predict(input_seq)\n",
        "    \n",
        "    # Generate empty target sequence of length 1.\n",
        "    target_seq = np.zeros((1,1))\n",
        "    \n",
        "    # Populate the first character of target sequence with the start character.\n",
        "    target_seq[0, 0] = target_token_index['START']\n",
        "    #print(\"target_seq:=>\",target_seq)\n",
        "    \n",
        "    # Sampling loop for a batch of sequences\n",
        "    # (to simplify, here we assume a batch of size 1).\n",
        "    stop_condition = False\n",
        "    decoded_sentence = ''\n",
        "    \n",
        "    while not stop_condition:\n",
        "        output_tokens, h, c = decoder_model.predict([target_seq] + states_value)\n",
        "        # Sample a token\n",
        "        sampled_token_index = np.argmax(output_tokens[0, -1, :])\n",
        "        sampled_char = reverse_target_char_index[sampled_token_index]\n",
        "        decoded_sentence += ' '+sampled_char\n",
        "        \n",
        "        # Exit condition: either hit max length or find stop token.\n",
        "        if (sampled_char == 'END' or len(decoded_sentence) > 50):\n",
        "            stop_condition = True\n",
        "        \n",
        "        # Update the target sequence (of length 1).\n",
        "        target_seq = np.zeros((1,1))\n",
        "        target_seq[0, 0] = sampled_token_index\n",
        "        \n",
        "        # Update states\n",
        "        states_value = [h, c]\n",
        "    \n",
        "    return decoded_sentence"
      ]
    },
    {
      "cell_type": "code",
      "execution_count": null,
      "id": "090c3ae7",
      "metadata": {
        "id": "090c3ae7",
        "outputId": "19c3a973-b813-428c-d3b7-93eb74e5a6c6"
      },
      "outputs": [
        {
          "name": "stdout",
          "output_type": "stream",
          "text": [
            "Test sentence:  1\n",
            "sentence:  this isnt the first time ive ridden a bicycle\n",
            "original translate: đây không phải là lần đầu tôi đi xe đạp\n",
            "predicted Translate:  ngày qua được sinh ra cho chó vào trang\n",
            "====================================================================================================\n",
            "Test sentence:  2\n",
            "sentence:  do you have a brother\n",
            "original translate: bạn có anhem trai không\n",
            "predicted Translate:  đừng để chúng ta đi ngủ\n",
            "====================================================================================================\n",
            "Test sentence:  3\n",
            "sentence:  i have some time\n",
            "original translate: có có một ít thời gian\n",
            "predicted Translate:  đi bộ cho chuyện đó đang tìm một cách\n",
            "====================================================================================================\n",
            "Test sentence:  4\n",
            "sentence:  he never tells lies\n",
            "original translate: nó không bao giờ nói láo\n",
            "predicted Translate:  anh ấy đang đọc sách\n",
            "====================================================================================================\n",
            "Test sentence:  5\n",
            "sentence:  all of us were silent\n",
            "original translate: tất cả chúng tôi đều đã im lặng\n",
            "predicted Translate:  bạn hãy gọi tôi trong thư để tiết kiệm\n",
            "====================================================================================================\n",
            "Test sentence:  6\n",
            "sentence:  tom demanded an apology\n",
            "original translate: tom yêu cầu một lời xin lỗi\n",
            "predicted Translate:  tôi biết cô ấy ở đâu\n",
            "====================================================================================================\n",
            "Test sentence:  7\n",
            "sentence:  im not sure whats wrong\n",
            "original translate: tôi không rõ là chỗ nào sai\n",
            "predicted Translate:  tôi nghe thấy mày thấy được như thế nào ạ\n",
            "====================================================================================================\n",
            "Test sentence:  8\n",
            "sentence:  i hope that you will like it\n",
            "original translate: hy vọng bạn thích nó\n",
            "predicted Translate:  thật thà là sinh có thể chạy ở trong cuộc sống\n",
            "====================================================================================================\n",
            "Test sentence:  9\n",
            "sentence:  i opened the window\n",
            "original translate: tôi đã mở cửa sổ\n",
            "predicted Translate:  bây giờ là người như vậy\n",
            "====================================================================================================\n",
            "Test sentence:  10\n",
            "sentence:  they still want it\n",
            "original translate: họ vẫn muốn cái đó\n",
            "predicted Translate:  đó đã có một cách hoàn toàn\n",
            "====================================================================================================\n",
            "Test sentence:  11\n",
            "sentence:  i think youre underestimating tom\n",
            "original translate: tôi nghĩ là bạn đang đánh giá thấp tom rồi\n",
            "predicted Translate:  thôi sắp xảy ra\n",
            "====================================================================================================\n",
            "Test sentence:  12\n",
            "sentence:  im afraid i ate too much\n",
            "original translate: tôi lo là tôi đã ăn quá nhiều\n",
            "predicted Translate:  chỉ có thể giúp đỡ một sai lầm của chúng ta\n",
            "====================================================================================================\n",
            "Test sentence:  13\n",
            "sentence:  how do i get to the train station\n",
            "original translate: làm thế nào tôi có thể đi đến ga xe lửa\n",
            "predicted Translate:  một số người đi thể mà chúng tôi thấy\n",
            "====================================================================================================\n",
            "Test sentence:  14\n",
            "sentence:  i bought a house with the money i inherited from my grandfather\n",
            "original translate: tôi đã mua một ngôi nhà bằng tiền thừa kế của ông ngoại tôi\n",
            "predicted Translate:  hầu hết tôi nên đi bộ chúng tôi một chút được\n",
            "====================================================================================================\n",
            "Test sentence:  15\n",
            "sentence:  who did you meet\n",
            "original translate: bạn đã gặp ai thế\n",
            "predicted Translate:  tôi không hút thuốc\n",
            "====================================================================================================\n",
            "Test sentence:  16\n",
            "sentence:  do you need help with something\n",
            "original translate: bạn có cần giúp gì không\n",
            "predicted Translate:  chúng tôi không hút thuốc lá\n",
            "====================================================================================================\n",
            "Test sentence:  17\n",
            "sentence:  hes getting cold feet\n",
            "original translate: anh ấy đang sợ đến co rúm người lại\n",
            "predicted Translate:  con đông giúp bọn quản được\n",
            "====================================================================================================\n",
            "Test sentence:  18\n",
            "sentence:  you people cant stay here\n",
            "original translate: các người không thể ở đây\n",
            "predicted Translate:  phụ nữ có thể là kẻ tranh trước\n",
            "====================================================================================================\n",
            "Test sentence:  19\n",
            "sentence:  please telephone him\n",
            "original translate: xin hãy gọi điện cho ổng\n",
            "predicted Translate:  nó đã làm một hình\n",
            "====================================================================================================\n",
            "Test sentence:  20\n",
            "sentence:  a blind persons hearing is often very acute\n",
            "original translate: khả năng nghe của người mù thường rất tốt\n",
            "predicted Translate:  chúng tôi tìm được một công viên về nhà\n",
            "====================================================================================================\n",
            "Test sentence:  21\n",
            "sentence:  its driving me crazy\n",
            "original translate: cái này làm tôi phát điên mất\n",
            "predicted Translate:  rửa xe này là anh ấy\n",
            "====================================================================================================\n",
            "Test sentence:  22\n",
            "sentence:  are you all right\n",
            "original translate: bạn có làm sao không\n",
            "predicted Translate:  có lẽ là người ngồi máy bay\n",
            "====================================================================================================\n",
            "Test sentence:  23\n",
            "sentence:  tom is a good violinist\n",
            "original translate: tom là một người chơi violon giỏi\n",
            "predicted Translate:  tôi nên không được một nhà\n",
            "====================================================================================================\n",
            "Test sentence:  24\n",
            "sentence:  follow your sisters example\n",
            "original translate: con nên học theo chị con đi\n",
            "predicted Translate:  tôi đang bị rời đi trong vài tuần\n",
            "====================================================================================================\n",
            "Test sentence:  25\n",
            "sentence:  i promised tom id wait until\n",
            "original translate: tôi hứa với tom là tôi sẽ đợi đến  giờ\n",
            "predicted Translate:  có phải cứu một cái máy báo cho con mình\n",
            "====================================================================================================\n",
            "Test sentence:  26\n",
            "sentence:  tom spent fifteen minutes trying to pry open the drawer with a crowbar but he couldnt get it opened\n",
            "original translate: tom đã cố gắng dùng xà beng để mở cái ngăn kéo trong  phút nhưng cuối cùng vẫn không thể mở được\n",
            "predicted Translate:  đi bao nhiêu con giáo nên bị chạy trước khi ăn k\n",
            "====================================================================================================\n",
            "Test sentence:  27\n",
            "sentence:  from there one could see perfectly\n",
            "original translate: có một điểm nhìn hoàn hảo ở đằng đó\n",
            "predicted Translate:  cuộc sống của anh ta chưa\n",
            "====================================================================================================\n",
            "Test sentence:  28\n",
            "sentence:  i wouldnt have been able to finish the job without your help\n",
            "original translate: tôi đã không thể hoàn thành được công việc nếu không nhờ tới sự giúp đỡ của bạn\n",
            "predicted Translate:  sự ngồi trong những người đã bị tuyên tượng là vì\n",
            "====================================================================================================\n",
            "Test sentence:  29\n",
            "sentence:  can i take your bags\n",
            "original translate: tôi mang giỏ dùm bạn nhé\n",
            "predicted Translate:  một anh em ta đang ngủ\n",
            "====================================================================================================\n",
            "Test sentence:  30\n",
            "sentence:  tom isnt sure he wants to get involved\n",
            "original translate: tôm không chắc là anh ấy muốn tham gia\n",
            "predicted Translate:  tôi chỉ thể đi ra ngoài được một ngày mình\n",
            "====================================================================================================\n"
          ]
        }
      ],
      "source": [
        "def tokenizer_(text_data):\n",
        "  tokenizer = Tokenizer()\n",
        "  tokenizer.fit_on_texts(text_data)\n",
        "  return tokenizer\n",
        "\n",
        "tokenizer_input = tokenizer_(X_train)\n",
        "\n",
        "for i in range(30):\n",
        "  sentence = X_test[i]\n",
        "  original_target = y_test[i]\n",
        "  #input_seq = target_token_index.texts_to_sequences([sentence])\n",
        "  input_seq = tokenizer_input.texts_to_sequences([sentence])\n",
        "  pad_sequence = pad_sequences(input_seq, maxlen= 30, padding='post')\n",
        "  predicted_target = decode_sequence(pad_sequence)\n",
        "  print(\"Test sentence: \",i+1)\n",
        "  print(\"sentence: \",sentence)\n",
        "  print(\"original translate:\",original_target[6:-4]) #don't print start and end\n",
        "  print(\"predicted Translate:\",predicted_target[:-4]) ##don't print end\n",
        "  print(\"==\"*50)"
      ]
    },
    {
      "cell_type": "markdown",
      "id": "74b708d0",
      "metadata": {
        "id": "74b708d0"
      },
      "source": [
        "### Model Performance"
      ]
    },
    {
      "cell_type": "markdown",
      "id": "a3ab1175",
      "metadata": {
        "id": "a3ab1175"
      },
      "source": [
        "The model has a very high accuracy of around 98% but the predicted translation at the end isn't good. \n",
        "The limitation of the simple seq2seq language translation word level model is that it is not able to translate a lengthy sentence that efficiently."
      ]
    },
    {
      "cell_type": "markdown",
      "id": "f9bc2404",
      "metadata": {
        "id": "f9bc2404"
      },
      "source": [
        "### Scope of Improvement"
      ]
    },
    {
      "cell_type": "markdown",
      "id": "2a5e37e8",
      "metadata": {
        "id": "2a5e37e8"
      },
      "source": [
        "Here are my suggestions:\n",
        "- we can train the model on a large dataset with lots of variation in it.\n",
        "- For lengthy Sentance limitation of it, we can include the Attention Mechanism.\n",
        "- We can try replacing GRU with LSTM and check the performance of the model."
      ]
    },
    {
      "cell_type": "code",
      "execution_count": null,
      "id": "ee5cfd65",
      "metadata": {
        "id": "ee5cfd65"
      },
      "outputs": [],
      "source": [
        ""
      ]
    }
  ],
  "metadata": {
    "kernelspec": {
      "display_name": "Python 3 (ipykernel)",
      "language": "python",
      "name": "python3"
    },
    "language_info": {
      "codemirror_mode": {
        "name": "ipython",
        "version": 3
      },
      "file_extension": ".py",
      "mimetype": "text/x-python",
      "name": "python",
      "nbconvert_exporter": "python",
      "pygments_lexer": "ipython3",
      "version": "3.8.11"
    },
    "colab": {
      "name": "Seq2Seq Language Translation model, word level model",
      "provenance": []
    }
  },
  "nbformat": 4,
  "nbformat_minor": 5
}